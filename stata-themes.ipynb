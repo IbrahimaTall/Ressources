{
 "cells": [
  {
   "cell_type": "markdown",
   "metadata": {},
   "source": [
    "**<span style=\"color:OrangeRed; font-size:250%\">Nighteen Subject-specific statistics modeling using STATA </span>**"
   ]
  },
  {
   "cell_type": "markdown",
   "metadata": {},
   "source": [
    ">\n",
    "> <span style=\"color:moccasin\">By </span> <span style=\"color:orange\">M. **Ibrahima TALL** </span>\n",
    ">\n",
    "> <span style=\"color:orchid\"> Statistician at ANSD (Statistic and Demography National agency)</span>\n",
    ">"
   ]
  },
  {
   "cell_type": "markdown",
   "metadata": {},
   "source": [
    "****"
   ]
  },
  {
   "cell_type": "markdown",
   "metadata": {},
   "source": [
    "<span style=\"color:peru\">Bayesian analysis starts with</span> <span style=\"color:gold\"> the specification of a **posterior** model.</span> <span style=\"color:peru\"> The **posterior** distribution has two components: a likelihood, which includes information about model parameters based on the bserved data, and a prior, which includes prior  information (before observing the data) about model parameters. **<span style=\"color:gold\">Inference</span>** <span style=\"color:peru\">  is the next step of Bayesian analysis. If MCMC sampling is used for approximating the posterior distribution, the convergence of MCMC (Markov Chain Monte Carlo) must be established before proceeding to inference.</span> <span style=\"color:peru\">Another important step of Bayesian analysis is</span> **<span style=\"color:gold\">model checking</span>** <span style=\"color:peru\">, which is typically performed via posterior predictive checking.</span> **<span style=\"color:gold\">Model comparison</span>** <span style=\"color:peru\">is another common step of Bayesian analysis. Finally,</span> **<span style=\"color:gold\">prediction</span>** <span style=\"color:peru\">of some future unobserved data may also be of interest in Bayesian analysis.</span>"
   ]
  },
  {
   "cell_type": "markdown",
   "metadata": {},
   "source": [
    "**<span style=\"color:crimson;font-size:150%\"> Table of contents </span>**  \n",
    "\n",
    "1. <span style=\"color:olive\">Bayesian analysis</span>  \n",
    "2. <span style=\"color:olive\">Choice Models</span>\n",
    "3. <span style=\"color:olive\">Dynamic Stochastic General Equilibrium Models</span>\n",
    "4. <span style=\"color:olive\">Extended Regression Models</span>\n",
    "5. <span style=\"color:olive\">Finite Mixture Models</span>\n",
    "6. <span style=\"color:olive\">Item Response Theory</span>\n",
    "7. <span style=\"color:olive\">Lasso</span>\n",
    "8. <span style=\"color:olive\">Longitudinal-Data/Panel-Data</span>\n",
    "9. <span style=\"color:olive\">Meta-Analysis</span>\n",
    "10. <span style=\"color:olive\">Multilevel Mixed-Effects</span>\n",
    "11. <span style=\"color:olive\">Multiple-Imputation</span>\n",
    "12. <span style=\"color:olive\">Multivariate Statistics</span>\n",
    "13. <span style=\"color:olive\">Power, Precision, and Sample-Size</span>\n",
    "14. <span style=\"color:olive\">Spatial Autoregressive Models</span>\n",
    "15. <span style=\"color:olive\">Structural Equation Modeling</span>\n",
    "16. <span style=\"color:olive\">Survey Data</span>\n",
    "17. <span style=\"color:olive\">Survival Analysis</span>\n",
    "18. <span style=\"color:olive\">Time Series</span>\n",
    "19. <span style=\"color:olive\">Treatment Effects </span>\n",
    "\n",
    "<span style=\"color:peru\">In each chapter, an real examples will studed to show all STATA command syntax using in coresponding cases.</span>  "
   ]
  },
  {
   "cell_type": "markdown",
   "metadata": {
    "heading_collapsed": true
   },
   "source": [
    "# **<span style=\"color:crimson;font-size:150%\"> I. Bayesian analysis </span>**"
   ]
  },
  {
   "cell_type": "code",
   "execution_count": null,
   "metadata": {
    "hidden": true
   },
   "outputs": [],
   "source": [
    "use oxygen, clear\n",
    "describe\n",
    "regress change group age //OLS"
   ]
  },
  {
   "cell_type": "code",
   "execution_count": null,
   "metadata": {
    "hidden": true
   },
   "outputs": [],
   "source": [
    "* Bayesian normal linear regression with noninformative prior\n",
    "bayesmh change group age, likelihood(normal({var})) prior({change:}, flat) prior({var}, jeffreys)\n",
    "/* The lower bound of the interval is greater than 0, so we conclude that there is an effect of the exercise program \n",
    "on the change in oxygen uptake. A low acceptance rate (for example, below 10%) may indicate convergence problems*/"
   ]
  },
  {
   "cell_type": "code",
   "execution_count": null,
   "metadata": {
    "hidden": true
   },
   "outputs": [],
   "source": [
    "*Bayesian linear regression with informative prior\n",
    "set seed 14\n",
    "bayesmh change group age, likelihood(normal({var})) prior({change:}, normal(0, {var})) prior({var}, igamma(2.5, 2.5))"
   ]
  },
  {
   "cell_type": "code",
   "execution_count": null,
   "metadata": {
    "hidden": true
   },
   "outputs": [],
   "source": [
    "/* Bayesian normal linear regression with multivariate prior: Zellner’s g-prior the more commonly \n",
    "   used priors for the regression coefficients in a normal linear regression */\n",
    "set seed 14\n",
    "bayesmh change group age, likelihood(normal({var})) prior({change:}, zellnersg0(3,12,{var})) prior({var}, igamma(0.5, 4))"
   ]
  },
  {
   "cell_type": "code",
   "execution_count": null,
   "metadata": {
    "hidden": true
   },
   "outputs": [],
   "source": [
    "* We can reproduce what zellnersg0() does above manually\n",
    "matrix accum xTx = group age\n",
    "matrix accum xTx = group age\n",
    "matrix S = syminv(xTx)\n",
    "set seed 14\n",
    "bayesmh change group age, likelihood(normal({var})) prior({change:}, mvnormal0(3,12*{var}*S)) prior({var}, igamma(0.5, 4))"
   ]
  },
  {
   "cell_type": "code",
   "execution_count": null,
   "metadata": {
    "hidden": true
   },
   "outputs": [],
   "source": [
    "* Checking convergence\n",
    "bayesgraph diagnostics {change:group}\n",
    "bayesgraph diagnostics _all //To see all model\n",
    "bayesstats ess // Effective sample sizes and statistics related to them\n",
    "bayesgraph diagnostics{var} \n",
    "* The closer ESS estimates are to the MCMC sample size, the less correlated the MCMC \n",
    "* sample is, and the more precise our estimates of parameters are*/\n",
    "* Putting the variance parameter in a separate block\n",
    "bayesmh change group age, likelihood(normal({var})) prior({change:}, zellnersg0(3,12,{var})) ///\n",
    " prior({var}, igamma(0.5, 4)) block({var}) saving(agegroup_simdata)\n",
    "estimates store agegroup //store current estimation results as agegroup for future use\n",
    "bayesgraph diagnostics {change:group}{var}"
   ]
  },
  {
   "cell_type": "code",
   "execution_count": null,
   "metadata": {
    "hidden": true
   },
   "outputs": [],
   "source": [
    "* Postestimation summaries\n",
    "summarize group\n",
    "scalar sd_x = r(sd)\n",
    "summarize change\n",
    "scalar sd_y = r(sd)\n",
    "bayesstats summary (group_std:{change:group}*sd_x/sd_y)"
   ]
  },
  {
   "cell_type": "code",
   "execution_count": null,
   "metadata": {
    "hidden": true
   },
   "outputs": [],
   "source": [
    "* Bayesian predictions\n",
    "bayespredict {_ysim}, saving(change_pred) rseed(16)\n",
    "bayesstats summary {_ysim} using change_pred //calculate posterior summaries\n",
    "bayesstats ppvalues {_ysim} using change_pred /*assess goodness of fit of the model is by comparing \n",
    "                                                replicated outcome samples with the observed outcome sample. \n",
    "                                                The discrepancy between these two can be measured using the\n",
    "                                                so-called posterior predictive p-values */"
   ]
  },
  {
   "cell_type": "code",
   "execution_count": null,
   "metadata": {
    "hidden": true
   },
   "outputs": [],
   "source": [
    "* We want to predict the outcome change for the new observations\n",
    "set obs 14\n",
    "replace group = 1 in 13\n",
    "replace group = 0 in 14\n",
    "replace age = 26 in 13/14\n",
    "bayespredict pmean, mean rseed(16)\n",
    "/* Finally, we drop the two new observations we added and erase the prediction dataset and the\n",
    "auxiliary estimation file created by bayespredict */\n",
    "drop in 13/14\n",
    "erase change_pred.dta\n",
    "erase change_pred.ster"
   ]
  },
  {
   "cell_type": "code",
   "execution_count": null,
   "metadata": {
    "hidden": true
   },
   "outputs": [],
   "source": [
    "* Model comparison\n",
    "set seed 14\n",
    "bayesmh change group age ageXgr, likelihood(normal({var})) prior({change:}, zellnersg0(4,12,{var})) ///\n",
    "    prior({var}, igamma(0.5, 4)) block({var}) saving(full_simdata)\n",
    "\n",
    "estimates store full\n",
    "bayesstats ic full agegroup //Kass and Raftery table scale, 2 × 1.28 = 2.56 is greater than 2: so agegroup < full"
   ]
  },
  {
   "cell_type": "code",
   "execution_count": null,
   "metadata": {
    "hidden": true
   },
   "outputs": [],
   "source": [
    "* Hypothesis testing\n",
    "bayestest model full agegroup\n",
    "\n",
    "estimates restore agegroup //load the results of the agegroup model back into memory\n",
    "bayestest interval {change:group}, lower(4) upper(8) //compute probability that coefficient for group between 4 and 8"
   ]
  },
  {
   "cell_type": "code",
   "execution_count": null,
   "metadata": {
    "hidden": true
   },
   "outputs": [],
   "source": [
    "* Erasing simulation datasets: remove both simulation files we created using bayesmh\n",
    "erase agegroup_simdata.dta\n",
    "erase full_simdata.dta"
   ]
  },
  {
   "cell_type": "code",
   "execution_count": null,
   "metadata": {
    "hidden": true
   },
   "outputs": [],
   "source": [
    "* Bayesian linear regression using the bayes prefix\n",
    "set seed 14\n",
    "bayes: regress change group age"
   ]
  },
  {
   "cell_type": "code",
   "execution_count": null,
   "metadata": {
    "hidden": true
   },
   "outputs": [],
   "source": [
    "set seed 14\n",
    "bayes, gibbs: regress change group age //Request Gibbs sampling. Available only with bayes: regress and bayes: mvreg"
   ]
  },
  {
   "cell_type": "code",
   "execution_count": null,
   "metadata": {
    "hidden": true
   },
   "outputs": [],
   "source": [
    "set seed 14\n",
    "bayes, prior({change:}, zellnersg0(3,12,{sigma2})) prior({sigma2}, igamma(0.5, 4)): regress change group age"
   ]
  },
  {
   "cell_type": "code",
   "execution_count": null,
   "metadata": {
    "hidden": true
   },
   "outputs": [],
   "source": [
    "set seed 14\n",
    "bayes, prior({change:}, zellnersg0(3,12,{sigma2})) prior({sigma2}, igamma(0.5, 4)) noblocking: regress change group age"
   ]
  },
  {
   "cell_type": "markdown",
   "metadata": {
    "heading_collapsed": true
   },
   "source": [
    "# **<span style=\"color:crimson;font-size:150%\"> II. Choice Model (Modelisation des choix)</span>**"
   ]
  },
  {
   "cell_type": "markdown",
   "metadata": {
    "hidden": true
   },
   "source": [
    "**<span style=\"color:DarkGreen;font-size:200%\"> II.1 Interpretation of choice models </span>**"
   ]
  },
  {
   "cell_type": "code",
   "execution_count": null,
   "metadata": {
    "hidden": true
   },
   "outputs": [],
   "source": [
    "* Interpretation of coefficients\n",
    "use https://www.stata-press.com/data/r16/travel, clear"
   ]
  },
  {
   "cell_type": "code",
   "execution_count": null,
   "metadata": {
    "hidden": true
   },
   "outputs": [],
   "source": [
    "desc"
   ]
  },
  {
   "cell_type": "code",
   "execution_count": null,
   "metadata": {
    "hidden": true
   },
   "outputs": [],
   "source": [
    "generate time = traveltime+termtime // total travel time"
   ]
  },
  {
   "cell_type": "code",
   "execution_count": null,
   "metadata": {
    "hidden": true
   },
   "outputs": [],
   "source": [
    "/* We use cmset to specify that the id variable identifies the travelers and the mode variable records the possible\n",
    "    methods of travel, called alternatives */\n",
    "cmset id mode"
   ]
  },
  {
   "cell_type": "code",
   "execution_count": null,
   "metadata": {
    "hidden": true
   },
   "outputs": [],
   "source": [
    "cmclogit choice time, casevars(income partysize) //casevars() option for only one value per individual (or case)"
   ]
  },
  {
   "cell_type": "code",
   "execution_count": null,
   "metadata": {
    "hidden": true
   },
   "outputs": [],
   "source": [
    "margins // obtain the average predicted probability of choosing each method of travel"
   ]
  },
  {
   "cell_type": "code",
   "execution_count": null,
   "metadata": {
    "hidden": true
   },
   "outputs": [],
   "source": [
    "margins, at(income=(30(10)70)) outcome(car) // Expected probabilities of car travel for counterfactual income\n",
    "marginsplot // visualize the effect of income on car travel"
   ]
  },
  {
   "cell_type": "code",
   "execution_count": null,
   "metadata": {
    "hidden": true
   },
   "outputs": [],
   "source": [
    "/* test for differences in the expected probabilities: nowald and effects options to simplify output */\n",
    "margins, at(income=(30(10)70)) outcome(car) contrast(atcontrast(ar) nowald effects)"
   ]
  },
  {
   "cell_type": "code",
   "execution_count": null,
   "metadata": {
    "hidden": true
   },
   "outputs": [],
   "source": [
    "margins, at(income=(30(10)70)) outcome(train) // Effet on train travel instead of car as above\n",
    "marginsplot\n",
    "margins, at(income=(30(10)70)) outcome(train) contrast(atcontrast(ar) nowald effects)"
   ]
  },
  {
   "cell_type": "code",
   "execution_count": null,
   "metadata": {
    "hidden": true
   },
   "outputs": [],
   "source": [
    "margins, at(income=(30(10)70)) // for each method of travel\n",
    "marginsplot, noci // omit the confidence intervals so that it is easy to see the probabilities\n",
    "margins, at(income=30) contrast(outcomejoint) // Testing if all four methods of travel equally likely to be selected"
   ]
  },
  {
   "cell_type": "code",
   "execution_count": null,
   "metadata": {
    "hidden": true
   },
   "outputs": [],
   "source": [
    "* difference in the expected probabilities of selecting train and bus travel\n",
    "margins, at(income=50) outcome(bus train) contrast(outcomecontrast(r) nowald effects)"
   ]
  },
  {
   "cell_type": "code",
   "execution_count": null,
   "metadata": {
    "hidden": true
   },
   "outputs": [],
   "source": [
    "* Instead of effect on continu variable (income) what is effect on categorical variable\n",
    "xtile income_cat = income, nquantiles(4)\n",
    "label define quartiles 1 \"Quartile 1\" 2 \"Quartile 2\" 3 \"Quartile 3\" 4 \"Quartile 4\"\n",
    "label values income_cat quartiles\n",
    "\n",
    "cmclogit choice time, casevars(i.income_cat partysize)\n",
    "margins income_cat, outcome(train)\n",
    "marginsplot\n",
    "\n",
    "* We use the ar. operator to test for differences in the expected probabilities across adjacent income quartiles\n",
    "margins ar.income_cat, outcome(train) contrast(nowald effects) //ar.income_cat because of categorical type"
   ]
  },
  {
   "cell_type": "code",
   "execution_count": null,
   "metadata": {
    "hidden": true
   },
   "outputs": [],
   "source": [
    "* Wait times at the airport increase by 60 minutes for all flights?\n",
    "margins, at(time=generate(time+60)) alternative(air)"
   ]
  },
  {
   "cell_type": "code",
   "execution_count": null,
   "metadata": {
    "hidden": true
   },
   "outputs": [],
   "source": [
    "margins, at(time=generate(time)) at(time=generate(time+60)) alternative(air) // The two probabilities for comparaison"
   ]
  },
  {
   "cell_type": "code",
   "execution_count": null,
   "metadata": {
    "hidden": true
   },
   "outputs": [],
   "source": [
    "* Plot two scenarios together include the xdimension() option to place the four travel choices along the x axis\n",
    "marginsplot, xdimension(_outcome)"
   ]
  },
  {
   "cell_type": "code",
   "execution_count": null,
   "metadata": {
    "hidden": true
   },
   "outputs": [],
   "source": [
    "* contrasts to test for a difference: atcontrast to specify test between at \n",
    "margins, at(time=generate(time)) at(time=generate(time+60)) alternative(air) contrast(atcontrast(r) nowald effects)"
   ]
  },
  {
   "cell_type": "code",
   "execution_count": null,
   "metadata": {
    "hidden": true
   },
   "outputs": [],
   "source": [
    "* Testing new scenario\n",
    "generate newtime = time\n",
    "replace newtime = time + 60 if mode == 1\n",
    "replace newtime = time-60 if mode == 2\n",
    "\n",
    "* alternative(simultaneous) option to specify that the changes to air and train travel be made simultaneously\n",
    "margins, at(time=generate(time)) at(time=generate(newtime)) alternative(simultaneous)\n",
    "marginsplot, xdimension(_outcome)\n",
    "\n",
    "* contrasts to test for a difference: atcontrast to specify test between at \n",
    "margins, at(time=generate(time)) at(time=generate(newtime)) alternative(simultaneous) contrast(atcontrast(r) nowald effects)"
   ]
  },
  {
   "cell_type": "markdown",
   "metadata": {
    "hidden": true
   },
   "source": [
    "**<span style=\"color:DarkGreen;font-size:200%\"> II.2 Data layout </span>**"
   ]
  },
  {
   "cell_type": "code",
   "execution_count": null,
   "metadata": {
    "hidden": true
   },
   "outputs": [],
   "source": [
    "* Data layout for choice models: requiert long format instead of wide\n",
    "use http://www.stata-press.com/data/r16/carchoice, clear\n",
    "\n",
    "ist consumerid car purchase gender income dealers if consumerid <= 3, sepby(consumerid) abbrev(10)\n",
    "/*\n",
    "***************************************************************************************\n",
    "    consumerid = case ID variable\n",
    "    car = alternatives\n",
    "    purchase = Choice (For discrete choice models dependent variable in the estimation)\n",
    "    gender and income = case-specific variables; they are constant within case\n",
    "    dealers = alternative-specific variable\n",
    "***************************************************************************************\n",
    "*/"
   ]
  },
  {
   "cell_type": "code",
   "execution_count": null,
   "metadata": {
    "hidden": true
   },
   "outputs": [],
   "source": [
    "* cmset: Cross-sectional data\n",
    "cmset consumerid car // we pass the case ID variable and alternatives variable as arguments\n",
    "cmchoiceset // Tabulation of choice-set possibilities"
   ]
  },
  {
   "cell_type": "code",
   "execution_count": null,
   "metadata": {
    "hidden": true
   },
   "outputs": [],
   "source": [
    "cmset consumerid, noalternatives // When there is no alternatives variable as in cmrologit estimator"
   ]
  },
  {
   "cell_type": "code",
   "execution_count": null,
   "metadata": {
    "hidden": true
   },
   "outputs": [],
   "source": [
    "* cmset: Panel data\n",
    "use http://www.stata-press.com/data/r16/transport.dta, clear\n",
    "list id t alt if id == 1, sepby(t)\n",
    "\n",
    "cmset id t alt // For panel choice data, cmset takes three variables"
   ]
  },
  {
   "cell_type": "markdown",
   "metadata": {
    "hidden": true
   },
   "source": [
    "**<span style=\"color:DarkGreen;font-size:200%\"> II.3 Descriptive statistics </span>**"
   ]
  },
  {
   "cell_type": "code",
   "execution_count": null,
   "metadata": {
    "hidden": true
   },
   "outputs": [],
   "source": [
    "* Descriptive statistics using car choice data again\n",
    "use http://www.stata-press.com/data/r16/carchoice, clear\n",
    "list consumerid car purchase gender income if consumerid <= 3, sepby(consumerid) abbrev(10)\n",
    "cmset consumerid car\n",
    "cmchoiceset\n",
    "label list nation\n",
    "cmclogit purchase dealers, casevars(i.gender income) // cmchoiceset can be used after a cm estimation\n",
    "cmchoiceset if e(sample) // cmchoiceset restricted to the estimation sample. missing values are handled casewise\n",
    "\n",
    "cmclogit purchase dealers, casevars(i.gender income) altwise // altwise not suppress entire case, just line missing\n",
    "cmchoiceset if e(sample) // Now total number of observations increase\n",
    "cmtab, choice(purchase) //\n",
    "cmtab gender, choice(purchase) column // cmtab with a variable gives a tabulation\n",
    "cmsummarize income, choice(purchase) stats(p25 p50 p75) format(%5.1f) // Summarize stats\n"
   ]
  },
  {
   "cell_type": "markdown",
   "metadata": {
    "hidden": true
   },
   "source": [
    "**<span style=\"color:DarkGreen;font-size:200%\"> II.4 Models for discrete choices </span>**"
   ]
  },
  {
   "cell_type": "markdown",
   "metadata": {
    "hidden": true
   },
   "source": [
    "<span style=\"color:peru\">Discrete choices models are:</span>  \n",
    "- <span style=\"color:olive\">**cmclogit**: McFadden’s choice model</span>\n",
    "- <span style=\"color:olive\">**cmmixlogit**: Mixed logit choice models</span>\n",
    "- <span style=\"color:olive\">**cmmprobit**: Multinomial probit choice models</span>\n",
    "- <span style=\"color:olive\">**nlogit**: Nested logit choice models</span>"
   ]
  },
  {
   "cell_type": "code",
   "execution_count": null,
   "metadata": {
    "hidden": true
   },
   "outputs": [],
   "source": [
    "******************************************************************************************************************\n",
    "*************************************** cmclogit: McFadden’s choice model ****************************************\n",
    "******************************************************************************************************************\n",
    "\n",
    "/* Note that alternative-specific variables (if any) follow the dependent variable. Case-specific variables\n",
    "(if any) are placed in the option casevars() */\n",
    "cmclogit purchase dealers, casevars(i.gender income) // Conditional logit regression model\n",
    "\n",
    "* Looking at cases with missing values using cmsample\n",
    "cmsample dealers, choice(purchase) casevars(i.gender income) // Missing for model above: in the casevars\n",
    "cmsample, casevars(i.gender) generate(flag) // Missing at gender alone with cmsample and gen flag to indicate missing\n",
    "\n",
    "sort consumerid car // sorting and listing missing cases\n",
    "list consumerid car gender flag if flag != 0, sepby(consumerid) abbr(10)\n",
    "\n",
    "* margins after CM estimation\n",
    "margins, at(dealers=generate(dealers+1)) alternative(European)\n",
    "margins, at(dealers=generate(dealers)) at(dealers=generate(dealers+1)) alternative(European) contrast(atcontrast(r) nowald)\n",
    "* Only those consumers who have Korean in their choice set, we can use the outcome( : : : , altsubpop) option\n",
    "margins, at(dealers=generate(dealers)) at(dealers=generate(dealers+1)) alternative(European) contrast(atcontrast(r) nowald) outcome(Korean, altsubpop)"
   ]
  },
  {
   "cell_type": "code",
   "execution_count": null,
   "metadata": {
    "hidden": true
   },
   "outputs": [],
   "source": [
    "******************************************************************************************************************\n",
    "*************************************** cmmixlogit: Mixed logit choice models ************************************\n",
    "******************************************************************************************************************\n",
    "\n",
    "* Like cmclogit, cmmixlogit is used to model the probability that a decision maker chooses one alternative\n",
    "* Mixed logit choice models can fit random coefficients for alternative-specific variables\n",
    "cmmixlogit purchase, random(dealers) casevars(i.gender income)"
   ]
  },
  {
   "cell_type": "code",
   "execution_count": null,
   "metadata": {
    "hidden": true
   },
   "outputs": [],
   "source": [
    "* We fit the model again using a lognormal distribution for the coefficient of dealers\n",
    "cmmixlogit purchase, random(dealers, lognormal) casevars(i.gender income)"
   ]
  },
  {
   "cell_type": "code",
   "execution_count": null,
   "metadata": {
    "hidden": true
   },
   "outputs": [],
   "source": [
    "/* Because we want\n",
    "fixed coefficients on Japanese and Korean indicators, we type i(2 4).car in the fixed portion of the\n",
    "model. To get random coefficients for the European constant, we type random(i3.car). We also\n",
    "specify the options noconstant and collinear (or else cmmixlogit would drop the constants)*/\n",
    "cmmixlogit purchase dealers i(2 4).car, random(i3.car) casevars(i.gender income) noconstant collinear"
   ]
  },
  {
   "cell_type": "code",
   "execution_count": null,
   "metadata": {
    "hidden": true
   },
   "outputs": [],
   "source": [
    "******************************************************************************************************************\n",
    "********************************* cmmprobit: Multinomial probit choice models ************************************\n",
    "******************************************************************************************************************\n",
    "\n",
    "* cmmprobit: Multinomial probit choice models\n",
    "cmmprobit purchase dealers, casevars(i.gender income) factor(1)\n",
    "estat covariance\n",
    "estat correlation\n",
    "\n",
    "cmmprobit purchase dealers, casevars(i.gender income) factor(1) structural\n",
    "estat covariance\n",
    "estat correlation"
   ]
  },
  {
   "cell_type": "code",
   "execution_count": null,
   "metadata": {
    "hidden": true
   },
   "outputs": [],
   "source": [
    "******************************************************************************************************************\n",
    "********************************* nlogit: Nested logit choice models *********************************************\n",
    "******************************************************************************************************************\n",
    "\n",
    "/* nlogit: Nested logit choice models : data could represent first-level choices of what restaurant to dine at \n",
    "and second-level choices of what is ordered at the restaurant.The second-level are conditional on the first-level\n",
    "This is not a cm command\n",
    "*/\n",
    "help nlogit"
   ]
  },
  {
   "cell_type": "markdown",
   "metadata": {
    "hidden": true
   },
   "source": [
    "**<span style=\"color:peru\"> Relationships with other estimation commands</span>**"
   ]
  },
  {
   "cell_type": "code",
   "execution_count": null,
   "metadata": {
    "hidden": true
   },
   "outputs": [],
   "source": [
    "* Duplicating cmclogit using clogit: for comparaison\n",
    "drop if flag != 0 // Dealing with missing\n",
    "clogit purchase dealers car##gender car##c.income, group(consumerid) // Same with cmclogit"
   ]
  },
  {
   "cell_type": "code",
   "execution_count": null,
   "metadata": {
    "hidden": true
   },
   "outputs": [],
   "source": [
    "/* Multinomial logistic regression and McFadden’s choice model: Multinomial logistic regression (mlogit) is a \n",
    "    special case of McFadden’s choice model (cmclogit)*/\n",
    "cmchoiceset, generate(choiceset) \n",
    "keep if choiceset == \"1 2 3 4\":choiceset // We will only work with balanced data\n",
    "\n",
    "cmclogit purchase, casevars(i.gender income)\n",
    "keep if purchase == 1 // To fit mlogit\n",
    "mlogit car i.gender income // The estimates are identical"
   ]
  },
  {
   "cell_type": "code",
   "execution_count": null,
   "metadata": {
    "hidden": true
   },
   "outputs": [],
   "source": [
    "use https://www.stata-press.com/data/r16/carchoice, clear\n",
    "cmset consumerid car\n",
    "quietly cmmprobit purchase dealers, casevars(i.gender income) factor(1) intpoints(2000) // Integration points up704\n",
    "matrix b2000 = e(b)\n",
    "quietly cmmprobit purchase dealers, casevars(i.gender income) factor(1) intpoints(4000) // Integration points up704\n",
    "matrix b4000 = e(b)\n",
    "display mreldif(b704, b2000) // Relative difference between matrices"
   ]
  },
  {
   "cell_type": "markdown",
   "metadata": {
    "hidden": true
   },
   "source": [
    "**<span style=\"color:DarkGreen;font-size:200%\">II.5 Models for rank-ordered alternatives </span>**"
   ]
  },
  {
   "cell_type": "markdown",
   "metadata": {
    "hidden": true
   },
   "source": [
    "<span style=\"color:peru\">Rank-ordered alternatives models are:</span>  \n",
    "- <span style=\"color:olive\">**cmroprobit**: Probit regression for rank-ordered alternatives</span>\n",
    "- <span style=\"color:olive\">**cmrologit**: Logistic regression for rank-ordered alternatives</span>"
   ]
  },
  {
   "cell_type": "code",
   "execution_count": null,
   "metadata": {
    "hidden": true
   },
   "outputs": [],
   "source": [
    "******************************************************************************************************************\n",
    "************************ cmroprobit: Probit regression for rank-ordered alternatives *****************************\n",
    "******************************************************************************************************************\n",
    "\n",
    "use http://www.stata-press.com/data/r16/wlsrank, clear\n",
    "keep if noties\n",
    "generate currentjob = 1 if low==1\n",
    "replace currentjob = 2 if low==0 & high==0\n",
    "replace currentjob = 3 if high==1\n",
    "label define current 1 \"Low\" 2 \"Neither\" 3 \"High\"\n",
    "label values currentjob current\n",
    "list id jobchar rank female score currentjob in 1/12, sepby(id)\n",
    "\n",
    "cmset id jobchar\n",
    "* cmroprobit: Probit regression for rank-ordered alternatives\n",
    "cmroprobit rank i.currentjob, casevars(i.female score) reverse structural\n",
    "estat covariance\n",
    "estat correlation\n",
    "margins 3.currentjob, alternative(security)"
   ]
  },
  {
   "cell_type": "code",
   "execution_count": null,
   "metadata": {
    "hidden": true
   },
   "outputs": [],
   "source": [
    "******************************************************************************************************************\n",
    "************************ cmrologit: Logistic regression for rank-ordered alternatives ****************************\n",
    "******************************************************************************************************************\n",
    "\n",
    "list pref female age grades edufit workexp if caseid == 7, noobs\n",
    "cmset caseid, noalternatives\n",
    "cmrologit pref i.female i.age i.grades i.edufit i.workexp, baselevels"
   ]
  },
  {
   "cell_type": "markdown",
   "metadata": {
    "hidden": true
   },
   "source": [
    "**<span style=\"color:DarkGreen;font-size:200%\"> II.6 Models for panel data </span>**"
   ]
  },
  {
   "cell_type": "code",
   "execution_count": null,
   "metadata": {
    "hidden": true
   },
   "outputs": [],
   "source": [
    "use http://www.stata-press.com/data/r16/transport //mixed logit model to panel choice data\n",
    "list if id <= 2, sepby(t)\n",
    "cmset id t alt\n",
    "list id t alt _caseid _panelaltid if id <= 2, sepby(alt) abbr(11)\n",
    "cmxtmixlogit choice trcost, random(trtime) casevars(age income)\n",
    "\n",
    "xtset // Time-series operators\n",
    "cmxtmixlogit choice, random(trtime L.trtime, correlated) casevars(age income)\n",
    "\n",
    "* Using other cm estimation commands with panel data\n",
    "cmclogit choice trcost trtime, casevars(age income)"
   ]
  },
  {
   "cell_type": "markdown",
   "metadata": {
    "heading_collapsed": true
   },
   "source": [
    "# **<span style=\"color:crimson;font-size:150%\"> III. Dynamic Stochastic General Equilibrum</span>**"
   ]
  },
  {
   "cell_type": "markdown",
   "metadata": {
    "hidden": true
   },
   "source": [
    "**<span style=\"color:DarkGreen;font-size:200%\"> III.1 Introduction to DSGEs </span>**"
   ]
  },
  {
   "cell_type": "markdown",
   "metadata": {
    "hidden": true
   },
   "source": [
    "**<span style=\"color:DarkGreen;font-size:150%\"> An example: A nonlinear DSGE model </span>**"
   ]
  },
  {
   "cell_type": "code",
   "execution_count": null,
   "metadata": {
    "hidden": true
   },
   "outputs": [],
   "source": [
    "****************************************** Data preparation ********************************************************\n",
    "use http://www.stata-press.com/data/r16/rates2, clear\n",
    "tsset // First, the data must be tsset\n",
    "describe\n",
    "/* Model is written in terms of the inflation rate. For quarterly data, \n",
    "the inflation rate is conventionally obtained as 400 times the difference in log of the price level */\n",
    "generate p = 400*(ln(gdpdef) - ln(L.gdpdef)) \n",
    "label variable p \"Inflation rate\""
   ]
  },
  {
   "cell_type": "code",
   "execution_count": null,
   "metadata": {
    "hidden": true
   },
   "outputs": [],
   "source": [
    "*********************************** Specifying the model to dsgenl **************************************************\n",
    "dsgenl (1 = {beta}*(x/F.x)*(1/g)*(r/F.p))(1/{phi}+(p-1) = {phi}*x+{beta}*(F.p-1))({beta}*r = p^(1/{beta})*u) ///\n",
    "(ln(F.u) = {rhou}*ln(u))(ln(F.g) = {rhog}*ln(g)), exostate(u g) observed(p r) unobserved(x)"
   ]
  },
  {
   "cell_type": "code",
   "execution_count": null,
   "metadata": {
    "hidden": true
   },
   "outputs": [],
   "source": [
    "************* Parameter estimation and interpretation of nonlinear DSGEs ******************************************\n",
    "dsgenl (1 = {beta}*(x/F.x)*(1/g)*(r/F.p))(1/{phi} + (p-1) = {phi}*x + {beta}*(F.p-1))({beta}*r = p^(1/{beta})*u) ///\n",
    " (ln(F.u) = {rhou}*ln(u))(ln(F.g) = {rhog}*ln(g)), exostate(u g) observed(p r) unobserved(x) nolog"
   ]
  },
  {
   "cell_type": "code",
   "execution_count": null,
   "metadata": {
    "hidden": true
   },
   "outputs": [],
   "source": [
    "******************************* Parameter estimation and interpretation of nonlinear DSGEs **************************\n",
    "nlcom 1/_b[beta]"
   ]
  },
  {
   "cell_type": "markdown",
   "metadata": {
    "hidden": true
   },
   "source": [
    "**<span style=\"color:DarkGreen;font-size:150%\">  An example: A linear DSGE model </span>**"
   ]
  },
  {
   "cell_type": "code",
   "execution_count": null,
   "metadata": {
    "hidden": true
   },
   "outputs": [],
   "source": [
    "******************************* Specifying the model to dsge ********************************************************\n",
    "dsge (p = {beta}*F.p + {kappa}*x)(x = F.x -(r - F.p - g), unobserved)(r = (1/{beta})*p + u)(F.u = {rhou}*u, state) ///\n",
    "(F.g = {rhog}*g, state)"
   ]
  },
  {
   "cell_type": "code",
   "execution_count": null,
   "metadata": {
    "hidden": true
   },
   "outputs": [],
   "source": [
    "******************************* Parameter estimation and interpretation of nonlinear DSGEs **************************\n",
    "nlcom 1/_b[beta]"
   ]
  },
  {
   "cell_type": "code",
   "execution_count": null,
   "metadata": {
    "hidden": true
   },
   "outputs": [],
   "source": [
    "****************************** Policy and transition matrices *******************************************************\n",
    "estat policy\n",
    "estat transition\n",
    "\n",
    "****************************** Impulse responses ********************************************************************\n",
    "irf set nkirf.irf\n",
    "irf create model1\n",
    "irf graph irf, impulse(u) response(x p r u) byopts(yrescale)"
   ]
  },
  {
   "cell_type": "code",
   "execution_count": null,
   "metadata": {
    "hidden": true
   },
   "outputs": [],
   "source": [
    "********************************** Forecasts ************************************************************************ \n",
    "estimates store dsge_est // store the dsge estimation results\n",
    "tsappend, add(12) // extend the dataset by 3 years, or 12 quarters\n",
    "forecast create dsgemodel // initialize a new forecasting model, which we name dsgemodel\n",
    "forecast estimates dsge_est // add the estimates from dsge to the forecasting model\n",
    "forecast solve, prefix(d1_) begin(tq(2017q1)) // produce dynamic forecasts beginning in the first quarter of 2017\n",
    "tsline d1_p if tin(2010q1, 2021q1), tline(2017q1) // We can graph the forecast for inflation d1 p using tsline\n",
    "forecast solve, prefix(d2_) begin(tq(2014q1)) // compare the forecast for 2014–2016 \n",
    "tsline p d2_p if tin(2010q1, 2021q1), tline(2014q1) // We plot both the observed inflation and the forecast"
   ]
  },
  {
   "cell_type": "markdown",
   "metadata": {
    "hidden": true
   },
   "source": [
    "**<span style=\"color:DarkGreen;font-size:200%\"> III.2 New Keynesian model </span>**"
   ]
  },
  {
   "cell_type": "markdown",
   "metadata": {
    "hidden": true
   },
   "source": [
    "<span style=\"color:DarkGreen;font-size:150%\"> The model </span> \n",
    "\n",
    "$$p_t = \\beta E_t(p_{t+1}) + \\kappa x_t~~~~~~~~~~~~~~~~~~~~~$$  \n",
    "\n",
    "$$x_t = E_t(x_{t+1}) − {r_t − E_t(p_{t+1}) − g_t}$$  \n",
    "\n",
    "$$r_t = \\psi p_t + u_t~~~~~~~~~~~~~~~~~~~~~~~~~~~~~~~~~$$  \n",
    "\n",
    "$$u_{t+1} = \\rho_u u_t + \\epsilon_{t+1}~~~~~~~~~~~~~~~~~~~~~~~~~~~~~~~~$$  \n",
    "\n",
    "$$g_{t+1} = \\rho_g g_t + \\xi_{t+1}~~~~~~~~~~~~~~~~~~~~~~~~~~~~~~~~$$"
   ]
  },
  {
   "cell_type": "markdown",
   "metadata": {
    "hidden": true
   },
   "source": [
    "<span style=\"color:DarkGreen;font-size:150%\"> Application in Stata </span> "
   ]
  },
  {
   "cell_type": "code",
   "execution_count": null,
   "metadata": {
    "hidden": true
   },
   "outputs": [],
   "source": [
    "******************************************** Parameter estimation ***************************************************\n",
    "use https://www.stata-press.com/data/r16/usmacro2, clear"
   ]
  },
  {
   "cell_type": "code",
   "execution_count": null,
   "metadata": {
    "hidden": true
   },
   "outputs": [],
   "source": [
    "constraint 1 _b[beta]=0.96 //We constrain β to be 0.96, a common value in the literature\n",
    "dsge (p = {beta}*F.p + {kappa}*x)(x = F.x - (r - F.p - g), unobserved)(r = {psi}*p + u) ///\n",
    "(F.u = {rhou}*u, state)(F.g = {rhog}*g, state), from(psi=1.5) constraint(1) "
   ]
  },
  {
   "cell_type": "code",
   "execution_count": null,
   "metadata": {
    "hidden": true
   },
   "outputs": [],
   "source": [
    "************************************ Policy and transition matrices *************************************************\n",
    "estat policy //     response of a control variable to a one-unit increase in a state variable.\n",
    "estat transition // elements of the state transition matrix "
   ]
  },
  {
   "cell_type": "code",
   "execution_count": null,
   "metadata": {
    "hidden": true
   },
   "outputs": [],
   "source": [
    "*********************************** One-step-ahead predictions ******************************************************\n",
    "predict dep* // we obtain onestep-ahead predictions for each of the two observed control variables in the model\n",
    "tsline p dep1, legend(col(1))"
   ]
  },
  {
   "cell_type": "code",
   "execution_count": null,
   "metadata": {
    "hidden": true
   },
   "outputs": [],
   "source": [
    "********************************** Estimating an unobserved state ***************************************************\n",
    "predict state1, state // observed control variables are driven by two unobserved state variables that we can predict\n",
    "tsline state1"
   ]
  },
  {
   "cell_type": "markdown",
   "metadata": {
    "hidden": true
   },
   "source": [
    "**<span style=\"color:DarkGreen;font-size:200%\"> III.3 New Classical model </span>**"
   ]
  },
  {
   "cell_type": "markdown",
   "metadata": {
    "hidden": true
   },
   "source": [
    "<span style=\"color:DarkGreen;font-size:150%\"> The model </span> \n",
    "\n",
    "$\\frac{1}{C_t} = \\beta E_t \\{\\frac{1}{Cp_{t+1}}(1+R_{t+1} - \\delta)\\}~~~~~~~~~~~~~~~~$  \n",
    "\n",
    "$H^\\eta_t = \\frac{W_t}{C_t}$  \n",
    "\n",
    "$Y_t = C_t + X_t + G_t$  \n",
    "\n",
    "$Y_t = K_t^\\alpha(Z_tH_t)^{1−\\alpha}$  \n",
    "\n",
    "$W_t = (1 − \\alpha)\\frac{Y_t}{H_t}$  \n",
    "\n",
    "$Rt = \\alpha\\frac{Y_t}{K_t}$  \n",
    "\n",
    "$K_{t+1} = (1 − \\delta)K_t + X_t$"
   ]
  },
  {
   "cell_type": "markdown",
   "metadata": {
    "hidden": true
   },
   "source": [
    "<span style=\"color:peru\">The linearized form of the model is</span>  \n",
    "\n",
    "\n",
    "$c_t = E_t(c_{t+1}) − (1 − \\beta + \\beta\\delta)E_t(r_{t+1})$  \n",
    "\n",
    "$\\eta h_t = w_t − c_t$  \n",
    "\n",
    "$\\phi_1x_t = y_t − \\phi_2c_t − g_t$  \n",
    "\n",
    "$y_t = (1 − \\alpha)(z_t + h_t) + \\alpha k_t$  \n",
    "\n",
    "$w_t = y_t − h_t$  \n",
    "\n",
    "$r_t = y_t − k_t$  \n",
    "\n",
    "$k_{t+1} = \\delta x_t + (1 − \\delta)k_t$  \n",
    "\n",
    "$z_{t+1} = \\rho_zz_t + \\epsilon_{t+1}$  \n",
    "\n",
    "$g_{t+1} = \\rho_gg_t + \\xi_{t+1}$  \n"
   ]
  },
  {
   "cell_type": "code",
   "execution_count": null,
   "metadata": {
    "hidden": true
   },
   "outputs": [],
   "source": [
    "use http://www.stata-press.com/data/r16/usmacro2, clear\n",
    "\n",
    "dsge (c = F.c - (1-{beta}+{beta}*{delta})*F.r, unobserved)({eta}*h = w - c, unobserved) ///\n",
    "    ({phi1}*x = y - {phi2}*c - g, unobserved)(y = (1-{alpha})*(z+h) + {alpha}*k)(w = y - h, unobserved) ///\n",
    "    (r = y - k, unobserved)(F.k = {delta}*x+ (1-{delta})*k, state noshock)(F.z = {rhoz}*z, state) ///\n",
    "    (F.g = {rhog}*g, state), from(beta=0.96 eta=1 alpha=0.3 delta=0.025 phi1=0.2 phi2=0.6 rhoz=0.8 rhog=0.3) ///\n",
    "    solve noidencheck"
   ]
  },
  {
   "cell_type": "code",
   "execution_count": null,
   "metadata": {
    "hidden": true
   },
   "outputs": [],
   "source": [
    "************************************ Policy and transition matrices *************************************************\n",
    "estat transition"
   ]
  },
  {
   "cell_type": "code",
   "execution_count": null,
   "metadata": {
    "hidden": true
   },
   "outputs": [],
   "source": [
    "**************************************** Impulse responses **********************************************************\n",
    "irf set rbcirf\n",
    "irf create persistent\n",
    "\n",
    "irf graph irf, irf(persistent) impulse(z) response(y c x h w z) noci byopts(yrescale)"
   ]
  },
  {
   "cell_type": "code",
   "execution_count": null,
   "metadata": {
    "hidden": true
   },
   "outputs": [],
   "source": [
    "********************************** Sensitivity analysis *************************************************************\n",
    "/* we set the persistence of z to a smaller value of 0.6 to evaluate the role of persistence in z on the persistence \n",
    " of other model variables */\n",
    "dsge (c = F.c - F.r, unobserved)({eta}*h = w - c, unobserved)({phi1}*x = y - {phi2}*c - g, unobserved) ///\n",
    "(y = (1-{alpha})*(z+h) + {alpha}*k)(w = y - h, unobserved)(r = y - k, unobserved) ///\n",
    "(F.k = {delta}*x+ (1-{delta})*k, state noshock)(F.z = {rhoz}*z, state) ///\n",
    "(F.g = {rhog}*g, state), from(eta=1 alpha=.3 delta=0.025 phi1=0.2 phi2=0.6 rhoz=0.6 rhog=0.3) solve noidencheck"
   ]
  },
  {
   "cell_type": "code",
   "execution_count": null,
   "metadata": {
    "hidden": true
   },
   "outputs": [],
   "source": [
    "irf create transitory, replace"
   ]
  },
  {
   "cell_type": "code",
   "execution_count": null,
   "metadata": {
    "hidden": true
   },
   "outputs": [],
   "source": [
    "irf graph irf, irf(transitory) impulse(z) response(y c x h w z) noci byopts(yrescale)"
   ]
  },
  {
   "cell_type": "code",
   "execution_count": null,
   "metadata": {
    "hidden": true
   },
   "outputs": [],
   "source": [
    "irf ograph (persistent z c irf) (transitory z c irf) // This way we can view the differences across calibrations"
   ]
  },
  {
   "cell_type": "markdown",
   "metadata": {
    "hidden": true
   },
   "source": [
    "**<span style=\"color:DarkGreen;font-size:200%\"> III.4 Financial frictions model </span>**"
   ]
  },
  {
   "cell_type": "markdown",
   "metadata": {
    "hidden": true
   },
   "source": [
    "<span style=\"color:DarkGreen;font-size:150%\"> The model </span> \n",
    "\n",
    "$\\pi_t = \\beta E_t(\\pi_{t+1}) + \\kappa r_t$  \n",
    "\n",
    "$x_t = E_tx_{t+1} − (i_t - E_t\\pi_{t+1} - g_t)$  \n",
    "\n",
    "$r_t = \\psi\\pi_t + u_t$  \n",
    "\n",
    "$i_t = \\chi r_t + e_t$  \n",
    "\n",
    "$g_{t+1} = \\rho_gg_t + \\xi_{t+1}$  \n",
    "\n",
    "$u_{t+1} = \\rho_u u_t + \\epsilon_{t+1}$  \n",
    "\n",
    "$e_{t+1} = \\rho_ee_t + \\eta_{t+1}$  \n",
    "\n"
   ]
  },
  {
   "cell_type": "markdown",
   "metadata": {
    "hidden": true
   },
   "source": [
    "<span style=\"color:DarkGreen;font-size:150%\">Parameter estimation </span> "
   ]
  },
  {
   "cell_type": "code",
   "execution_count": null,
   "metadata": {
    "hidden": true
   },
   "outputs": [],
   "source": [
    "use http://www.stata-press.com/data/r16/usmacro2, clear\n",
    "constraint 1 _b[beta]=0.96\n",
    "\n",
    "dsge (p = {beta}*F.p + {kappa}*x)(x = F.x - (i - F.p - g), unobserved)(i = {chi}*r + e)(r = {psi}*p + u) ///\n",
    "(F.e = {rhoe}*e, state)(F.u = {rhou}*u, state)(F.g = {rhoz}*g, state), from(psi=2 chi=0.8) constraint(1)"
   ]
  },
  {
   "cell_type": "code",
   "execution_count": null,
   "metadata": {
    "hidden": true
   },
   "outputs": [],
   "source": [
    "***************************** Policy and transition matrices ********************************************************\n",
    "estat policy"
   ]
  },
  {
   "cell_type": "code",
   "execution_count": null,
   "metadata": {
    "hidden": true
   },
   "outputs": [],
   "source": [
    "************************************** Impulse responses ************************************************************\n",
    "irf set finirf\n",
    "irf create param1\n",
    "irf graph irf, irf(param1) impulse(e) response(e x p i r) byopts(yrescale)"
   ]
  },
  {
   "cell_type": "markdown",
   "metadata": {
    "hidden": true
   },
   "source": [
    "**<span style=\"color:DarkGreen;font-size:200%\"> III.5 Nonlinear New Keynesian model </span>**"
   ]
  },
  {
   "cell_type": "markdown",
   "metadata": {
    "hidden": true
   },
   "source": [
    "<span style=\"color:DarkGreen;font-size:150%\"> The model </span> \n",
    "\n",
    "$1 = \\beta E_t(\\frac{X_t}{X_{t+1}}\\frac{1}{Z_t}\\frac{R_t}{\\Pi_{t+1}})$  \n",
    "\n",
    "$(\\theta -1)+\\phi(\\Pi_t-1)\\Pi_t = \\theta X_t + \\phi\\beta E_t\\{(\\Pi_{t+1} − 1)\\Pi_{t+1}\\}$  \n",
    "\n",
    "$\\beta R_t = \\Pi_t^{\\psi} M_t$  \n",
    "\n",
    "$ln(M_{t+1}) = \\rho_m ln(M_t) + u_{t+1}$  \n",
    "\n",
    "$ln(Z_{t+1}) = \\rho_z ln(Z_t) + e_{t+1}$  \n",
    "\n"
   ]
  },
  {
   "cell_type": "markdown",
   "metadata": {
    "hidden": true
   },
   "source": [
    "<span style=\"color:DarkGreen;font-size:150%\">Parameter estimation </span> "
   ]
  },
  {
   "cell_type": "code",
   "execution_count": null,
   "metadata": {
    "hidden": true
   },
   "outputs": [],
   "source": [
    "use http://www.stata-press.com/data/r16/usmacro2, clear\n",
    "\n",
    "constraint 1 _b[theta]=5\n",
    "constraint 2 _b[beta]=0.96"
   ]
  },
  {
   "cell_type": "code",
   "execution_count": null,
   "metadata": {
    "hidden": true
   },
   "outputs": [],
   "source": [
    "dsgenl (1 = {beta}*(x/F.x)*(1/z)*(r/F.p))({theta}-1 + {phi}*(p -1)*p = {theta}*x + {phi}*{beta}*(F.p-1)*F.p) ///\n",
    "(({beta})*r = (p)^({psi=2})*m)(ln(F.m) = {rhom}*ln(m))(ln(F.z) = {rhoz}*ln(z)), exostate(z m) unobserved(x) ///\n",
    "observed(p r) constraint(1 2) nolog"
   ]
  },
  {
   "cell_type": "code",
   "execution_count": null,
   "metadata": {
    "hidden": true
   },
   "outputs": [],
   "source": [
    "nlcom (_b[theta] - 1)/_b[phi] // k = (O-1)O"
   ]
  },
  {
   "cell_type": "code",
   "execution_count": null,
   "metadata": {
    "hidden": true
   },
   "outputs": [],
   "source": [
    "*********************************** Policy and transition matrices **************************************************\n",
    "estat policy\n",
    "estat transition"
   ]
  },
  {
   "cell_type": "code",
   "execution_count": null,
   "metadata": {
    "hidden": true
   },
   "outputs": [],
   "source": [
    "********************************** Impulse responses ****************************************************************\n",
    "irf set nlex1irf, replace\n",
    "irf create irf1, replace\n",
    "\n",
    "irf graph irf, impulse(m z) response(x p r) byopts(yrescale)"
   ]
  },
  {
   "cell_type": "code",
   "execution_count": null,
   "metadata": {
    "hidden": true
   },
   "outputs": [],
   "source": [
    "************************************ A change in constraints ********************************************************\n",
    "quietly dsgenl\n",
    "estimates store theta5"
   ]
  },
  {
   "cell_type": "code",
   "execution_count": null,
   "metadata": {
    "hidden": true
   },
   "outputs": [],
   "source": [
    "constraint 3 _b[theta]=2\n",
    "dsgenl (1 = {beta}*(x/F.x)*(1/z)*(r/F.p))({theta}-1 + {phi}*(p -1)*p = {theta}*x + {phi}*{beta}*(F.p-1)*F.p) ///\n",
    "(({beta})*r = (p)^({psi=2})*m)(ln(F.m) = {rhom}*ln(m))(ln(F.z) = {rhoz}*ln(z)), exostate(z m) unobserved(x) ///\n",
    "observed(p r) constraint(2 3) nolog\n",
    "\n",
    "estimates store theta2"
   ]
  },
  {
   "cell_type": "code",
   "execution_count": null,
   "metadata": {
    "hidden": true
   },
   "outputs": [],
   "source": [
    "estimates table theta5 theta2, b(%9.4f) stats(ll) // reported log-likelihood values are identical"
   ]
  },
  {
   "cell_type": "code",
   "execution_count": null,
   "metadata": {
    "hidden": true
   },
   "outputs": [],
   "source": [
    "estimates restore theta5 // We compare k = (theta-1)theta accros two parametrizations\n",
    "nlcom (_b[theta]-1) / _b[phi]\n",
    "\n",
    "estimates restore theta2\n",
    "nlcom (_b[theta]-1) / _b[phi]"
   ]
  },
  {
   "cell_type": "code",
   "execution_count": null,
   "metadata": {
    "hidden": true
   },
   "outputs": [],
   "source": [
    "******** The equivalence of the two parameterizations can also be seen through the policy matrix *****************\n",
    "estat policy // for theta = 2"
   ]
  },
  {
   "cell_type": "code",
   "execution_count": null,
   "metadata": {
    "hidden": true
   },
   "outputs": [],
   "source": [
    "estimates restore theta5 \n",
    "estat policy // for theta = 5"
   ]
  },
  {
   "cell_type": "markdown",
   "metadata": {
    "hidden": true
   },
   "source": [
    "**<span style=\"color:DarkGreen;font-size:200%\"> III.6 Nonlinear New Classical model </span>**"
   ]
  },
  {
   "cell_type": "markdown",
   "metadata": {
    "hidden": true
   },
   "source": [
    "<span style=\"color:DarkGreen;font-size:150%\"> The model </span> \n",
    "\n",
    "$\\frac{1}{C_t} = \\beta E_t \\{\\frac{1}{Cp_{t+1}}(1+R_{t+1} - \\delta)\\}~~~~~~~~~~~~~~~~$  \n",
    "\n",
    "$\\chi H_t = \\frac{W_t}{C_t}$  \n",
    "\n",
    "$Y_t = C_t + I_t$  \n",
    "\n",
    "$Y_t = Z_tK_t^\\alpha H_t^{1−\\alpha}$  \n",
    "\n",
    "$R_t = \\alpha\\frac{Y_t}{K_t}$  \n",
    "\n",
    "$W_t = (1 − \\alpha)\\frac{Y_t}{H_t}$  \n",
    "\n",
    "$K_{t+1} = I_t +(1 − \\delta)K_t$  \n",
    "\n",
    "$ln(Z_{t+1}) = \\rho ln(Z_t) + e_{t+1}$ "
   ]
  },
  {
   "cell_type": "markdown",
   "metadata": {
    "hidden": true
   },
   "source": [
    "<span style=\"color:DarkGreen;font-size:150%\">Parameter estimation </span> "
   ]
  },
  {
   "cell_type": "code",
   "execution_count": null,
   "metadata": {
    "hidden": true
   },
   "outputs": [],
   "source": [
    "use http://www.stata-press.com/data/r16/usmacro2, clear"
   ]
  },
  {
   "cell_type": "code",
   "execution_count": null,
   "metadata": {
    "hidden": true
   },
   "outputs": [],
   "source": [
    "constraint 1 _b[alpha] = 0.33 // calibrated parameters which follows King and Rebelo (1999) that i allready download\n",
    "constraint 2 _b[beta] = 0.99\n",
    "constraint 3 _b[delta] = 0.025\n",
    "constraint 4 _b[chi] = 2"
   ]
  },
  {
   "cell_type": "code",
   "execution_count": null,
   "metadata": {
    "hidden": true
   },
   "outputs": [],
   "source": [
    "dsgenl (1/c = {beta}*(1/F.c)*(1+r-{delta}))({chi}*h = w/c)(y = c + i)(y = z*k^{alpha}*h^(1-{alpha})) ///\n",
    " (r = {alpha}*y/k)(w = (1-{alpha})*y/h)(F.k = i + (1-{delta})*k)(ln(F.z) = {rho}*ln(z)), observed(y) ///\n",
    " unobserved(c i r w h) exostate(z) endostate(k) constraint(1/4)"
   ]
  },
  {
   "cell_type": "code",
   "execution_count": null,
   "metadata": {
    "hidden": true
   },
   "outputs": [],
   "source": [
    "**** Steady state: in the absence of shocks, variables converge to a steady-state position **************************\n",
    "estat steady"
   ]
  },
  {
   "cell_type": "code",
   "execution_count": null,
   "metadata": {
    "hidden": true
   },
   "outputs": [],
   "source": [
    "********** Model-implied covariances: state-space matrices generate predictions for variances and covariances\n",
    "estat covariance"
   ]
  },
  {
   "cell_type": "code",
   "execution_count": null,
   "metadata": {
    "hidden": true
   },
   "outputs": [],
   "source": [
    "****** relative volatility of a model variable = sd of variable vs with the sd of a reference variable *************\n",
    "estimates store dsgenl\n",
    "quietly estat covariance, post // post option to make the results stored in e(), where nlcom can access them\n",
    "\n",
    "nlcom sqrt(_b[i:var(i)] / _b[y:var(y)]) // volatility of investment relative to output"
   ]
  },
  {
   "cell_type": "code",
   "execution_count": null,
   "metadata": {
    "hidden": true
   },
   "outputs": [],
   "source": [
    "****************************  Policy and transition matrices  *******************************************************\n",
    "estimates restore dsgenl\n",
    "estat policy // sd of capital is constant over time because of constraint\n",
    "estat transition // A 1% increase in productivity raises the future capital stock by 0.15%"
   ]
  },
  {
   "cell_type": "code",
   "execution_count": null,
   "metadata": {
    "hidden": true
   },
   "outputs": [],
   "source": [
    "******************************* Impulse responses ******************************************************************\n",
    "irf set rbcirf, replace\n",
    "irf create est, step(20) replace\n",
    "irf graph irf, impulse(z) response(y c i h w z) byopts(yrescale)"
   ]
  },
  {
   "cell_type": "code",
   "execution_count": null,
   "metadata": {
    "hidden": true
   },
   "outputs": [],
   "source": [
    "***************************************** Sensitivity analysis ******************************************************\n",
    "dsgenl // replay the current estimates.\n",
    "matrix b = e(b) // store the current parameter vector in a Stata matrix\n",
    "matrix b[1,5] = 0.6 // look at the response of the model to a shock when productivity is more persistent: rho = 0.6"
   ]
  },
  {
   "cell_type": "code",
   "execution_count": null,
   "metadata": {
    "hidden": true
   },
   "outputs": [],
   "source": [
    "// from() to passed the parameter vector AND solve to have only parameters for policy and impule response\n",
    "dsgenl (1/c = {beta}*(1/F.c)*(1+r-{delta}))({chi}/(1-h) = w/c)(y = c + i)(y = z*k^{alpha}*h^(1-{alpha})) /// \n",
    " (w = (1-{alpha})*y/h)(r = {alpha}*y/k)(F.k = i + (1-{delta})*k)(ln(F.z) = {rho}*ln(z)), observed(y) /// \n",
    " unobserved(c i r w h) exostate(z) endostate(k) from(b) solve noidencheck"
   ]
  },
  {
   "cell_type": "code",
   "execution_count": null,
   "metadata": {
    "hidden": true
   },
   "outputs": [],
   "source": [
    "irf create alt, step(20) replace // We graph the response of y to a z impulse across the two models\n",
    "irf ograph (est z y irf) (alt z y irf)"
   ]
  },
  {
   "cell_type": "code",
   "execution_count": null,
   "metadata": {
    "hidden": true
   },
   "outputs": [],
   "source": [
    "foreach v in c h i w y z {\n",
    "    irf ograph (est z ‘v’ irf) (alt z ‘v’ irf), name(‘v’) nodraw\n",
    "}\n",
    "\n",
    "graph combine c h i w y z    "
   ]
  },
  {
   "cell_type": "markdown",
   "metadata": {
    "hidden": true
   },
   "source": [
    "**<span style=\"color:DarkGreen;font-size:200%\"> III.7 Stochastic growth model </span>**"
   ]
  },
  {
   "cell_type": "markdown",
   "metadata": {
    "hidden": true
   },
   "source": [
    "<span style=\"color:DarkGreen;font-size:150%\"> The model </span> \n",
    "\n",
    "$1 = \\beta E_t \\{\\frac{C_t}{Cp_{t+1}}(1+R_{t+1} - \\delta)\\}~~~~~~~~~~~~~~~~$  \n",
    "\n",
    "$\\chi H_t = \\frac{W_t}{C_t}$  \n",
    "\n",
    "$Y_t = Z_tK_t^\\alpha$  \n",
    "\n",
    "$R_t = \\alpha Z_tK_t^{\\alpha -1}$  \n",
    "\n",
    "$K_{t+1} = Y_t -C_t + (1 − \\delta)K_t$  \n",
    "\n",
    "$ln(Z_{t+1}) = \\rho ln(Z_t) + e_{t+1}$ "
   ]
  },
  {
   "cell_type": "markdown",
   "metadata": {
    "hidden": true
   },
   "source": [
    "<span style=\"color:peru\"> The variables $Y_t, R_t, C_t, K_t$ and $Z_t$ are repectivelly **output, interest rate, concumption, capital** and **productivity**.</span>"
   ]
  },
  {
   "cell_type": "markdown",
   "metadata": {
    "hidden": true
   },
   "source": [
    "<span style=\"color:DarkGreen;font-size:150%\">Specifying the model to Stata</span> "
   ]
  },
  {
   "cell_type": "code",
   "execution_count": null,
   "metadata": {
    "hidden": true
   },
   "outputs": [],
   "source": [
    "use http://www.stata-press.com/data/r16/usmacro2, clear"
   ]
  },
  {
   "cell_type": "code",
   "execution_count": null,
   "metadata": {
    "hidden": true
   },
   "outputs": [],
   "source": [
    "matrix param_mat = (0.33, 0.96, 0.025, 0.9, 1) // we set up a parameter matrix containing the values that we will use\n",
    "matrix colnames param_mat = alpha beta delta rho /sd(e.z)\n",
    "matrix list param_mat //values are similar to those in King and Rebelo (1999) and Schmitt-Grohe and Uribe (2004)"
   ]
  },
  {
   "cell_type": "code",
   "execution_count": null,
   "metadata": {
    "hidden": true
   },
   "outputs": [],
   "source": [
    "/* z is subject to shocks; it is an exogenous state variable. from() option specifies the starting values \n",
    "   for the parameters. The solve option declares that we wish to solve the model at the values in from() */\n",
    "dsgenl (1 = {beta}*(F.c/c)^(-1)*(1+F.r-{delta})) (r = {alpha}*z*k^({alpha}-1)) (y = z*k^{alpha}) /// \n",
    " (F.k = y - c + (1-{delta})*k) (ln(F.z) = {rho}*ln(z)) , observed(y) unobserved(c r) exostate(z) endostate(k) /// \n",
    " from(param_mat) solve noidencheck"
   ]
  },
  {
   "cell_type": "code",
   "execution_count": null,
   "metadata": {
    "hidden": true
   },
   "outputs": [],
   "source": [
    "********************************* After solving: steady state, policy and transition matrices ***********************\n",
    "/* They display the percentage change in a control variable that results from a one-percent change in a \n",
    "state variable because by default, dsgenl uses a log-linear approximation */\n",
    "estat steady, compact // compact to make state variables as columns. "
   ]
  },
  {
   "cell_type": "code",
   "execution_count": null,
   "metadata": {
    "hidden": true
   },
   "outputs": [],
   "source": [
    "********************* Linear and log-linear (default) approximations ************************************************\n",
    "dsgenl (1 = {beta}*(F.c/c)^(-1)*(1+F.r-{delta})) (r = {alpha}*z*k^({alpha}-1)) (y = z*k^{alpha}) ///\n",
    " (F.k = y - c + (1-{delta})*k) (ln(F.z) = {rho}*ln(z)), observed(y) unobserved(c r) exostate(z) endostate(k) ///\n",
    " from(param_mat) solve noidencheck linearapprox // option linearapprox causes dsgenl to take a linear"
   ]
  },
  {
   "cell_type": "code",
   "execution_count": null,
   "metadata": {
    "hidden": true
   },
   "outputs": [],
   "source": [
    "********************************** impact that the linearapprox option has ******************************************\n",
    "estat steady, compact // No changes\n",
    "estat policy, compact //one-unit increase in the capital stock leads output to rise by 0.067 units\n",
    "estat transition, compact //one-unit increase in productivity Zt leads to a 1.54-unit increase in the capital stock "
   ]
  },
  {
   "cell_type": "markdown",
   "metadata": {
    "hidden": true
   },
   "source": [
    "**<span style=\"color:DarkGreen;font-size:200%\"> III.8 Specifying a shock on a control variable</span>**"
   ]
  },
  {
   "cell_type": "markdown",
   "metadata": {
    "hidden": true
   },
   "source": [
    "<span style=\"color:DarkGreen;font-size:150%\"> The model </span> \n",
    "\n",
    "$c_t = (1-h)w_t + hE_tc_{t+1} + \\epsilon_t$  \n",
    "\n",
    "$n_t = w_t - \\gamma c_t$  \n",
    "\n",
    "$w_{t+1} = \\rho w_t + \\xi_{t+1}$  "
   ]
  },
  {
   "cell_type": "markdown",
   "metadata": {
    "hidden": true
   },
   "source": [
    "<span style=\"color:peru\"> The variables $c_t, w_t$ and $n_t$ are repectivelly **concumption, wage** and **hours worked**. One cannot solve the model for the state-space form because the shock $\\epsilon_t$ is added to the control equation $c_t$. We define: $z_t = \\epsilon_t$ </span>"
   ]
  },
  {
   "cell_type": "markdown",
   "metadata": {
    "hidden": true
   },
   "source": [
    "$c_t = (1-h)w_t + hE_tc_{t+1} + z_t$  \n",
    "\n",
    "$n_t = w_t - \\gamma c_t$  \n",
    "\n",
    "$w_{t+1} = \\rho w_t + \\xi_{t+1}$  \n",
    "\n",
    "$z_{t+1} = \\epsilon_{t+1}$"
   ]
  },
  {
   "cell_type": "markdown",
   "metadata": {
    "hidden": true
   },
   "source": [
    "<span style=\"color:DarkGreen;font-size:150%\">Parameter estimation </span> "
   ]
  },
  {
   "cell_type": "code",
   "execution_count": null,
   "metadata": {
    "hidden": true
   },
   "outputs": [],
   "source": [
    "use http://www.stata-press.com/data/r16/usmacro2, clear"
   ]
  },
  {
   "cell_type": "code",
   "execution_count": null,
   "metadata": {
    "hidden": true
   },
   "outputs": [],
   "source": [
    "dsge (c = (1-{h})*(w) + {h}*F.c + z)(n = w - {gamma}*c)(F.w = {rho}*w, state)(F.z = , state)"
   ]
  },
  {
   "cell_type": "markdown",
   "metadata": {
    "hidden": true
   },
   "source": [
    "**<span style=\"color:DarkGreen;font-size:200%\"> III.9 Including a lag of a control variable</span>**"
   ]
  },
  {
   "cell_type": "markdown",
   "metadata": {
    "hidden": true
   },
   "source": [
    "<span style=\"color:DarkGreen;font-size:150%\"> The model </span> \n",
    "\n",
    "$p_t = \\beta E_tp_{t+1} + \\kappa y_t$  \n",
    "\n",
    "$y_t = E_ty_{t+1} - (r_t - E_tp_{t+1}-\\rho_zz_t)$  \n",
    "\n",
    "$r_t = \\rho_r r_{t-1} + (1 - \\rho_r)(\\frac{1}{\\beta}p_t + u_t)$  \n",
    "\n",
    "$z_{t+1} =  \\rho_zz_t + \\epsilon_{t+1}$  \n",
    "\n",
    "$u_{t+1} = \\rho_uu_t + \\xi_{t+1}$"
   ]
  },
  {
   "cell_type": "markdown",
   "metadata": {
    "hidden": true
   },
   "source": [
    "<span style=\"color:peru\"> The variables $p_t, y_t$ and $r_t$ are repectivelly **inflation, output** and **interest rate**. One cannot solve the model the lag of a control variable does not fit\n",
    "into the structure required. We define: $Lr_t = r_{t-1}$ </span>"
   ]
  },
  {
   "cell_type": "markdown",
   "metadata": {
    "hidden": true
   },
   "source": [
    "$p_t = \\beta E_tp_{t+1} + \\kappa y_t$  \n",
    "\n",
    "$y_t = E_ty_{t+1} - (r_t - E_tp_{t+1}-\\rho_zz_t$  \n",
    "\n",
    "$r_t = \\rho_r Lr_t + (1 - \\rho_r)(\\frac{1}{\\beta}p_t + u_t)$  \n",
    "\n",
    "$Lr_{t+1} = r_t$  \n",
    "\n",
    "$z_{t+1} =  \\rho_zz_t + \\epsilon_{t+1}$  \n",
    "\n",
    "$u_{t+1} = \\rho_uu_t + \\xi_{t+1}$"
   ]
  },
  {
   "cell_type": "markdown",
   "metadata": {
    "hidden": true
   },
   "source": [
    "<span style=\"color:DarkGreen;font-size:150%\">Parameter estimation </span> "
   ]
  },
  {
   "cell_type": "code",
   "execution_count": null,
   "metadata": {
    "hidden": true
   },
   "outputs": [],
   "source": [
    "use http://www.stata-press.com/data/r16/usmacro2, clear"
   ]
  },
  {
   "cell_type": "code",
   "execution_count": null,
   "metadata": {
    "hidden": true
   },
   "outputs": [],
   "source": [
    "dsge (p = {beta}*F.p + {kappa}*y)(y = F.y - (r - f.p - {rhoz}*z), unobserved) /// \n",
    " (r = {rhor}*lr + (1-{rhor})*((1/{beta})*p + u))(F.lr = r, state noshock)(F.u = {rhou}*u, state)(F.z = {rhoz}*z, state)"
   ]
  },
  {
   "cell_type": "markdown",
   "metadata": {
    "hidden": true
   },
   "source": [
    "**<span style=\"color:DarkGreen;font-size:200%\"> III.10 Including a lag of a state variable</span>**"
   ]
  },
  {
   "cell_type": "markdown",
   "metadata": {
    "hidden": true
   },
   "source": [
    "<span style=\"color:DarkGreen;font-size:150%\"> The model </span> \n",
    "\n",
    "$p_t = \\beta E_t(p_{t+1}) + \\kappa y_t$  \n",
    "\n",
    "$y_t = E_t(y_{t+1}) - (r_t - E_t(p_{t+1}) - z_t)$  \n",
    "\n",
    "$r_t = \\frac{1}{\\beta}p_t + u_t$  \n",
    "\n",
    "$z_{t+1} =  \\rho_{z1}z_t + \\rho_{z2}z_{t-1} + \\epsilon_{t+1}$  \n",
    "\n",
    "$u_{t+1} = \\rho_uu_t + \\xi_{t+1}$"
   ]
  },
  {
   "cell_type": "markdown",
   "metadata": {
    "hidden": true
   },
   "source": [
    "<span style=\"color:peru\"> We define: $Lz_t = z_{t-1}$</span> \n",
    "\n",
    "$p_t = \\beta E_t(p_{t+1}) + \\kappa y_t$  \n",
    "\n",
    "$y_t = E_t(y_{t+1}) - (r_t - E_t(p_{t+1}) - z_t)$  \n",
    "\n",
    "$r_t = \\frac{1}{\\beta}p_t + u_t$  \n",
    "\n",
    "$z_{t+1} =  \\rho_{z1}z_t + \\rho_{z2}Lz_t + \\epsilon_{t+1}$  \n",
    "\n",
    "$u_{t+1} = \\rho_uu_t + \\xi_{t+1}$  \n",
    "\n",
    "$Lz_{t+1} = z_t$"
   ]
  },
  {
   "cell_type": "markdown",
   "metadata": {
    "hidden": true
   },
   "source": [
    "<span style=\"color:DarkGreen;font-size:150%\">Parameter estimation </span> "
   ]
  },
  {
   "cell_type": "code",
   "execution_count": null,
   "metadata": {
    "hidden": true
   },
   "outputs": [],
   "source": [
    "use http://www.stata-press.com/data/r16/usmacro2, clear"
   ]
  },
  {
   "cell_type": "code",
   "execution_count": null,
   "metadata": {
    "hidden": true
   },
   "outputs": [],
   "source": [
    "dsge (p = {beta}*F.p + {kappa}*y)(y = F.y - (r - F.p - z), unobserved)(r = (1/{beta})*p + u) /// \n",
    " (F.u = {rhou}*u, state)(F.z = {rhoz1}*z + {rhoz2}*Lz, state)(F.Lz = z, state noshock)"
   ]
  },
  {
   "cell_type": "markdown",
   "metadata": {
    "hidden": true
   },
   "source": [
    "**<span style=\"color:DarkGreen;font-size:200%\"> III.11 Including an expectation dated by more than one period ahead</span>**"
   ]
  },
  {
   "cell_type": "markdown",
   "metadata": {
    "hidden": true
   },
   "source": [
    "<span style=\"color:DarkGreen;font-size:150%\"> The model </span> \n",
    "\n",
    "$c_t = (1-h)w_t + hE_tc_{t+2} + r_t$  \n",
    "\n",
    "$n_t = w_t - \\gamma c_t$  \n",
    "\n",
    "$w_{t+1} = \\rho_w w_t + \\xi_{t+1}$  \n",
    "\n",
    "$r_{t+1} = \\rho_r r_t + \\epsilon_{t+1}$"
   ]
  },
  {
   "cell_type": "markdown",
   "metadata": {
    "hidden": true
   },
   "source": [
    "<span style=\"color:peru\"> We define: $Fc_t = c_{t+1}$</span> \n",
    "\n",
    "$c_t = (1-h)w_t + hE_t(Fc_{t+1}) + r_t$  \n",
    "\n",
    "$n_t = w_t - \\gamma c_t$  \n",
    "\n",
    "$Fc_t = c_{t+1}$  \n",
    "\n",
    "$w_{t+1} = \\rho_w w_t + \\xi_{t+1}$  \n",
    "\n",
    "$r_{t+1} = \\rho_r r_t + \\epsilon_{t+1}$"
   ]
  },
  {
   "cell_type": "markdown",
   "metadata": {
    "hidden": true
   },
   "source": [
    "<span style=\"color:DarkGreen;font-size:150%\">Parameter estimation </span> "
   ]
  },
  {
   "cell_type": "code",
   "execution_count": null,
   "metadata": {
    "hidden": true
   },
   "outputs": [],
   "source": [
    "use http://www.stata-press.com/data/r16/usmacro2, clear"
   ]
  },
  {
   "cell_type": "code",
   "execution_count": null,
   "metadata": {
    "hidden": true
   },
   "outputs": [],
   "source": [
    "dsge (c = (1-{h})*(w) + {h}*F.fc + r)(n = w - {gamma}*c)(fc = F.c, unobserved)(F.w = {rho_w}*w, state) /// \n",
    " (F.r = {rho_r}*r, state)"
   ]
  },
  {
   "cell_type": "markdown",
   "metadata": {
    "hidden": true
   },
   "source": [
    "**<span style=\"color:DarkGreen;font-size:200%\"> III.12 Including a second-order lag of a control</span>**"
   ]
  },
  {
   "cell_type": "markdown",
   "metadata": {
    "hidden": true
   },
   "source": [
    "<span style=\"color:DarkGreen;font-size:150%\"> The model </span> \n",
    "\n",
    "$n_t = b_1n_{t-2} + w_t - \\gamma c_t$  \n",
    "\n",
    "$c_t = (1-h)w_t + hE_tc_{t+1} + r_t$  \n",
    "\n",
    "$w_{t+1} = \\rho w_t + \\xi_{t+1}$  \n",
    "\n",
    "$r_{t+1} = \\epsilon_{t+1}$"
   ]
  },
  {
   "cell_type": "markdown",
   "metadata": {
    "hidden": true
   },
   "source": [
    "<span style=\"color:peru\"> We define: $Ln_t = n_{t-1}, ~~L2n_t = Ln_{t-1}$</span> \n",
    "\n",
    "$n_t = b_1L2n_t + w_t - \\gamma c_t$  \n",
    "\n",
    "$c_t = (1-h)w_t + hE_tc_{t+1} + r_t$  \n",
    "\n",
    "$w_{t+1} = \\rho w_t + \\xi_{t+1}$  \n",
    "\n",
    "$r_{t+1} = \\epsilon_{t+1}$  \n",
    "\n",
    "$Ln_{t+1} = n_t$  \n",
    "\n",
    "$L2n_{t+1} = Ln_t$"
   ]
  },
  {
   "cell_type": "markdown",
   "metadata": {
    "hidden": true
   },
   "source": [
    "<span style=\"color:DarkGreen;font-size:150%\">Parameter estimation </span> "
   ]
  },
  {
   "cell_type": "code",
   "execution_count": null,
   "metadata": {
    "hidden": true
   },
   "outputs": [],
   "source": [
    "use http://www.stata-press.com/data/r16/usmacro2, clear"
   ]
  },
  {
   "cell_type": "code",
   "execution_count": null,
   "metadata": {
    "hidden": true
   },
   "outputs": [],
   "source": [
    "dsge (n = {b1}*L2n + w - {gamma}*c)(c = (1-{h})*w + {h}*F.c + r)(F.w = {rho}*w, state)(F.r = , state) ///\n",
    " (F.L2n = Ln, state noshock)(F.Ln = n, state noshock)"
   ]
  },
  {
   "cell_type": "markdown",
   "metadata": {
    "hidden": true
   },
   "source": [
    "**<span style=\"color:DarkGreen;font-size:200%\"> III.13 Including an observed exogenous variable</span>**"
   ]
  },
  {
   "cell_type": "markdown",
   "metadata": {
    "hidden": true
   },
   "source": [
    "<span style=\"color:DarkGreen;font-size:150%\"> The model </span> \n",
    "\n",
    "$x_t = E_t(x_{t+1}) − (r_t - E_t(p_{t+1}) - g_t)$  \n",
    "\n",
    "$r_t = \\frac{1}{\\beta}p_t + u_t$  \n",
    "\n",
    "$p_t = \\beta E_t(p_{t+1}) + \\kappa x_t + \\psi e_t$  \n",
    "\n",
    "$u_{t+1} = \\rho_u u_t + \\epsilon_{t+1}$  \n",
    "\n",
    "$g_{t+1} = \\rho_gg_t + \\xi_{t+1}$  "
   ]
  },
  {
   "cell_type": "markdown",
   "metadata": {
    "hidden": true
   },
   "source": [
    "<span style=\"color:peru\"> We define: $e_t = es_t$  \n",
    "\n",
    "\n",
    "$x_t = E_t(x_{t+1}) − (r_t - E_t(p_{t+1}) - g_t)$  \n",
    "\n",
    "$r_t = \\frac{1}{\\beta}p_t + u_t$  \n",
    "\n",
    "$p_t = \\beta E_t(p_{t+1}) + \\kappa x_t + \\psi es_t$  \n",
    "\n",
    "$e_t = es_t$  \n",
    "\n",
    "$u_{t+1} = \\rho_u u_t + \\epsilon_{t+1}$  \n",
    "\n",
    "$g_{t+1} = \\rho_gg_t + \\xi_{t+1}$  \n",
    "    \n",
    "$es_{t+1} = \\rho_ees_t + \\eta_{t+1}$"
   ]
  },
  {
   "cell_type": "markdown",
   "metadata": {
    "hidden": true
   },
   "source": [
    "<span style=\"color:DarkGreen;font-size:150%\">Parameter estimation </span> "
   ]
  },
  {
   "cell_type": "code",
   "execution_count": null,
   "metadata": {
    "hidden": true
   },
   "outputs": [],
   "source": [
    "use http://www.stata-press.com/data/r16/usmacro2, clear"
   ]
  },
  {
   "cell_type": "code",
   "execution_count": null,
   "metadata": {
    "hidden": true
   },
   "outputs": [],
   "source": [
    "dsge (x = F.x - (r - F.p - g), unobserved)(r = 1/{beta}*p + u)(p = {beta}*F.p + {kappa}*x + {psi}*es)(e = es) /// \n",
    " (F.u = {rho_u}*u, state)(F.g = {rho_g}*g, state)(F.es = {rho_e}*es, state)"
   ]
  },
  {
   "cell_type": "markdown",
   "metadata": {
    "hidden": true
   },
   "source": [
    "**<span style=\"color:DarkGreen;font-size:200%\"> III.14 Correlated state variables</span>**"
   ]
  },
  {
   "cell_type": "markdown",
   "metadata": {
    "hidden": true
   },
   "source": [
    "<span style=\"color:DarkGreen;font-size:150%\"> The model </span> \n",
    "\n",
    "$y_t = E_t(y_{t+1}) + \\alpha p_t + g_t)$  \n",
    "\n",
    "$p_t = z_t$  \n",
    "\n",
    "$g_{t+1} = \\rho_gg_t + \\rho_{gz} z_t + \\xi_{t+1}$  \n",
    "\n",
    "$z_{t+1} = \\rho_z z_t + \\epsilon_{t+1}$  "
   ]
  },
  {
   "cell_type": "markdown",
   "metadata": {
    "hidden": true
   },
   "source": [
    "<span style=\"color:DarkGreen;font-size:150%\">Parameter estimation </span> "
   ]
  },
  {
   "cell_type": "code",
   "execution_count": null,
   "metadata": {
    "hidden": true
   },
   "outputs": [],
   "source": [
    "dsge (y = F.y + {alpha}*p + g)(p = z)(F.g = {rho_g}*g + {rho_gz}*z, state)(F.z = {rho_z}*z, state)"
   ]
  },
  {
   "cell_type": "markdown",
   "metadata": {
    "hidden": true
   },
   "source": [
    "**<span style=\"color:DarkGreen;font-size:200%\"> III.15 Stability conditions</span>**"
   ]
  },
  {
   "cell_type": "markdown",
   "metadata": {
    "hidden": true
   },
   "source": [
    "<span style=\"color:DarkGreen;font-size:150%\"> Finding saddle-path stable initial values </span> \n",
    "\n",
    "$p_t = \\frac{1}{\\gamma} E_t(p_{t+1}) + \\kappa y_t$  \n",
    "\n",
    "$y_t = E_t(y_{t+1}) - (r_t - E_t(p_{t+1}) - z_t)$  \n",
    "\n",
    "$r_t = \\gamma p_t + u_t$  \n",
    "\n",
    "$u_{t+1} = \\rho_uu_t + \\xi_{t+1}$ \n",
    "\n",
    "$z_{t+1} =  \\rho_{z1}z_t + \\rho_{z2}Lz_t + \\epsilon_{t+1}$  \n",
    "\n",
    "$Lz_{t+1} = z_t$"
   ]
  },
  {
   "cell_type": "code",
   "execution_count": null,
   "metadata": {
    "hidden": true
   },
   "outputs": [],
   "source": [
    "*********************** We try to fit this model using default starting values below ********************************\n",
    "use http://www.stata-press.com/data/r16/usmacro2, clear"
   ]
  },
  {
   "cell_type": "code",
   "execution_count": null,
   "metadata": {
    "hidden": true
   },
   "outputs": [],
   "source": [
    "dsge (p = (1/{gamma})*F.p + {kappa}*y)(y = F.y - (r - F.p - z), unobserved)(r = {gamma}*p + u) /// \n",
    " (F.u = {rho_u}*u, state)(F.z = {rho_z1}*z + {rho_z2}*Lz, state)(F.Lz = z, state noshock)"
   ]
  },
  {
   "cell_type": "code",
   "execution_count": null,
   "metadata": {
    "hidden": true
   },
   "outputs": [],
   "source": [
    "*************  specify options solve and noidencheck to get default initial values **********************************\n",
    "dsge (p = (1/{gamma})*F.p + {kappa}*y) (y = F.y - (r - F.p - z), unobserved) (r = {gamma}*p + u) /// \n",
    " (F.u = {rho_u}*u, state) (F.z = {rho_z1}*z + {rho_z2}*Lz, state) (F.Lz = z, state noshock), solve noidencheck"
   ]
  },
  {
   "cell_type": "code",
   "execution_count": null,
   "metadata": {
    "hidden": true
   },
   "outputs": [],
   "source": [
    "**************** We use estat stable to look at the eigenvalues implied by the initial values.***********************\n",
    "estat stable"
   ]
  },
  {
   "cell_type": "code",
   "execution_count": null,
   "metadata": {
    "hidden": true
   },
   "outputs": [],
   "source": [
    "******** gamma must be greater than one, we use from() to fixe a right initial value of gamma *********************\n",
    "dsge (p = (1/{gamma})*F.p + {kappa}*y)(y = F.y - (r - F.p - z), unobserved)(r = {gamma}*p + u) /// \n",
    " (F.u = {rho_u}*u, state)(F.z = {rho_z1}*z + {rho_z2}*Lz, state) /// \n",
    " (F.Lz = z, state noshock), solve noidencheck from(gamma=1.2)"
   ]
  },
  {
   "cell_type": "code",
   "execution_count": null,
   "metadata": {
    "hidden": true
   },
   "outputs": [],
   "source": [
    "*********************************** No warning messages above, so check for stability *******************************\n",
    "estat stable"
   ]
  },
  {
   "cell_type": "markdown",
   "metadata": {
    "hidden": true
   },
   "source": [
    "**<span style=\"color:DarkGreen;font-size:200%\"> III.16 Identification </span>**"
   ]
  },
  {
   "cell_type": "markdown",
   "metadata": {
    "hidden": true
   },
   "source": [
    "<span style=\"color:DarkGreen;font-size:150%\"> A model with two unidentified parameters </span> \n",
    "\n",
    "$p_t = \\beta E_t(p_{t+1}) + \\kappa y_t$  \n",
    "\n",
    "$y_t = E_t(y_{t+1}) - \\gamma(r_t - E_t(p_{t+1}) - \\rho z_t)$  \n",
    "\n",
    "$\\beta r_t = p_t + \\beta u_t$  \n",
    "\n",
    "$z_{t+1} =  \\rho z_t + \\epsilon_{t+1}$  \n",
    "\n",
    "$u_{t+1} = \\delta u_t + \\xi_{t+1}$  \n",
    "\n",
    "\n",
    "<span style=\"color:peru\">Consider the above model of inflation $p_t$, output growth $y_t$, and the interest rate $r_t$."
   ]
  },
  {
   "cell_type": "code",
   "execution_count": null,
   "metadata": {
    "hidden": true
   },
   "outputs": [],
   "source": [
    "use http://www.stata-press.com/data/r16/usmacro2, clear"
   ]
  },
  {
   "cell_type": "code",
   "execution_count": null,
   "metadata": {
    "hidden": true
   },
   "outputs": [],
   "source": [
    "dsge (p = {beta}*F.p + {kappa}*y)(y = F.y -{gamma}*(r - F.p - {rhoz}*z), unobserved)(r = (1/{beta})*p + u) /// \n",
    " (F.u = {rhou}*u, state)(F.z = {rhoz}*z, state)"
   ]
  },
  {
   "cell_type": "code",
   "execution_count": null,
   "metadata": {
    "hidden": true
   },
   "outputs": [],
   "source": [
    "constraint 2 _b[gamma]=1 // because of identification failure: {kappa} {gamma}"
   ]
  },
  {
   "cell_type": "code",
   "execution_count": null,
   "metadata": {
    "hidden": true
   },
   "outputs": [],
   "source": [
    "dsge (p = {beta}*F.p + {kappa}*y)(y = F.y -{gamma}*(r - F.p - {rhoz}*z), unobserved)(r = (1/{beta})*p + u) /// \n",
    " (F.u = {rhou}*u, state)(F.z = {rhoz}*z, state), constraint(2)"
   ]
  },
  {
   "cell_type": "code",
   "execution_count": null,
   "metadata": {
    "hidden": true
   },
   "outputs": [],
   "source": [
    "************************ Suppressing the identification check *******************************************************\n",
    "dsge (p = {beta}*F.p + {kappa}*y)(y = F.y -{gamma}*(r - F.p - {rhoz}*z), unobserved)(r = (1/{beta})*p + u) /// \n",
    " (F.u = {rhou}*u, state)(F.z = {rhoz}*z, state), noidencheck iterate(50) // iterate() to not iterate indefinitely"
   ]
  },
  {
   "cell_type": "markdown",
   "metadata": {
    "hidden": true
   },
   "source": [
    "**<span style=\"color:DarkGreen;font-size:200%\"> III.17 Convergence problems </span>**"
   ]
  },
  {
   "cell_type": "markdown",
   "metadata": {
    "hidden": true
   },
   "source": [
    "<span style=\"color:DarkGreen;font-size:150%\"> initial values of $\\beta = 0.5, \\kappa = 0.2, \\rho_u = 0.7, \\rho_{z1} = 0.7$, and $\\rho_{z2} = 0.2$. Inside by typing {param = value} </span> \n",
    "\n",
    "$p_t = \\beta E_t(p_{t+1}) + \\kappa y_t$  \n",
    "\n",
    "$y_t = E_t(y_{t+1}) - (r_t - E_t(p_{t+1}) - z_t)$  \n",
    "\n",
    "$r_t = \\frac{1}{\\beta}p_t + u_t$  \n",
    "\n",
    "$z_{t+1} =  \\rho_{z1}z_t + \\rho_{z2}Lz_t + \\epsilon_{t+1}$  \n",
    "\n",
    "$u_{t+1} = \\rho_uu_t + \\xi_{t+1}$  \n",
    "\n",
    "$Lz_{t+1} = z_t$"
   ]
  },
  {
   "cell_type": "code",
   "execution_count": null,
   "metadata": {
    "hidden": true
   },
   "outputs": [],
   "source": [
    "use http://www.stata-press.com/data/r16/usmacro2, clear"
   ]
  },
  {
   "cell_type": "code",
   "execution_count": null,
   "metadata": {
    "hidden": true
   },
   "outputs": [],
   "source": [
    "dsge (p = {beta=.5}*F.p + {kappa=.2}*y)(y = F.y - (r - F.p - z), unobserved)(r = (1/{beta})*p + u) /// \n",
    " (F.u = {rho_u=.7}*u, state)(F.z = {rho_z1=.7}*z + {rho_z2=.2}*Lz, state)(F.Lz = z, state noshock)"
   ]
  },
  {
   "cell_type": "markdown",
   "metadata": {
    "hidden": true
   },
   "source": [
    "<span style=\"color:DarkGreen;font-size:150%\">Specifying starting values using from()</span> "
   ]
  },
  {
   "cell_type": "code",
   "execution_count": null,
   "metadata": {
    "hidden": true
   },
   "outputs": [],
   "source": [
    "******************************* Specifying starting values using from() *********************************************\n",
    "matrix ivalues = (.5, .2, .7, .7, .2, 2.3, .7)\n",
    "matrix list ivalues"
   ]
  },
  {
   "cell_type": "code",
   "execution_count": null,
   "metadata": {
    "hidden": true
   },
   "outputs": [],
   "source": [
    "************ Specifying from(, copy) implies first element in the vector = initial value for the first etc..*********\n",
    "dsge (p = {beta}*F.p + {kappa}*y)(y = F.y - (r - F.p - z), unobserved)(r = (1/{beta})*p + u) /// \n",
    " (F.u = {rho_u}*u, state)(F.z = {rho_z1}*z + {rho_z2}*Lz, state)(F.Lz = z, state noshock), from(ivalues, copy)"
   ]
  },
  {
   "cell_type": "markdown",
   "metadata": {
    "hidden": true
   },
   "source": [
    "<span style=\"color:DarkGreen;font-size:150%\">Starting with a more constrained model to obtain convergence</span> "
   ]
  },
  {
   "cell_type": "code",
   "execution_count": null,
   "metadata": {
    "hidden": true
   },
   "outputs": [],
   "source": [
    "************ Starting with a more constrained model to obtain convergence *******************************************\n",
    "constraint define 1 _b[beta] = 0.5\n",
    "constraint define 2 _b[kappa] = 0.1\n",
    "constraint define 3 _b[rho_z2] = 0.01\n",
    "\n",
    "dsge (p = {beta}*F.p + {kappa}*y)(y = F.y - (r - F.p - z), unobserved)(r = (1/{beta})*p + u) /// \n",
    " (F.u = {rho_u}*u, state)(F.z = {rho_z1}*z + {rho_z2}*Lz, state)(F.Lz = z, state noshock), constraints(1 2 3)"
   ]
  },
  {
   "cell_type": "code",
   "execution_count": null,
   "metadata": {
    "hidden": true
   },
   "outputs": [],
   "source": [
    "matrix b = e(b) // We use this parameters as initial values \n",
    "matrix list b"
   ]
  },
  {
   "cell_type": "code",
   "execution_count": null,
   "metadata": {
    "hidden": true
   },
   "outputs": [],
   "source": [
    "dsge (p = {beta}*F.p + {kappa}*y)(y = F.y - (r - F.p - z), unobserved)(r = (1/{beta})*p + u) /// \n",
    " (F.u = {rho_u}*u, state)(F.z = {rho_z1}*z + {rho_z2}*Lz, state)(F.Lz = z, state noshock), from(b, copy)"
   ]
  },
  {
   "cell_type": "markdown",
   "metadata": {
    "hidden": true
   },
   "source": [
    "<span style=\"color:DarkGreen;font-size:150%\"> We can specify *technique(bfgs 200 nr)*</span> "
   ]
  },
  {
   "cell_type": "markdown",
   "metadata": {
    "hidden": true
   },
   "source": [
    "**<span style=\"color:DarkGreen;font-size:200%\"> III.18 Wald tests vary with nonlinear transforms </span>**"
   ]
  },
  {
   "cell_type": "markdown",
   "metadata": {
    "hidden": true
   },
   "source": [
    "<span style=\"color:DarkGreen;font-size:150%\"> The Model </span> \n",
    "\n",
    "$p_t = \\beta E_t(p_{t+1}) + \\kappa y_t$  \n",
    "\n",
    "$y_t = E_t(y_{t+1}) - (r_t - E_t(p_{t+1}) - z_t)$  \n",
    "\n",
    "$r_t = \\frac{1}{\\beta}p_t + u_t$  \n",
    "\n",
    "$z_{t+1} =  \\rho z_t + \\epsilon_{t+1}$  \n",
    "\n",
    "$u_{t+1} = \\rho_uu_t + \\xi_{t+1}$  "
   ]
  },
  {
   "cell_type": "code",
   "execution_count": null,
   "metadata": {
    "hidden": true
   },
   "outputs": [],
   "source": [
    "use http://www.stata-press.com/data/r16/usmacro2, clear"
   ]
  },
  {
   "cell_type": "code",
   "execution_count": null,
   "metadata": {
    "hidden": true
   },
   "outputs": [],
   "source": [
    "dsge (p = {beta}*F.p + {kappa}*y)(y = F.y - (r - F.p - {rhoz}*z), unobserved)(r = (1/{beta})*p + u) /// \n",
    " (F.u = {rhou}*u, state)(F.z = {rhoz}*z, state)"
   ]
  },
  {
   "cell_type": "markdown",
   "metadata": {
    "hidden": true
   },
   "source": [
    "<span style=\"color:DarkGreen;font-size:150%\"> Wald tests vary with nonlinear transforms</span> "
   ]
  },
  {
   "cell_type": "code",
   "execution_count": null,
   "metadata": {
    "hidden": true
   },
   "outputs": [],
   "source": [
    "** We test whether the coefficient on inflation parameter (1/beta) is 1.5, a common benchmark value in the literature\n",
    "testnl 1/_b[beta] = 1.5 // Test nonlinear hypotheses after estimation"
   ]
  },
  {
   "cell_type": "code",
   "execution_count": null,
   "metadata": {
    "hidden": true
   },
   "outputs": [],
   "source": [
    "******************* Wald tests are not invariant to nonlinear transformation ****************************************\n",
    "test _b[beta] =2/3 // Test linear hypotheses after estimation"
   ]
  },
  {
   "cell_type": "markdown",
   "metadata": {
    "hidden": true
   },
   "source": [
    "<span style=\"color:DarkGreen;font-size:150%\"> LR (Likelihood-ratio) tests do not vary with nonlinear transforms</span> "
   ]
  },
  {
   "cell_type": "code",
   "execution_count": null,
   "metadata": {
    "hidden": true
   },
   "outputs": [],
   "source": [
    "dsge // to active current estimation"
   ]
  },
  {
   "cell_type": "code",
   "execution_count": null,
   "metadata": {
    "hidden": true
   },
   "outputs": [],
   "source": [
    "estimates store unconstrained"
   ]
  },
  {
   "cell_type": "code",
   "execution_count": null,
   "metadata": {
    "hidden": true
   },
   "outputs": [],
   "source": [
    "constraint 1 _b[beta] = 2/3\n",
    "\n",
    "dsge (p = {beta}*F.p + {kappa}*y)(y = F.y - (r - F.p - {rhoz}*z), unobserved)(r = (1/{beta})*p + u) /// \n",
    " (F.u = {rhou}*u, state)(F.z = {rhoz}*z, state), constraint(1)\n",
    "\n",
    "estimates store constrained"
   ]
  },
  {
   "cell_type": "code",
   "execution_count": null,
   "metadata": {
    "hidden": true
   },
   "outputs": [],
   "source": [
    "lrtest unconstrained constrained // Not significant so model are the same"
   ]
  },
  {
   "cell_type": "code",
   "execution_count": null,
   "metadata": {
    "hidden": true
   },
   "outputs": [],
   "source": [
    "********** We now illustrate an LR of the null hypothesis that 1=β = 1.5 produces the same value *******************\n",
    "\n",
    "* We write the model in terms of {gamma}=1/{beta} \n",
    "quietly dsge (p = 1/{gamma}*F.p + {kappa}*y)(y = F.y - (r - F.p - {rhoz}*z), unobserved)(r = ({gamma})*p + u) /// \n",
    " (F.u = {rhou}*u, state)(F.z = {rhoz}*z, state), from(gamma=2 kappa=0.15 rhou=0.75 rhoz=0.95)\n",
    "estimates store unconstrained2\n",
    "\n",
    "constraint 2 _b[gamma] = 1.5 // Same to beta = 2/3\n",
    "quietly dsge (p = 1/{gamma}*F.p + {kappa}*y)(y = F.y - (r - F.p - {rhoz}*z), unobserved)(r = ({gamma})*p + u) /// \n",
    " (F.u = {rhou}*u, state)(F.z = {rhoz}*z, state), constraint(2)\n",
    "estimates store constrained2\n",
    "\n",
    "lrtest unconstrained2 constrained2"
   ]
  },
  {
   "cell_type": "markdown",
   "metadata": {
    "heading_collapsed": true
   },
   "source": [
    "# **<span style=\"color:crimson;font-size:150%\"> IV. Extended Regression Models</span>**"
   ]
  },
  {
   "cell_type": "markdown",
   "metadata": {
    "hidden": true
   },
   "source": [
    "<span style=\"color:peru\"> The main commands used here are:</span>  \n",
    "    \n",
    "<span style=\"color:peru\">1. eregress</span>  \n",
    "<span style=\"color:peru\">2. eintreg</span>  \n",
    "<span style=\"color:peru\">3. eprobit</span>  \n",
    "<span style=\"color:peru\">4. eoprobit</span>    \n",
    "\n",
    "<span style=\"color:peru\">And for panel or group models:</span> \n",
    "<span style=\"color:peru\">1. xteregress</span>  \n",
    "<span style=\"color:peru\">2. xteintreg</span>  \n",
    "<span style=\"color:peru\">3. xteprobit</span>  \n",
    "<span style=\"color:peru\">4. xteoprobit</span>"
   ]
  },
  {
   "cell_type": "markdown",
   "metadata": {
    "hidden": true
   },
   "source": [
    "**<span style=\"color:DarkGreen;font-size:150%\"> How to use margins in models without endogenous covariates </span>**"
   ]
  },
  {
   "cell_type": "markdown",
   "metadata": {
    "hidden": true
   },
   "source": [
    "**<span style=\"color:peru;font-size:120%\">The model fit is</span>**  \n",
    "\n",
    "$y_i = \\beta_0 + \\beta_1x1_i + \\beta_2x2_i + \\beta_3x1_ix2_i + e_i.y$"
   ]
  },
  {
   "cell_type": "code",
   "execution_count": null,
   "metadata": {
    "hidden": true
   },
   "outputs": [],
   "source": [
    "use http://www.stata-press.com/data/r16/ermexample, clear"
   ]
  },
  {
   "cell_type": "code",
   "execution_count": null,
   "metadata": {
    "hidden": true
   },
   "outputs": [],
   "source": [
    "eregress y x1 x2 c.x1#c.x2"
   ]
  },
  {
   "cell_type": "code",
   "execution_count": null,
   "metadata": {
    "hidden": true
   },
   "outputs": [],
   "source": [
    "margins, at(x1=generate(x1)) at(x1=generate(x1+1)) contrast(at(r) nowald) over(group)"
   ]
  },
  {
   "cell_type": "markdown",
   "metadata": {
    "hidden": true
   },
   "source": [
    "**<span style=\"color:DarkGreen;font-size:150%\"> The two ways to use margins with endogenous covariates </span>**"
   ]
  },
  {
   "cell_type": "code",
   "execution_count": null,
   "metadata": {
    "hidden": true
   },
   "outputs": [],
   "source": [
    "eregress y x1 x2, endogenous(x1 = z1, nomain)"
   ]
  },
  {
   "cell_type": "markdown",
   "metadata": {
    "hidden": true
   },
   "source": [
    "**<span style=\"color:DarkGreen;font-size:150%\"> Using margins with nonlinear and random-effects models </span>**"
   ]
  },
  {
   "cell_type": "code",
   "execution_count": null,
   "metadata": {
    "hidden": true
   },
   "outputs": [],
   "source": [
    "xteregress y x1 x2, endogenous(x1 = z1, nomain)"
   ]
  },
  {
   "cell_type": "markdown",
   "metadata": {
    "hidden": true
   },
   "source": [
    "**<span style=\"color:DarkGreen;font-size:150%\"> How to use margins with predict(base())</span>**"
   ]
  },
  {
   "cell_type": "code",
   "execution_count": null,
   "metadata": {
    "hidden": true
   },
   "outputs": [],
   "source": [
    "eregress y x1 x2 c.x1#c.x2\n",
    "margins, at(x1=generate(x1)) at(x1=generate(x1+1)) contrast(at(r))\n",
    "\n",
    "* To produce the same counterfactual, we type\n",
    "generate x1orig = x1\n",
    "margins, at(x1=generate(x1)) at(x1=generate(x1+1)) contrast(at(r)) predict(base(x1=x1orig))\n",
    "\n",
    "* If we wanted a comparison of x1+1 with x1+2, we would type\n",
    "generate x1orig = x1\n",
    "margins, at(x1=generate(x1+1)) at(x1=generate(x1+2)) contrast(at(r)) predict(base(x1=x1orig))\n",
    "\n",
    "* If we requested counterfactuals that involved changing x1 and x2, we would type\n",
    "generate x1orig = x1\n",
    "generate x2orig = x2\n",
    "margins, at(x1=generate(x1) x2=generate(x2)) at(x1=generate(x1+1) x2=generate(x2+1)) ///\n",
    " contrast(at(r)) predict(base(x1=x1orig x2=x2orig))\n",
    "\n",
    "* If we requested counterfactuals that involved changing x1 and x2, we would type\n",
    "generate x1orig = x1\n",
    "generate x2orig = x2\n",
    "margins, at(x1=generate(x1) x2=generate(x2)) at(x1=generate(x1+1) x2=generate(x2+1)) ///\n",
    " contrast(at(r)) predict(base(x1=x1orig x2=x2orig))"
   ]
  },
  {
   "cell_type": "markdown",
   "metadata": {},
   "source": [
    "# **<span style=\"color:crimson;font-size:150%\"> V. Finite Mixture Models</span>**"
   ]
  },
  {
   "cell_type": "markdown",
   "metadata": {},
   "source": [
    "# **<span style=\"color:crimson;font-size:150%\"> VI. Item Response Theory</span>**"
   ]
  },
  {
   "cell_type": "markdown",
   "metadata": {},
   "source": [
    "# **<span style=\"color:crimson;font-size:150%\"> VII. Lasso </span>**"
   ]
  },
  {
   "cell_type": "markdown",
   "metadata": {},
   "source": [
    "# **<span style=\"color:crimson;font-size:150%\"> VIII. Longitudinal-Data/Panel-Data </span>**"
   ]
  },
  {
   "cell_type": "markdown",
   "metadata": {},
   "source": [
    "# **<span style=\"color:crimson;font-size:150%\"> IX. Meta-Analysis </span>**"
   ]
  },
  {
   "cell_type": "markdown",
   "metadata": {},
   "source": [
    "# **<span style=\"color:crimson;font-size:150%\"> X. Multilevel Mixed-Effects </span>**"
   ]
  },
  {
   "cell_type": "markdown",
   "metadata": {},
   "source": [
    "# **<span style=\"color:crimson;font-size:150%\"> XI. Multiple-Imputation </span>**"
   ]
  },
  {
   "cell_type": "markdown",
   "metadata": {},
   "source": [
    "# **<span style=\"color:crimson;font-size:150%\"> XII. Multivariate Statistics </span>**"
   ]
  },
  {
   "cell_type": "markdown",
   "metadata": {},
   "source": [
    "# **<span style=\"color:crimson;font-size:150%\"> XIII. Power, Precision, and Sample-Size </span>**"
   ]
  },
  {
   "cell_type": "markdown",
   "metadata": {},
   "source": [
    "# **<span style=\"color:crimson;font-size:150%\"> XIV. Spatial Autoregressive Models </span>**"
   ]
  },
  {
   "cell_type": "markdown",
   "metadata": {},
   "source": [
    "# **<span style=\"color:crimson;font-size:150%\"> XV. Structural Equation Modeling </span>**"
   ]
  },
  {
   "cell_type": "markdown",
   "metadata": {},
   "source": [
    "# **<span style=\"color:crimson;font-size:150%\"> XVI. Survey Data </span>**"
   ]
  },
  {
   "cell_type": "markdown",
   "metadata": {},
   "source": [
    "## <span style=\"color:gold;font-size:150%\"> XVI.1 Introduction to survey data manual </span>   \n",
    "\n",
    "\n",
    "The outline is prensented alphabetically"
   ]
  },
  {
   "cell_type": "markdown",
   "metadata": {
    "heading_collapsed": true
   },
   "source": [
    "## <span style=\"color:gold;font-size:150%\"> XVI.2 Introduction to survey commands </span>   \n",
    "\n",
    "\n",
    "The outline is prensented by group of commands according to the functions their perform:  \n",
    "- survey design tools (svyset, svydescribe)  \n",
    "- survey data analysis tools (14 commands: **<span style=\"color:green\">svy, svy estimation, svy tabulation oneway, svy tabulation twoway, svy postestimation, estat, svy boostrap, boostrap_options, svy brr, brr_options, svy jakknife, jakknife_options, svy sdr, sdr_options</span>**)  \n",
    "- survey data concepts (**<span style=\"color:green\">variance estimation, subpopulation estimation, calibration, direct standardization, postratification</span>**)   \n",
    "- tools for programmers of new survey commands (**<span style=\"color:green\">ml for svy, markout</span>**)"
   ]
  },
  {
   "cell_type": "code",
   "execution_count": 1,
   "metadata": {
    "hidden": true
   },
   "outputs": [],
   "source": [
    "* One stage design survey data with: su1 = PSU\n",
    "use http://www.stata-press.com/data/r16/stage5a, clear\n"
   ]
  },
  {
   "cell_type": "code",
   "execution_count": 2,
   "metadata": {
    "hidden": true
   },
   "outputs": [
    {
     "name": "stdout",
     "output_type": "stream",
     "text": [
      "\n",
      "      pweight: pw\n",
      "          VCE: linearized\n",
      "  Single unit: missing\n",
      "     Strata 1: strata\n",
      "         SU 1: su1\n",
      "        FPC 1: fpc1\n"
     ]
    }
   ],
   "source": [
    "* We define data as survey data\n",
    "svyset su1 [pweight=pw], strata(strata) fpc(fpc1)"
   ]
  },
  {
   "cell_type": "markdown",
   "metadata": {
    "hidden": true
   },
   "source": [
    "For two levels servey design: first level is _country_ selected within each state (the strata), and the second level is the _schools_ selected hithin each country. **samwgt** is the weight of individual"
   ]
  },
  {
   "cell_type": "code",
   "execution_count": 3,
   "metadata": {
    "hidden": true
   },
   "outputs": [],
   "source": [
    "* Multistage survey design\n",
    "use http://www.stata-press.com/data/r16/multistage, clear\n"
   ]
  },
  {
   "cell_type": "code",
   "execution_count": 8,
   "metadata": {
    "hidden": true,
    "scrolled": true
   },
   "outputs": [
    {
     "name": "stdout",
     "output_type": "stream",
     "text": [
      "4071\n"
     ]
    }
   ],
   "source": [
    "di _N"
   ]
  },
  {
   "cell_type": "code",
   "execution_count": 5,
   "metadata": {
    "hidden": true
   },
   "outputs": [
    {
     "name": "stdout",
     "output_type": "stream",
     "text": [
      "\n",
      "      pweight: sampwgt\n",
      "          VCE: linearized\n",
      "  Single unit: missing\n",
      "     Strata 1: state\n",
      "         SU 1: county\n",
      "        FPC 1: ncounties\n",
      "     Strata 2: <one>\n",
      "         SU 2: school\n",
      "        FPC 2: nschools\n"
     ]
    }
   ],
   "source": [
    "svyset county [pw=sampwgt], strata(state) fpc(ncounties) || school, fpc(nschools)\n"
   ]
  },
  {
   "cell_type": "code",
   "execution_count": 6,
   "metadata": {
    "hidden": true,
    "scrolled": true
   },
   "outputs": [
    {
     "name": "stdout",
     "output_type": "stream",
     "text": [
      "\n",
      "Survey: Describing stage 1 sampling units\n",
      "\n",
      "      pweight: sampwgt\n",
      "          VCE: linearized\n",
      "  Single unit: missing\n",
      "     Strata 1: state\n",
      "         SU 1: county\n",
      "        FPC 1: ncounties\n",
      "     Strata 2: <one>\n",
      "         SU 2: school\n",
      "        FPC 2: nschools\n",
      "\n",
      "                             #Obs with  #Obs with     #Obs per included Unit\n",
      "           #Units    #Units   complete  missing   ----------------------------\n",
      "Stratum   included  omitted     data      data      min       mean      max   \n",
      "--------  --------  --------  --------  --------  --------  --------  --------\n",
      "       1         2         0        92         0        34      46.0        58\n",
      "       2         2         0       112         0        51      56.0        61\n",
      "       3         2         0        43         0        18      21.5        25\n",
      "       4         2         0        37         0        14      18.5        23\n",
      "       5         2         0        96         0        38      48.0        58\n",
      "       6         2         0        76         0        27      38.0        49\n",
      "       7         2         0        97         0        47      48.5        50\n",
      "       8         2         0       103         0        51      51.5        52\n",
      "       9         2         0        69         0        33      34.5        36\n",
      "      10         2         0        50         0        17      25.0        33\n",
      "      11         2         0        72         0        30      36.0        42\n",
      "      12         2         0        76         0        34      38.0        42\n",
      "      13         2         0       135         0        54      67.5        81\n",
      "      14         2         0       103         0        43      51.5        60\n",
      "      15         2         0        66         0        28      33.0        38\n",
      "      16         2         0        72         0        31      36.0        41\n",
      "      17         2         0        60         0        26      30.0        34\n",
      "      18         2         0        58         0        25      29.0        33\n",
      "      19         2         0        72         0        35      36.0        37\n",
      "      20         2         0        83         0        38      41.5        45\n",
      "      21         2         0        80         0        32      40.0        48\n",
      "      22         2         0        76         0        37      38.0        39\n",
      "      23         2         0        81         0        38      40.5        43\n",
      "      24         2         0        72         0        36      36.0        36\n",
      "      25         2         0        74         0        34      37.0        40\n",
      "      26         2         0        89         0        33      44.5        56\n",
      "      27         2         0       107         0        47      53.5        60\n",
      "      28         2         0       126         0        58      63.0        68\n",
      "      29         2         0        90         0        42      45.0        48\n",
      "      30         2         0        87         0        42      43.5        45\n",
      "      31         2         0        84         0        38      42.0        46\n",
      "      32         2         0        95         0        40      47.5        55\n",
      "      33         2         0        97         0        44      48.5        53\n",
      "      34         2         0        82         0        37      41.0        45\n",
      "      35         2         0        98         0        36      49.0        62\n",
      "      36         2         0        95         0        42      47.5        53\n",
      "      37         2         0        53         0        23      26.5        30\n",
      "      38         2         0        75         0        37      37.5        38\n",
      "      39         2         0        61         0        28      30.5        33\n",
      "      40         2         0        54         0        25      27.0        29\n",
      "      41         2         0        73         0        28      36.5        45\n",
      "      42         2         0        79         0        36      39.5        43\n",
      "      43         2         0       108         0        48      54.0        60\n",
      "      44         2         0        76         0        37      38.0        39\n",
      "      45         2         0       107         0        45      53.5        62\n",
      "      46         2         0       115         0        56      57.5        59\n",
      "      47         2         0        67         0        28      33.5        39\n",
      "      48         2         0        56         0        23      28.0        33\n",
      "      49         2         0        78         0        39      39.0        39\n",
      "      50         2         0        64         0        31      32.0        33\n",
      "--------  --------  --------  --------  --------  --------  --------  --------\n",
      "      50       100         0     4,071         0        14      40.7        81\n",
      "                              ------------------\n",
      "                                      4,071\n"
     ]
    }
   ],
   "source": [
    "* We use svydescribe varlist: to putout sampling design informations and missing values of varlist\n",
    "svydescribe weight"
   ]
  },
  {
   "cell_type": "code",
   "execution_count": 10,
   "metadata": {
    "hidden": true
   },
   "outputs": [
    {
     "name": "stdout",
     "output_type": "stream",
     "text": [
      "(running mean on estimation sample)\n",
      "\n",
      "Survey: Mean estimation\n",
      "\n",
      "Number of strata =      50        Number of obs   =      4,071\n",
      "Number of PSUs   =     100        Population size =  8,000,000\n",
      "                                  Design df       =         50\n",
      "\n",
      "--------------------------------------------------------------\n",
      "             |             Linearized\n",
      "             |       Mean   Std. Err.     [95% Conf. Interval]\n",
      "-------------+------------------------------------------------\n",
      "      weight |   160.2863   .7412512      158.7974    161.7751\n",
      "--------------------------------------------------------------\n"
     ]
    }
   ],
   "source": [
    "* Survey data analysis tools\n",
    "*1. Estimation of population mean\n",
    "svy: mean weight\n"
   ]
  },
  {
   "cell_type": "code",
   "execution_count": 11,
   "metadata": {
    "hidden": true
   },
   "outputs": [
    {
     "name": "stdout",
     "output_type": "stream",
     "text": [
      "(running regress on estimation sample)\n",
      "\n",
      "Survey: Linear regression\n",
      "\n",
      "Number of strata   =        50                  Number of obs     =      4,071\n",
      "Number of PSUs     =       100                  Population size   =  8,000,000\n",
      "                                                Design df         =         50\n",
      "                                                F(   1,     50)   =     593.99\n",
      "                                                Prob > F          =     0.0000\n",
      "                                                R-squared         =     0.2787\n",
      "\n",
      "------------------------------------------------------------------------------\n",
      "             |             Linearized\n",
      "      weight |      Coef.   Std. Err.      t    P>|t|     [95% Conf. Interval]\n",
      "-------------+----------------------------------------------------------------\n",
      "      height |   .7163115   .0293908    24.37   0.000     .6572784    .7753447\n",
      "       _cons |  -149.6183   12.57265   -11.90   0.000    -174.8712   -124.3654\n",
      "------------------------------------------------------------------------------\n"
     ]
    }
   ],
   "source": [
    "*2. Regression to get association between weight and height\n",
    "svy: regress weight height\n"
   ]
  },
  {
   "cell_type": "code",
   "execution_count": 15,
   "metadata": {
    "hidden": true
   },
   "outputs": [],
   "source": [
    "* Cox’s proportional hazards model\n",
    "use http://www.stata-press.com/data/r16/nhefs, clear\n"
   ]
  },
  {
   "cell_type": "code",
   "execution_count": 16,
   "metadata": {
    "hidden": true
   },
   "outputs": [
    {
     "name": "stdout",
     "output_type": "stream",
     "text": [
      "\n",
      "      pweight: swgt2\n",
      "          VCE: linearized\n",
      "  Single unit: missing\n",
      "     Strata 1: strata2\n",
      "         SU 1: psu2\n",
      "        FPC 1: <zero>\n"
     ]
    }
   ],
   "source": [
    "svyset psu2 [pw=swgt2], strata(strata2)"
   ]
  },
  {
   "cell_type": "code",
   "execution_count": 18,
   "metadata": {
    "hidden": true
   },
   "outputs": [
    {
     "name": "stdout",
     "output_type": "stream",
     "text": [
      "\n",
      "     failure event:  lung_cancer != 0 & lung_cancer < .\n",
      "obs. time interval:  (0, age_lung_cancer]\n",
      " exit on or before:  failure\n",
      "            weight:  [pweight=swgt2]\n",
      "\n",
      "------------------------------------------------------------------------------\n",
      "     14,407  total observations\n",
      "      5,126  event time missing (age_lung_cancer>=.)            PROBABLE ERROR\n",
      "------------------------------------------------------------------------------\n",
      "      9,281  observations remaining, representing\n",
      "         83  failures in single-record/single-failure data\n",
      "    599,691  total analysis time at risk and under observation\n",
      "                                                at risk from t =         0\n",
      "                                     earliest observed entry t =         0\n",
      "                                          last observed exit t =        97\n"
     ]
    }
   ],
   "source": [
    "stset age_lung_cancer [pw=swgt2], fail(lung_cancer) // declare data as survival time data"
   ]
  },
  {
   "cell_type": "code",
   "execution_count": 19,
   "metadata": {
    "hidden": true
   },
   "outputs": [
    {
     "name": "stdout",
     "output_type": "stream",
     "text": [
      "(running stcox on estimation sample)\n",
      "\n",
      "Survey: Cox regression\n",
      "\n",
      "Number of strata   =        35                Number of obs     =        9,149\n",
      "Number of PSUs     =       105                Population size   =  151,327,827\n",
      "                                              Design df         =           70\n",
      "                                              F(   5,     66)   =        14.07\n",
      "                                              Prob > F          =       0.0000\n",
      "\n",
      "-------------------------------------------------------------------------------\n",
      "              |             Linearized\n",
      "           _t | Haz. Ratio   Std. Err.      t    P>|t|     [95% Conf. Interval]\n",
      "--------------+----------------------------------------------------------------\n",
      "former_smoker |   2.788113   .6205102     4.61   0.000     1.788705    4.345923\n",
      "       smoker |   7.849483   2.593249     6.24   0.000     4.061457    15.17051\n",
      "         male |   1.187611   .3445315     0.59   0.555     .6658757    2.118142\n",
      "       urban1 |   .8035074   .3285144    -0.54   0.594     .3555123    1.816039\n",
      "        rural |   1.581674   .5281859     1.37   0.174     .8125799    3.078702\n",
      "-------------------------------------------------------------------------------\n"
     ]
    }
   ],
   "source": [
    "* Running Cox regression in survival model\n",
    "svy: stcox former_smoker smoker male urban1 rural"
   ]
  },
  {
   "cell_type": "code",
   "execution_count": 20,
   "metadata": {
    "hidden": true,
    "scrolled": true
   },
   "outputs": [
    {
     "name": "stdout",
     "output_type": "stream",
     "text": [
      "\n",
      "\n",
      "\n",
      "Survey: Describing stage 1 sampling units\n",
      "\n",
      "      pweight: finalwgt\n",
      "          VCE: linearized\n",
      "  Single unit: missing\n",
      "     Strata 1: stratid\n",
      "         SU 1: psuid\n",
      "        FPC 1: <zero>\n",
      "\n",
      "                                      #Obs per Unit\n",
      "                              ----------------------------\n",
      "Stratum    #Units     #Obs      min       mean      max   \n",
      "--------  --------  --------  --------  --------  --------\n",
      "       1         2       380       165     190.0       215\n",
      "       2         2       185        67      92.5       118\n",
      "       3         2       348       149     174.0       199\n",
      "       4         2       460       229     230.0       231\n",
      "       5         2       252       105     126.0       147\n",
      "       6         2       298       131     149.0       167\n",
      "       7         2       476       206     238.0       270\n",
      "       8         2       338       158     169.0       180\n",
      "       9         2       244       100     122.0       144\n",
      "      10         2       262       119     131.0       143\n",
      "      11         2       275       120     137.5       155\n",
      "      12         2       314       144     157.0       170\n",
      "      13         2       342       154     171.0       188\n",
      "      14         2       405       200     202.5       205\n",
      "      15         2       380       189     190.0       191\n",
      "      16         2       336       159     168.0       177\n",
      "      17         2       393       180     196.5       213\n",
      "      18         2       359       144     179.5       215\n",
      "      20         2       285       125     142.5       160\n",
      "      21         2       214       102     107.0       112\n",
      "      22         2       301       128     150.5       173\n",
      "      23         2       341       159     170.5       182\n",
      "      24         2       438       205     219.0       233\n",
      "      25         2       256       116     128.0       140\n",
      "      26         2       261       129     130.5       132\n",
      "      27         2       283       139     141.5       144\n",
      "      28         2       299       136     149.5       163\n",
      "      29         2       503       215     251.5       288\n",
      "      30         2       365       166     182.5       199\n",
      "      31         2       308       143     154.0       165\n",
      "      32         2       450       211     225.0       239\n",
      "--------  --------  --------  --------  --------  --------\n",
      "      31        62    10,351        67     167.0       288\n"
     ]
    }
   ],
   "source": [
    "* Two-way tables for survey data\n",
    "use http://www.stata-press.com/data/r16/nhanes2b, clear\n",
    "svydescribe"
   ]
  },
  {
   "cell_type": "code",
   "execution_count": 22,
   "metadata": {
    "hidden": true
   },
   "outputs": [
    {
     "name": "stdout",
     "output_type": "stream",
     "text": [
      "(running tabulate on estimation sample)\n",
      "\n",
      "Number of strata   =        31                Number of obs     =       10,349\n",
      "Number of PSUs     =        62                Population size   =  117,131,111\n",
      "                                              Design df         =           31\n",
      "\n",
      "-------------------------------------------------------------\n",
      "1=white,  |\n",
      "2=black,  |               diabetes, 1=yes, 0=no              \n",
      "3=other   |               0                1            Total\n",
      "----------+--------------------------------------------------\n",
      "    White |          0.9680           0.0320           1.0000\n",
      "          |        (0.0020)         (0.0020)                 \n",
      "          | [0.9638,0.9718]  [0.0282,0.0362]                 \n",
      "          | \n",
      "    Black |          0.9410           0.0590           1.0000\n",
      "          |        (0.0061)         (0.0061)                 \n",
      "          | [0.9271,0.9523]  [0.0477,0.0729]                 \n",
      "          | \n",
      "    Other |          0.9797           0.0203           1.0000\n",
      "          |        (0.0076)         (0.0076)                 \n",
      "          | [0.9566,0.9906]  [0.0094,0.0434]                 \n",
      "          | \n",
      "    Total |          0.9658           0.0342           1.0000\n",
      "          |        (0.0018)         (0.0018)                 \n",
      "          | [0.9619,0.9693]  [0.0307,0.0381]                 \n",
      "-------------------------------------------------------------\n",
      "  Key:  row proportion\n",
      "        (linearized standard error of row proportion)\n",
      "        [95% confidence interval for row proportion]\n",
      "\n",
      "  Pearson:\n",
      "    Uncorrected   chi2(2)         =   21.3483\n",
      "    Design-based  F(1.52, 47.26)  =   15.0056     P = 0.0000\n"
     ]
    }
   ],
   "source": [
    "svy: tabulate race diabetes, row se ci format(%7.4f)"
   ]
  },
  {
   "cell_type": "code",
   "execution_count": 31,
   "metadata": {
    "hidden": true
   },
   "outputs": [],
   "source": [
    "* Comparing means\n",
    "use http://www.stata-press.com/data/r16/highschool, clear // already svyset\n"
   ]
  },
  {
   "cell_type": "code",
   "execution_count": 38,
   "metadata": {
    "hidden": true
   },
   "outputs": [
    {
     "name": "stdout",
     "output_type": "stream",
     "text": [
      "(running mean on estimation sample)\n",
      "\n",
      "Survey: Mean estimation\n",
      "\n",
      "Number of strata =      50        Number of obs   =      4,071\n",
      "Number of PSUs   =     100        Population size =  8,000,000\n",
      "                                  Design df       =         50\n",
      "\n",
      "         male: sex = male\n",
      "       female: sex = female\n",
      "\n",
      "--------------------------------------------------------------\n",
      "             |             Linearized\n",
      "        Over |       Mean   Std. Err.     [95% Conf. Interval]\n",
      "-------------+------------------------------------------------\n",
      "weight       |\n",
      "        male |   175.4809   1.116802      173.2377    177.7241\n",
      "      female |    146.204   .9004157      144.3955    148.0125\n",
      "--------------------------------------------------------------\n"
     ]
    }
   ],
   "source": [
    "svy: mean weight, over(sex)\n"
   ]
  },
  {
   "cell_type": "code",
   "execution_count": 36,
   "metadata": {
    "hidden": true
   },
   "outputs": [
    {
     "name": "stdout",
     "output_type": "stream",
     "text": [
      "\n",
      "Adjusted Wald test\n",
      "1.sex not found\n"
     ]
    },
    {
     "name": "stderr",
     "output_type": "stream",
     "text": [
      "r(111);\n"
     ]
    },
    {
     "name": "stdout",
     "output_type": "stream",
     "text": [
      "\n"
     ]
    }
   ],
   "source": [
    "* test after mean\n",
    "test 1.sex\n"
   ]
  },
  {
   "cell_type": "code",
   "execution_count": 33,
   "metadata": {
    "hidden": true
   },
   "outputs": [
    {
     "name": "stdout",
     "output_type": "stream",
     "text": [
      "\n",
      "Adjusted Wald test\n",
      "variable sex not found\n"
     ]
    },
    {
     "name": "stderr",
     "output_type": "stream",
     "text": [
      "r(111);\n"
     ]
    },
    {
     "name": "stdout",
     "output_type": "stream",
     "text": [
      "\n"
     ]
    }
   ],
   "source": [
    "* test after mean\n",
    "test weight#1.sex - weight#2.sex = 30\n"
   ]
  },
  {
   "cell_type": "code",
   "execution_count": 37,
   "metadata": {
    "hidden": true
   },
   "outputs": [
    {
     "name": "stdout",
     "output_type": "stream",
     "text": [
      "\n",
      "      pweight: sampwgt\n",
      "          VCE: linearized\n",
      "  Single unit: missing\n",
      "     Strata 1: state\n",
      "         SU 1: county\n",
      "        FPC 1: ncounties\n",
      "     Strata 2: <one>\n",
      "         SU 2: school\n",
      "        FPC 2: nschools\n"
     ]
    }
   ],
   "source": [
    "* reports the survey design settings\n",
    "estat svyset\n",
    "estat effects\n",
    "estat lceffects\n",
    "estat size // report table of population and subpopulation after svy: mean; proportion; ratio; total\n",
    "estat sd // standard deviation of subpopulation after svy: mean\n",
    "estat strata // report number of singletons \n",
    "estat cv // report coefficient variation of each coefficient in current estimation\n",
    "estat gof // report goodness of fit test after binary model\n"
   ]
  },
  {
   "cell_type": "code",
   "execution_count": 39,
   "metadata": {
    "hidden": true
   },
   "outputs": [
    {
     "name": "stdout",
     "output_type": "stream",
     "text": [
      "\n",
      "         male: sex = male\n",
      "       female: sex = female\n",
      "\n",
      "----------------------------------------------------------\n",
      "             |             Linearized\n",
      "        Over |       Mean   Std. Err.       DEFF      DEFT\n",
      "-------------+--------------------------------------------\n",
      "weight       |\n",
      "        male |   175.4809   1.116802     2.61016   1.61519\n",
      "      female |    146.204   .9004157      1.7328   1.31603\n",
      "----------------------------------------------------------\n",
      "Note: Weights must represent population totals for deff to\n",
      "      be correct when using an FPC; however, deft is\n",
      "      invariant to the scale of weights.\n"
     ]
    }
   ],
   "source": [
    "estat effects"
   ]
  },
  {
   "cell_type": "code",
   "execution_count": 40,
   "metadata": {
    "hidden": true
   },
   "outputs": [
    {
     "name": "stdout",
     "output_type": "stream",
     "text": [
      "variable sex not found\n"
     ]
    },
    {
     "name": "stderr",
     "output_type": "stream",
     "text": [
      "r(111);\n"
     ]
    },
    {
     "name": "stdout",
     "output_type": "stream",
     "text": [
      "\n"
     ]
    }
   ],
   "source": [
    "estat lceffects weight#1.sex - weight#2.sex"
   ]
  },
  {
   "cell_type": "markdown",
   "metadata": {
    "hidden": true
   },
   "source": [
    "Estimation of variance with four methods:   \n",
    "1. BRR (Balanced Repeated Replication)  \n",
    "2. Jakknife replication   \n",
    "3. Boostrap\n",
    "4. SDR (Successive Difference Replication)   \n",
    "\n",
    "\n",
    "**Boostrap** and **SDR** work only with externly weight"
   ]
  },
  {
   "cell_type": "code",
   "execution_count": 43,
   "metadata": {
    "hidden": true,
    "scrolled": true
   },
   "outputs": [
    {
     "name": "stdout",
     "output_type": "stream",
     "text": [
      "\n",
      "\n",
      "\n",
      "Survey: Describing stage 1 sampling units\n",
      "\n",
      "      pweight: finalwgt\n",
      "          VCE: linearized\n",
      "  Single unit: missing\n",
      "     Strata 1: strata\n",
      "         SU 1: psu\n",
      "        FPC 1: <zero>\n",
      "\n",
      "                                      #Obs per Unit\n",
      "                              ----------------------------\n",
      "Stratum    #Units     #Obs      min       mean      max   \n",
      "--------  --------  --------  --------  --------  --------\n",
      "       1         2       380       165     190.0       215\n",
      "       2         2       185        67      92.5       118\n",
      "       3         2       348       149     174.0       199\n",
      "       4         2       460       229     230.0       231\n",
      "       5         2       252       105     126.0       147\n",
      "       6         2       298       131     149.0       167\n",
      "       7         2       476       206     238.0       270\n",
      "       8         2       338       158     169.0       180\n",
      "       9         2       244       100     122.0       144\n",
      "      10         2       262       119     131.0       143\n",
      "      11         2       275       120     137.5       155\n",
      "      12         2       314       144     157.0       170\n",
      "      13         2       342       154     171.0       188\n",
      "      14         2       405       200     202.5       205\n",
      "      15         2       380       189     190.0       191\n",
      "      16         2       336       159     168.0       177\n",
      "      17         2       393       180     196.5       213\n",
      "      18         2       359       144     179.5       215\n",
      "      20         2       285       125     142.5       160\n",
      "      21         2       214       102     107.0       112\n",
      "      22         2       301       128     150.5       173\n",
      "      23         2       341       159     170.5       182\n",
      "      24         2       438       205     219.0       233\n",
      "      25         2       256       116     128.0       140\n",
      "      26         2       261       129     130.5       132\n",
      "      27         2       283       139     141.5       144\n",
      "      28         2       299       136     149.5       163\n",
      "      29         2       503       215     251.5       288\n",
      "      30         2       365       166     182.5       199\n",
      "      31         2       308       143     154.0       165\n",
      "      32         2       450       211     225.0       239\n",
      "--------  --------  --------  --------  --------  --------\n",
      "      31        62    10,351        67     167.0       288\n"
     ]
    }
   ],
   "source": [
    "* BRR and replicate-weight variables\n",
    "use http://www.stata-press.com/data/r16/nhanes2, clear\n",
    "svydescribe\n"
   ]
  },
  {
   "cell_type": "code",
   "execution_count": 44,
   "metadata": {
    "hidden": true
   },
   "outputs": [],
   "source": [
    "* new dataset allready svyset with  brr replicate weight\n",
    "use http://www.stata-press.com/data/r16/nhanes2brr, clear\n"
   ]
  },
  {
   "cell_type": "code",
   "execution_count": 45,
   "metadata": {
    "hidden": true
   },
   "outputs": [
    {
     "name": "stdout",
     "output_type": "stream",
     "text": [
      "\n",
      "      pweight: finalwgt\n",
      "          VCE: brr\n",
      "          MSE: off\n",
      "    brrweight: brr_1 .. brr_32\n",
      "  Single unit: missing\n",
      "     Strata 1: <one>\n",
      "         SU 1: <observations>\n",
      "        FPC 1: <zero>\n"
     ]
    }
   ],
   "source": [
    "svyset"
   ]
  },
  {
   "cell_type": "code",
   "execution_count": 46,
   "metadata": {
    "hidden": true
   },
   "outputs": [
    {
     "name": "stdout",
     "output_type": "stream",
     "text": [
      "(running total on estimation sample)\n",
      "\n",
      "BRR replications (32)\n",
      "----+--- 1 ---+--- 2 ---+--- 3 ---+--- 4 ---+--- 5 \n",
      "................................\n",
      "\n",
      "BRR results                                   Number of obs     =       10,351\n",
      "                                              Population size   =  117,157,513\n",
      "                                              Replications      =           32\n",
      "                                              Design df         =           31\n",
      "\n",
      "      command:  total weight height\n",
      "         WtoH:  _b[weight]/_b[height]\n",
      "\n",
      "------------------------------------------------------------------------------\n",
      "             |                 BRR\n",
      "             |      Coef.   Std. Err.      t    P>|t|     [95% Conf. Interval]\n",
      "-------------+----------------------------------------------------------------\n",
      "        WtoH |   .4268116   .0008904   479.36   0.000     .4249957    .4286276\n",
      "------------------------------------------------------------------------------\n"
     ]
    }
   ],
   "source": [
    "svy brr WtoH = (_b[weight]/_b[height]): total weight height"
   ]
  },
  {
   "cell_type": "code",
   "execution_count": 47,
   "metadata": {
    "hidden": true
   },
   "outputs": [],
   "source": [
    "* Subpopulation estimation\n",
    "use http://www.stata-press.com/data/r16/highschool, clear\n"
   ]
  },
  {
   "cell_type": "code",
   "execution_count": 48,
   "metadata": {
    "hidden": true
   },
   "outputs": [
    {
     "name": "stdout",
     "output_type": "stream",
     "text": [
      "\n",
      "\n",
      "              storage   display    value\n",
      "variable name   type    format     label      variable label\n",
      "---------------------------------------------------------------------------------------------------------------------------------------------------------------------------------------------------------------------------------------------------------------\n",
      "sex             byte    %9.0g      sex        1=male, 2=female\n",
      "\n",
      "sex:\n",
      "           1 male\n",
      "           2 female\n"
     ]
    }
   ],
   "source": [
    "describe sex\n",
    "label list sex"
   ]
  },
  {
   "cell_type": "code",
   "execution_count": 49,
   "metadata": {
    "hidden": true
   },
   "outputs": [
    {
     "name": "stdout",
     "output_type": "stream",
     "text": [
      "\n",
      "\n",
      "(running regress on estimation sample)\n",
      "\n",
      "Survey: Linear regression\n",
      "\n",
      "Number of strata   =        50                  Number of obs     =      4,071\n",
      "Number of PSUs     =       100                  Population size   =  8,000,000\n",
      "                                                Subpop. no. obs   =      1,938\n",
      "                                                Subpop. size      =  3,848,021\n",
      "                                                Design df         =         50\n",
      "                                                F(   1,     50)   =     225.38\n",
      "                                                Prob > F          =     0.0000\n",
      "                                                R-squared         =     0.2347\n",
      "\n",
      "------------------------------------------------------------------------------\n",
      "             |             Linearized\n",
      "      weight |      Coef.   Std. Err.      t    P>|t|     [95% Conf. Interval]\n",
      "-------------+----------------------------------------------------------------\n",
      "      height |   .7632911   .0508432    15.01   0.000     .6611696    .8654127\n",
      "       _cons |  -168.6532    22.5708    -7.47   0.000     -213.988   -123.3184\n",
      "------------------------------------------------------------------------------\n"
     ]
    }
   ],
   "source": [
    "* Subpopulation specification\n",
    "generate male = sex == 1 if !missing(sex)\n",
    "svy, subpop(male): regress weight height\n"
   ]
  },
  {
   "cell_type": "code",
   "execution_count": 50,
   "metadata": {
    "hidden": true
   },
   "outputs": [],
   "source": [
    "* Standardized rates\n",
    "use http://www.stata-press.com/data/r16/stdize, clear\n"
   ]
  },
  {
   "cell_type": "code",
   "execution_count": 51,
   "metadata": {
    "hidden": true
   },
   "outputs": [
    {
     "name": "stdout",
     "output_type": "stream",
     "text": [
      "\n",
      "\n",
      "\n",
      "      pweight: <none>\n",
      "          VCE: linearized\n",
      "  Single unit: missing\n",
      "     Strata 1: <one>\n",
      "         SU 1: <observations>\n",
      "        FPC 1: fpc\n"
     ]
    }
   ],
   "source": [
    "gen fpc = 1 // specify a census data: fpc = 100%\n",
    "svyset, fpc(fpc)\n"
   ]
  },
  {
   "cell_type": "code",
   "execution_count": 52,
   "metadata": {
    "hidden": true,
    "scrolled": true
   },
   "outputs": [
    {
     "name": "stdout",
     "output_type": "stream",
     "text": [
      "(running ratio on estimation sample)\n",
      "\n",
      "Survey: Ratio estimation\n",
      "\n",
      "Number of strata =       1        Number of obs   =         21\n",
      "Number of PSUs   =      21        Population size =         21\n",
      "                                  Design df       =         20\n",
      "\n",
      "      Bethnal: bgdeaths/bgliving\n",
      "      Hanover: hsdeaths/hsliving\n",
      "\n",
      "--------------------------------------------------------------\n",
      "             |             Linearized\n",
      "             |      Ratio   Std. Err.     [95% Conf. Interval]\n",
      "-------------+------------------------------------------------\n",
      "     Bethnal |   .0238095          0             .           .\n",
      "     Hanover |   .0213384          0             .           .\n",
      "--------------------------------------------------------------\n",
      "Note: Zero standard errors because of 100% sampling rate\n",
      "      detected for FPC in the first stage.\n"
     ]
    }
   ],
   "source": [
    "svy: ratio (Bethnal: bgdeaths/bgliving)(Hanover: hsdeaths/hsliving)"
   ]
  },
  {
   "cell_type": "markdown",
   "metadata": {
    "hidden": true
   },
   "source": [
    "We standardize _age_ classes to compare the two ratios using _bgliving_ as population sizes"
   ]
  },
  {
   "cell_type": "code",
   "execution_count": 53,
   "metadata": {
    "hidden": true
   },
   "outputs": [
    {
     "name": "stdout",
     "output_type": "stream",
     "text": [
      "(running ratio on estimation sample)\n",
      "\n",
      "Survey: Ratio estimation\n",
      "\n",
      "Number of strata =       1        Number of obs   =         21\n",
      "Number of PSUs   =      21        Population size =         21\n",
      "N. of std strata =      21        Design df       =         20\n",
      "\n",
      "      Bethnal: bgdeaths/bgliving\n",
      "      Hanover: hsdeaths/hsliving\n",
      "\n",
      "--------------------------------------------------------------\n",
      "             |             Linearized\n",
      "             |      Ratio   Std. Err.     [95% Conf. Interval]\n",
      "-------------+------------------------------------------------\n",
      "     Bethnal |   .0238095          0             .           .\n",
      "     Hanover |   .0266409          0             .           .\n",
      "--------------------------------------------------------------\n",
      "Note: Zero standard errors because of 100% sampling rate\n",
      "      detected for FPC in the first stage.\n"
     ]
    }
   ],
   "source": [
    "svy: ratio (Bethnal: bgdeaths/bgliving) (Hanover: hsdeaths/hsliving), stdize(age) stdweight(bgliving)"
   ]
  },
  {
   "cell_type": "code",
   "execution_count": 54,
   "metadata": {
    "hidden": true
   },
   "outputs": [],
   "source": [
    "* Poststratified mean\n",
    "use http://www.stata-press.com/data/r16/poststrata, clear\n"
   ]
  },
  {
   "cell_type": "code",
   "execution_count": 55,
   "metadata": {
    "hidden": true
   },
   "outputs": [
    {
     "name": "stdout",
     "output_type": "stream",
     "text": [
      "\n",
      "      pweight: <none>\n",
      "          VCE: linearized\n",
      "  Single unit: missing\n",
      "     Strata 1: <one>\n",
      "         SU 1: <observations>\n",
      "        FPC 1: fpc\n"
     ]
    }
   ],
   "source": [
    "estat svyset\n"
   ]
  },
  {
   "cell_type": "code",
   "execution_count": 56,
   "metadata": {
    "hidden": true
   },
   "outputs": [
    {
     "name": "stdout",
     "output_type": "stream",
     "text": [
      "\n",
      "      pweight: <none>\n",
      "          VCE: linearized\n",
      "   Poststrata: type\n",
      "   Postweight: postwgt\n",
      "  Single unit: missing\n",
      "     Strata 1: <one>\n",
      "         SU 1: <observations>\n",
      "        FPC 1: fpc\n"
     ]
    }
   ],
   "source": [
    "svyset, poststrata(type) postweight(postwgt) fpc(fpc)\n"
   ]
  },
  {
   "cell_type": "code",
   "execution_count": 57,
   "metadata": {
    "hidden": true
   },
   "outputs": [
    {
     "name": "stdout",
     "output_type": "stream",
     "text": [
      "(running mean on estimation sample)\n",
      "\n",
      "Survey: Mean estimation\n",
      "\n",
      "Number of strata =       1        Number of obs   =         50\n",
      "Number of PSUs   =      50        Population size =      1,300\n",
      "N. of poststrata =       2        Design df       =         49\n",
      "\n",
      "--------------------------------------------------------------\n",
      "             |             Linearized\n",
      "             |       Mean   Std. Err.     [95% Conf. Interval]\n",
      "-------------+------------------------------------------------\n",
      "      totexp |   40.11513   1.163498      37.77699    42.45327\n",
      "--------------------------------------------------------------\n"
     ]
    }
   ],
   "source": [
    "svy: mean totexp\n"
   ]
  },
  {
   "cell_type": "code",
   "execution_count": 58,
   "metadata": {
    "hidden": true
   },
   "outputs": [
    {
     "name": "stdout",
     "output_type": "stream",
     "text": [
      "\n",
      "\n",
      "      pweight: <none>\n",
      "          VCE: linearized\n",
      "  Single unit: missing\n",
      "     Strata 1: <one>\n",
      "         SU 1: <observations>\n",
      "        FPC 1: fpc\n",
      "\n",
      "(running mean on estimation sample)\n",
      "\n",
      "Survey: Mean estimation\n",
      "\n",
      "Number of strata =       1        Number of obs   =         50\n",
      "Number of PSUs   =      50        Population size =         50\n",
      "                                  Design df       =         49\n",
      "\n",
      "--------------------------------------------------------------\n",
      "             |             Linearized\n",
      "             |       Mean   Std. Err.     [95% Conf. Interval]\n",
      "-------------+------------------------------------------------\n",
      "      totexp |    39.7254   2.221747      35.26063    44.19017\n",
      "--------------------------------------------------------------\n"
     ]
    }
   ],
   "source": [
    "* Whithout postratification\n",
    "svyset, fpc(fpc)\n",
    "svy: mean totexp\n"
   ]
  },
  {
   "cell_type": "code",
   "execution_count": null,
   "metadata": {
    "hidden": true
   },
   "outputs": [],
   "source": [
    "* Tools for programmers of new survey commands\n",
    "* A voir"
   ]
  },
  {
   "cell_type": "markdown",
   "metadata": {},
   "source": [
    "## <span style=\"color:gold;font-size:150%\"> XVI.3 More options for bootstrap and Balanced Repeated Replication (BRR) variance estimation </span>   \n",
    "\n",
    "\n",
    "_**mse, nodots, dots(#), \\[bsn(#) ou hadamard(matrix), fay(#)\\], saving(filename,...), verbose, noisily, trace, title(text), nodrop, reject(exp)**_"
   ]
  },
  {
   "cell_type": "markdown",
   "metadata": {},
   "source": [
    "## <span style=\"color:gold;font-size:150%\"> XVI.4 Calibration for survey data </span>   \n",
    "\n"
   ]
  },
  {
   "cell_type": "markdown",
   "metadata": {},
   "source": [
    "# **<span style=\"color:crimson;font-size:150%\"> XVII. Survival Analysis</span>**"
   ]
  },
  {
   "cell_type": "markdown",
   "metadata": {},
   "source": [
    "# **<span style=\"color:crimson;font-size:150%\"> XVIII. Time Series</span>**"
   ]
  },
  {
   "cell_type": "markdown",
   "metadata": {},
   "source": [
    "# **<span style=\"color:crimson;font-size:150%\"> XIX. Treatment Effects</span>**"
   ]
  },
  {
   "cell_type": "markdown",
   "metadata": {},
   "source": [
    "# **<span style=\"color:crimson;font-size:150%\"> END of chapters </span>**"
   ]
  },
  {
   "cell_type": "code",
   "execution_count": null,
   "metadata": {},
   "outputs": [],
   "source": [
    "exit, clear"
   ]
  },
  {
   "cell_type": "code",
   "execution_count": 1,
   "metadata": {},
   "outputs": [],
   "source": [
    "%show_gui"
   ]
  },
  {
   "cell_type": "code",
   "execution_count": null,
   "metadata": {},
   "outputs": [],
   "source": []
  }
 ],
 "metadata": {
  "kernelspec": {
   "display_name": "Stata",
   "language": "stata",
   "name": "stata"
  },
  "language_info": {
   "codemirror_mode": "stata",
   "file_extension": ".do",
   "mimetype": "text/x-stata",
   "name": "stata",
   "version": "15.1"
  },
  "toc": {
   "base_numbering": 1,
   "nav_menu": {},
   "number_sections": true,
   "sideBar": true,
   "skip_h1_title": false,
   "title_cell": "Table of Contents",
   "title_sidebar": "Contents",
   "toc_cell": false,
   "toc_position": {},
   "toc_section_display": true,
   "toc_window_display": false
  }
 },
 "nbformat": 4,
 "nbformat_minor": 4
}
