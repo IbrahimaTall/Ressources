{
 "cells": [
  {
   "cell_type": "markdown",
   "metadata": {},
   "source": [
    "<span style=\"font-size:xx-large; color:SeaGreen;text-align:center;\">**EXPORTING RESULTS FROM STATA**</span>"
   ]
  },
  {
   "cell_type": "markdown",
   "metadata": {},
   "source": [
    "In this ressource, we will discus about three main outputs types :\n",
    "\n",
    "- Excel file exporting;\n",
    "- Word file exporting;\n",
    "- PDF file exporting."
   ]
  },
  {
   "cell_type": "markdown",
   "metadata": {},
   "source": [
    "****"
   ]
  },
  {
   "cell_type": "code",
   "execution_count": 1,
   "metadata": {},
   "outputs": [
    {
     "name": "stdout",
     "output_type": "stream",
     "text": [
      "(1978 Automobile Data)\n"
     ]
    }
   ],
   "source": [
    "* Loading datasets\n",
    "sysuse auto, clear"
   ]
  },
  {
   "cell_type": "code",
   "execution_count": 2,
   "metadata": {},
   "outputs": [],
   "source": [
    "* Creating categorical variables \n",
    "egen prixg = cut(price), group(4)\n",
    "label define prixg 0\"Facile\" 1\"Moyen\" 2\"Cher\" 3\"Dur\"\n",
    "label value prixg prixg"
   ]
  },
  {
   "cell_type": "code",
   "execution_count": 3,
   "metadata": {},
   "outputs": [],
   "source": [
    "egen mpg_cat = cut(mpg), group(4)\n",
    "label define mpg_cat 0\"Low mpg\" 1\"medium mpg\" 2\"Good mpg\" 3\"Great mpg\"\n",
    "label value mpg_cat mpg_cat"
   ]
  },
  {
   "cell_type": "markdown",
   "metadata": {},
   "source": [
    "## <span style=\"color:olive\"> I. Excel files exporting using putexcel, tab2xl, tabout command </span>"
   ]
  },
  {
   "cell_type": "code",
   "execution_count": null,
   "metadata": {},
   "outputs": [],
   "source": [
    "* To take a look at the command, we use help command\n",
    "help putexcel"
   ]
  },
  {
   "cell_type": "code",
   "execution_count": 4,
   "metadata": {},
   "outputs": [
    {
     "name": "stdout",
     "output_type": "stream",
     "text": [
      "Note: file will be replaced when the first putexcel command is issued\n"
     ]
    }
   ],
   "source": [
    "* First, we need to set the excel file \n",
    "putexcel set mystatxl, replace\n",
    "/* We can also define the excel file in many other way:\n",
    "putexcel set mystatxl, sheet(stat, replace)\n",
    "putexcel set mystatxl, sheet(stat) modify */"
   ]
  },
  {
   "cell_type": "markdown",
   "metadata": {},
   "source": [
    "### <span style=\"color:olive\"> I.1 One-way tables output </span> "
   ]
  },
  {
   "cell_type": "code",
   "execution_count": 5,
   "metadata": {},
   "outputs": [
    {
     "name": "stdout",
     "output_type": "stream",
     "text": [
      "\n",
      "      prixg |      Freq.     Percent        Cum.\n",
      "------------+-----------------------------------\n",
      "      Moyen |         19       25.68       25.68\n",
      "        Dur |         19       25.68       51.35\n",
      "     Facile |         18       24.32       75.68\n",
      "       Cher |         18       24.32      100.00\n",
      "------------+-----------------------------------\n",
      "      Total |         74      100.00\n"
     ]
    }
   ],
   "source": [
    "* One way tabulate\n",
    "tabulate prixg, sort matcell(mat1)"
   ]
  },
  {
   "cell_type": "code",
   "execution_count": 6,
   "metadata": {},
   "outputs": [
    {
     "name": "stdout",
     "output_type": "stream",
     "text": [
      "file mystatxl.xlsx saved\n"
     ]
    }
   ],
   "source": [
    "* Using mat1 matrix\n",
    "putexcel A1 = (\" Table 1: One way table\") A2 = matrix(mat1) // here, we have only frequences colonne"
   ]
  },
  {
   "cell_type": "code",
   "execution_count": 7,
   "metadata": {},
   "outputs": [
    {
     "name": "stdout",
     "output_type": "stream",
     "text": [
      "file mystatxl.xlsx saved\n"
     ]
    }
   ],
   "source": [
    "* Using tab2xl\n",
    "tab2xl prixg using mystatxl, summarize(price) row(10) col(1)"
   ]
  },
  {
   "cell_type": "code",
   "execution_count": 8,
   "metadata": {},
   "outputs": [
    {
     "name": "stdout",
     "output_type": "stream",
     "text": [
      "\n",
      "------------------------------------\n",
      "    prixg |       Freq.  mean(price)\n",
      "----------+-------------------------\n",
      "   Facile |          18      3,891.7\n",
      "    Moyen |          19      4,576.9\n",
      "     Cher |          18      5,673.8\n",
      "      Dur |          19       10,373\n",
      "------------------------------------\n"
     ]
    }
   ],
   "source": [
    "* Using [x]table\n",
    "table prixg, contents(freq mean price)"
   ]
  },
  {
   "cell_type": "code",
   "execution_count": 9,
   "metadata": {},
   "outputs": [
    {
     "name": "stdout",
     "output_type": "stream",
     "text": [
      "\n",
      "\n",
      "--------------------------------------\n",
      "    prixg |        Freq.   mean(price)\n",
      "----------+---------------------------\n",
      "   Facile |        18.00       3891.72\n",
      "    Moyen |        19.00       4576.89\n",
      "     Cher |        18.00       5673.78\n",
      "      Dur |        19.00      10373.11\n",
      "          | \n",
      "    Total |        74.00       6165.26\n",
      "--------------------------------------\n",
      "\n",
      "file mystatxl.xlsx saved\n"
     ]
    }
   ],
   "source": [
    "* xtable without output (noput)\n",
    "xtable prixg, contents(freq mean price) row col format(%12.2f) noput\n",
    "putexcel A20 = (\"Table 3: Nice tables\") A21 = matrix(r(xtable))"
   ]
  },
  {
   "cell_type": "code",
   "execution_count": 10,
   "metadata": {},
   "outputs": [
    {
     "name": "stdout",
     "output_type": "stream",
     "text": [
      "\n",
      "\n",
      "Summary statistics: mean, N\n",
      "  by categories of: prixg \n",
      "\n",
      " prixg |       mpg     price    weight    length\n",
      "-------+----------------------------------------\n",
      "Facile |      23.8    3891.7    2693.9     178.3\n",
      "       |      18.0      18.0      18.0      18.0\n",
      "-------+----------------------------------------\n",
      " Moyen |      23.4    4576.9    2741.6     178.7\n",
      "       |      19.0      19.0      19.0      19.0\n",
      "-------+----------------------------------------\n",
      "  Cher |      20.2    5673.8    3092.8     193.8\n",
      "       |      18.0      18.0      18.0      18.0\n",
      "-------+----------------------------------------\n",
      "   Dur |      17.9   10373.1    3536.3     200.7\n",
      "       |      19.0      19.0      19.0      19.0\n",
      "-------+----------------------------------------\n",
      " Total |      21.3    6165.3    3019.5     187.9\n",
      "       |      74.0      74.0      74.0      74.0\n",
      "------------------------------------------------\n",
      "\n",
      "file mystatxl.xlsx saved\n"
     ]
    }
   ],
   "source": [
    "* tabstat: Oneway summarize\n",
    "tabstat mpg price weight length, by(prixg) stat(mean n) format(%9.1f) save\n",
    "putexcel A50 = (\"Table 5: Tabstat\") A51 = matrix(r(StatTotal))"
   ]
  },
  {
   "cell_type": "markdown",
   "metadata": {},
   "source": [
    "### <span style=\"color:olive\"> I.2 Two-way tables and more output </span> "
   ]
  },
  {
   "cell_type": "code",
   "execution_count": 11,
   "metadata": {},
   "outputs": [
    {
     "name": "stdout",
     "output_type": "stream",
     "text": [
      "\n",
      "\n",
      "+----------------+\n",
      "| Key            |\n",
      "|----------------|\n",
      "|   frequency    |\n",
      "| row percentage |\n",
      "+----------------+\n",
      "\n",
      "           |       Car type\n",
      "     prixg |  Domestic    Foreign |     Total\n",
      "-----------+----------------------+----------\n",
      "    Facile |        14          4 |        18 \n",
      "           |     77.78      22.22 |    100.00 \n",
      "-----------+----------------------+----------\n",
      "     Moyen |        15          4 |        19 \n",
      "           |     78.95      21.05 |    100.00 \n",
      "-----------+----------------------+----------\n",
      "      Cher |        11          7 |        18 \n",
      "           |     61.11      38.89 |    100.00 \n",
      "-----------+----------------------+----------\n",
      "       Dur |        12          7 |        19 \n",
      "           |     63.16      36.84 |    100.00 \n",
      "-----------+----------------------+----------\n",
      "     Total |        52         22 |        74 \n",
      "           |     70.27      29.73 |    100.00 \n",
      "\n",
      "          Pearson chi2(3) =   2.3533   Pr = 0.502\n",
      " likelihood-ratio chi2(3) =   2.3751   Pr = 0.498\n",
      "               Cramér's V =   0.1783\n",
      "                    gamma =   0.2434  ASE = 0.180\n",
      "          Kendall's tau-b =   0.1377  ASE = 0.104\n",
      "\n",
      "\n",
      "\n",
      "\n",
      "\n",
      "file mystatxl.xlsx saved\n"
     ]
    }
   ],
   "source": [
    "* Two way tables\n",
    "tabulate prixg foreign, row all matcell(mat2)\n",
    "quietly elabel list (prixg)\n",
    "matrix rownames mat2 = `r(labels)'\n",
    "quietly elabel list (foreign)\n",
    "matrix colnames mat2 = `r(labels)'\n",
    "putexcel A30 = (\"Table 4: two way table with matrix\") A31 = matrix(mat2), names"
   ]
  },
  {
   "cell_type": "code",
   "execution_count": 12,
   "metadata": {},
   "outputs": [
    {
     "name": "stdout",
     "output_type": "stream",
     "text": [
      "\n",
      "\n",
      "----------------------------------------------------\n",
      "          |                 Car type                \n",
      "    prixg |     Domestic       Foreign         Total\n",
      "----------+-----------------------------------------\n",
      "   Facile |        14.00          4.00         18.00\n",
      "          |      3901.07       3859.00       3891.72\n",
      "          | \n",
      "    Moyen |        15.00          4.00         19.00\n",
      "          |      4592.00       4520.25       4576.89\n",
      "          | \n",
      "     Cher |        11.00          7.00         18.00\n",
      "          |      5610.09       5773.86       5673.78\n",
      "          | \n",
      "      Dur |        12.00          7.00         19.00\n",
      "          |     10880.00       9504.14      10373.11\n",
      "          | \n",
      "    Total |        52.00         22.00         74.00\n",
      "          |      6072.42       6384.68       6165.26\n",
      "----------------------------------------------------\n",
      "\n",
      "\n",
      "----------------------------------------------------\n",
      "          |                 Car type                \n",
      "    prixg |     Domestic       Foreign         Total\n",
      "----------+-----------------------------------------\n",
      "   Facile |        14.00          4.00         18.00\n",
      "          |      3901.07       3859.00       3891.72\n",
      "          | \n",
      "    Moyen |        15.00          4.00         19.00\n",
      "          |      4592.00       4520.25       4576.89\n",
      "          | \n",
      "     Cher |        11.00          7.00         18.00\n",
      "          |      5610.09       5773.86       5673.78\n",
      "          | \n",
      "      Dur |        12.00          7.00         19.00\n",
      "          |     10880.00       9504.14      10373.11\n",
      "          | \n",
      "    Total |        52.00         22.00         74.00\n",
      "          |      6072.42       6384.68       6165.26\n",
      "----------------------------------------------------\n",
      "\n",
      "file mystatxl.xlsx saved\n"
     ]
    }
   ],
   "source": [
    "* xtable without output (noput)\n",
    "table prixg foreign, contents(freq mean price) row col format(%12.2f)\n",
    "xtable prixg foreign, contents(freq mean price) row col format(%12.2f) noput\n",
    "putexcel A40 = (\"Table 3: Nice tables\") A41 = matrix(r(xtable))"
   ]
  },
  {
   "cell_type": "code",
   "execution_count": 16,
   "metadata": {},
   "outputs": [],
   "source": [
    "* To end the excel file and save it in memory\n",
    "putexcel close"
   ]
  },
  {
   "cell_type": "markdown",
   "metadata": {},
   "source": [
    "## <span style=\"color:olive\"> II. Word files exporting using putdocx, tab2doc command </span>"
   ]
  },
  {
   "cell_type": "code",
   "execution_count": 17,
   "metadata": {},
   "outputs": [
    {
     "name": "stdout",
     "output_type": "stream",
     "text": [
      "C:\\Program Files (x86)\\Stata15\\ado\\base\\p\\putdocx.ado\n",
      "*! version 1.3.3  30oct2017\n"
     ]
    }
   ],
   "source": [
    "* Looking help for putdocx\n",
    "which putdocx"
   ]
  },
  {
   "cell_type": "code",
   "execution_count": 18,
   "metadata": {},
   "outputs": [],
   "source": [
    "* To start a docx file for exporting\n",
    "putdocx begin, pagesize(A4) font(Arial, 12., black)\n",
    "putdocx paragraph, style(Title) halign(center) font(Arial, 14., black)\n",
    "putdocx text (\"Data treatment with STATA 15.1\"), bold linebreak(2)"
   ]
  },
  {
   "cell_type": "markdown",
   "metadata": {},
   "source": [
    "### <span style=\"color:olive\"> II.1 One way simple and summary tables </span>"
   ]
  },
  {
   "cell_type": "code",
   "execution_count": 20,
   "metadata": {},
   "outputs": [
    {
     "name": "stdout",
     "output_type": "stream",
     "text": [
      "\n",
      "\n",
      "      prixg |      Freq.     Percent        Cum.\n",
      "------------+-----------------------------------\n",
      "      Moyen |         19       25.68       25.68\n",
      "        Dur |         19       25.68       51.35\n",
      "     Facile |         18       24.32       75.68\n",
      "       Cher |         18       24.32      100.00\n",
      "------------+-----------------------------------\n",
      "      Total |         74      100.00\n",
      "\n",
      "(note: table tdocx1 has been redefined)\n"
     ]
    }
   ],
   "source": [
    "* One way simple tables with putdocx\n",
    "tabulate prixg, sort matcell(tdocx)\n",
    "putdocx table tdocx1 = matrix(tdocx), nformat(%9.1f)"
   ]
  },
  {
   "cell_type": "code",
   "execution_count": 21,
   "metadata": {},
   "outputs": [],
   "source": [
    "* One way simple tables with tab2docx\n",
    "putdocx paragraph, halign(left)\n",
    "tab2docx prixg"
   ]
  },
  {
   "cell_type": "code",
   "execution_count": 22,
   "metadata": {},
   "outputs": [
    {
     "name": "stdout",
     "output_type": "stream",
     "text": [
      "\n",
      "\n",
      "(running summarize on estimation sample)\n",
      "\n",
      "      command:  summarize mpg, detail\n",
      "      moyenne:  r(mean)\n",
      "        ecart:  r(sd)\n",
      "      mediane:  r(median)\n",
      "           by:  prixg\n",
      "\n",
      "Statsby groups\n",
      "----+--- 1 ---+--- 2 ---+--- 3 ---+--- 4 ---+--- 5 \n",
      "....\n",
      "\n",
      "\n",
      "\n"
     ]
    }
   ],
   "source": [
    "* One way summary table: putdocx\n",
    "preserve // For save the first data\n",
    "statsby moyenne=r(mean) ecart=r(sd) mediane=r(median), by(prixg) clear: summarize mpg, detail\n",
    "putdocx paragraph, halign(center)\n",
    "putdocx table tdocx2 = data(prixg moyenne ecart mediane), varnames\n",
    "restore // for reusing the last data"
   ]
  },
  {
   "cell_type": "code",
   "execution_count": 23,
   "metadata": {},
   "outputs": [
    {
     "name": "stdout",
     "output_type": "stream",
     "text": [
      "\n",
      "\n",
      "Summary statistics: mean, N\n",
      "  by categories of: prixg \n",
      "\n",
      " prixg |  headroom       mpg\n",
      "-------+--------------------\n",
      "Facile |       3.1      23.8\n",
      "       |      18.0      18.0\n",
      "-------+--------------------\n",
      " Moyen |       2.9      23.4\n",
      "       |      19.0      19.0\n",
      "-------+--------------------\n",
      "  Cher |       2.8      20.2\n",
      "       |      18.0      18.0\n",
      "-------+--------------------\n",
      "   Dur |       3.1      17.9\n",
      "       |      19.0      19.0\n",
      "-------+--------------------\n",
      " Total |       3.0      21.3\n",
      "       |      74.0      74.0\n",
      "----------------------------\n",
      "\n",
      "\n"
     ]
    }
   ],
   "source": [
    "* One way summary table: matrix saving\n",
    "tabstat headroom mpg, by(prixg) stat(mean count) f(%9.1f) save\n",
    "putdocx paragraph, halign(center)\n",
    "putdocx table tdocx3 = matrix(r(StatTotal))"
   ]
  },
  {
   "cell_type": "code",
   "execution_count": 24,
   "metadata": {},
   "outputs": [
    {
     "name": "stdout",
     "output_type": "stream",
     "text": [
      "\n",
      "\n",
      "(note: table t1 has been redefined)\n"
     ]
    }
   ],
   "source": [
    "* One way summary table with tab2doc\n",
    "putdocx paragraph, halign(center)\n",
    "tab2docx prixg, summarize(mpg)"
   ]
  },
  {
   "cell_type": "code",
   "execution_count": 25,
   "metadata": {},
   "outputs": [
    {
     "name": "stdout",
     "output_type": "stream",
     "text": [
      "\n",
      "  --------------------+-----------------------\n",
      "  No. of tables       |  6\n",
      "  No. of paragraphs   |  5\n"
     ]
    }
   ],
   "source": [
    "* Take a look at the docx file\n",
    "putdocx describe"
   ]
  },
  {
   "cell_type": "markdown",
   "metadata": {},
   "source": [
    "### <span style=\"color:olive\"> II.2 Two way simple and summary tables </span>"
   ]
  },
  {
   "cell_type": "code",
   "execution_count": 26,
   "metadata": {},
   "outputs": [],
   "source": [
    "* Start a new page\n",
    "putdocx pagebreak"
   ]
  },
  {
   "cell_type": "code",
   "execution_count": 27,
   "metadata": {},
   "outputs": [
    {
     "name": "stdout",
     "output_type": "stream",
     "text": [
      "\n",
      "\n",
      "           |                   mpg_cat\n",
      "     prixg |   Low mpg  medium mp   Good mpg  Great mpg |     Total\n",
      "-----------+--------------------------------------------+----------\n",
      "    Facile |      0.00      27.78      38.89      33.33 |    100.00 \n",
      "     Moyen |      5.26      31.58      21.05      42.11 |    100.00 \n",
      "      Cher |     27.78      33.33      27.78      11.11 |    100.00 \n",
      "       Dur |     63.16       0.00      21.05      15.79 |    100.00 \n",
      "-----------+--------------------------------------------+----------\n",
      "     Total |     24.32      22.97      27.03      25.68 |    100.00 \n",
      "\n",
      "\n",
      "\n",
      "\n",
      "\n",
      "\n",
      "\n"
     ]
    }
   ],
   "source": [
    "* Two way simple table: tabulate command\n",
    "tabulate prixg mpg_cat, row nofreq matcell(mt)\n",
    "quietly elabel list (prixg)\n",
    "matrix rownames mt = `r(labels)'\n",
    "quietly elabel list (mpg_cat)\n",
    "matrix colnames mt = `r(labels)'\n",
    "putdocx paragraph, halign(center)\n",
    "putdocx table tdocx4 = matrix(mt)"
   ]
  },
  {
   "cell_type": "code",
   "execution_count": 28,
   "metadata": {},
   "outputs": [
    {
     "name": "stdout",
     "output_type": "stream",
     "text": [
      "\n",
      "\n",
      "\n",
      "           |                 decmpg_cat\n",
      "  decprixg |  Good mpg  Great mpg    Low mpg  medium .. |     Total\n",
      "-----------+--------------------------------------------+----------\n",
      "      Cher |         5          2          5          6 |        18 \n",
      "       Dur |         4          3         12          0 |        19 \n",
      "    Facile |         7          6          0          5 |        18 \n",
      "     Moyen |         4          8          1          6 |        19 \n",
      "-----------+--------------------------------------------+----------\n",
      "     Total |        20         19         18         17 |        74 \n",
      "\n",
      "smrtbl Two-way table production successful. Table named: smrfmn generated _prixg_tbl varlist : prixg mpg_cat\n"
     ]
    }
   ],
   "source": [
    "* we use smrtbl (smart table) commdand \n",
    "putdocx paragraph, halign(center)\n",
    "smrtbl prixg mpg_cat"
   ]
  },
  {
   "cell_type": "code",
   "execution_count": 30,
   "metadata": {},
   "outputs": [],
   "source": [
    "putdocx save taldoc.docx, replace\n",
    "*putdocx describe\n",
    "*putdocx clear"
   ]
  },
  {
   "cell_type": "markdown",
   "metadata": {},
   "source": [
    "## <span style=\"color:olive\"> III. Excel and Word files exporting using tabout (v.3) command </span>"
   ]
  },
  {
   "cell_type": "code",
   "execution_count": 31,
   "metadata": {},
   "outputs": [
    {
     "name": "stdout",
     "output_type": "stream",
     "text": [
      "c:\\ado\\plus\\t\\tabout.ado\n",
      "*! Version 3.0.9 beta Ian Watson 17apr2019\n",
      "*! Stata 14.2 (or later) version\n"
     ]
    }
   ],
   "source": [
    "* We are using the last version of tabout\n",
    "which tabout"
   ]
  },
  {
   "cell_type": "markdown",
   "metadata": {},
   "source": [
    "### <span style=\"color:olive\"> III.1 Excel files exporting </span>"
   ]
  },
  {
   "cell_type": "code",
   "execution_count": 32,
   "metadata": {},
   "outputs": [
    {
     "name": "stdout",
     "output_type": "stream",
     "text": [
      "\n",
      "-> tabulation of prixg  \n",
      "\n",
      "      prixg |      Freq.     Percent        Cum.\n",
      "------------+-----------------------------------\n",
      "      Moyen |         19       25.68       25.68\n",
      "        Dur |         19       25.68       51.35\n",
      "     Facile |         18       24.32       75.68\n",
      "       Cher |         18       24.32      100.00\n",
      "------------+-----------------------------------\n",
      "      Total |         74      100.00\n",
      "\n",
      "-> tabulation of foreign  \n",
      "\n",
      "   Car type |      Freq.     Percent        Cum.\n",
      "------------+-----------------------------------\n",
      "   Domestic |         52       70.27       70.27\n",
      "    Foreign |         22       29.73      100.00\n",
      "------------+-----------------------------------\n",
      "      Total |         74      100.00\n"
     ]
    }
   ],
   "source": [
    "* One way with multiple variables: tabout (v.3)\n",
    "tab1 prixg foreign, sort"
   ]
  },
  {
   "cell_type": "code",
   "execution_count": 40,
   "metadata": {},
   "outputs": [
    {
     "name": "stdout",
     "output_type": "stream",
     "text": [
      "\n",
      "Table output written to: taboutfile.xlsx\n",
      "\n"
     ]
    }
   ],
   "source": [
    "* tabout oneway simple table\n",
    "tabout foreign prixg using taboutfile.xlsx, replace style(xlsx) font(bold) oneway contents(freq col cum) f(0c 1) ///\n",
    " clab(Count Col_% Cum_%) twidth(11) npos(col) nlab(Sample) location(2 2) title(Table: Oneway) fn(Source: I. TALL)"
   ]
  },
  {
   "cell_type": "code",
   "execution_count": 41,
   "metadata": {},
   "outputs": [
    {
     "name": "stdout",
     "output_type": "stream",
     "text": [
      "\n",
      "Table output written to: taboutfile.xlsx\n",
      "\n"
     ]
    }
   ],
   "source": [
    "* tabout oneway summary table (when specify multi stat vars, we don't need to add oneway option)\n",
    "tabout foreign prixg using taboutfile.xlsx, append style(xlsx) font(bold) twidth(13) sum npos(tufte) ///\n",
    " contents(mean mpg mean weight mean length median price median headroom) f(1c 1c 1c 2cm 1c) h2(Mean Median) h2c(3 2) ///\n",
    " clab(MPG WEIGHT LENGTH PRICE HEADROOM) location(20 2) title(Table: Oneway summary) fn(Source: I. TALL) "
   ]
  },
  {
   "cell_type": "code",
   "execution_count": 42,
   "metadata": {},
   "outputs": [
    {
     "name": "stdout",
     "output_type": "stream",
     "text": [
      "\n",
      "Table output written to: taboutfile.xlsx\n",
      "\n"
     ]
    }
   ],
   "source": [
    "* Tabout simple two-way table\n",
    "tabout prixg mpg_cat foreign using taboutfile.xlsx, append style(xlsx) font(bold) contents(freq row col) f(0c 1 1) ///\n",
    " layout(rb) h3(nil) twidth(11) location(50 2) title(Table: Two-way tabout) fn(Source: I. Tall)"
   ]
  },
  {
   "cell_type": "code",
   "execution_count": 43,
   "metadata": {},
   "outputs": [
    {
     "name": "stdout",
     "output_type": "stream",
     "text": [
      "\n",
      "Table output written to: taboutfile.xlsx\n",
      "\n"
     ]
    }
   ],
   "source": [
    "* Tabout summary two way table (sum option requiert)\n",
    "tabout prixg mpg_cat foreign using taboutfile.xlsx, append style(xlsx) font(bold) contents(mean headroom mean price median length) f(0c 1 1) ///\n",
    " twidth(11) sum location(95 2) title(Table: Two-way tabout) fn(Source: I. Tall)"
   ]
  },
  {
   "cell_type": "markdown",
   "metadata": {},
   "source": [
    "> <span style=\"color:SpringGreen\">npos</span>: Position of n size, col row tufte (adding to var labels), lab  \n",
    "> <span style=\"color:SpringGreen\">h1,h2,h3</span>: Goes pairs with <span style=\"color:SpringGreen\">h1c,h2c, h3c</span>    \n",
    "> <span style=\"color:SpringGreen\">location</span>: Excel cells location   \n",
    "><span style=\"color:SpringGreen\">clab, nlab, plab, caplab, stlab, pluglab</span>: for labelling column, p-value, ...\n",
    ">"
   ]
  },
  {
   "cell_type": "markdown",
   "metadata": {},
   "source": [
    "### <span style=\"color:olive\"> III.2 Word files exporting </span>"
   ]
  },
  {
   "cell_type": "markdown",
   "metadata": {},
   "source": [
    "<span style=\"color:SpringGreen\">docx</span> style does not append result and <span style=\"color:SpringGreen\">location</span> is not appropriate. For the rest, the syntax is the same."
   ]
  },
  {
   "cell_type": "code",
   "execution_count": null,
   "metadata": {},
   "outputs": [],
   "source": [
    "exit, clear"
   ]
  },
  {
   "cell_type": "code",
   "execution_count": null,
   "metadata": {},
   "outputs": [],
   "source": []
  }
 ],
 "metadata": {
  "kernelspec": {
   "display_name": "Stata",
   "language": "stata",
   "name": "stata"
  },
  "language_info": {
   "codemirror_mode": "stata",
   "file_extension": ".do",
   "mimetype": "text/x-stata",
   "name": "stata",
   "version": "15.1"
  }
 },
 "nbformat": 4,
 "nbformat_minor": 2
}
