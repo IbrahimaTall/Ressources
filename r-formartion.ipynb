{
 "cells": [
  {
   "cell_type": "markdown",
   "metadata": {},
   "source": [
    "# <p align=\"center\"> TRAITEMENT DE DONNEES AVEC R </p>"
   ]
  },
  {
   "cell_type": "markdown",
   "metadata": {},
   "source": [
    "## <span style=\"color:green\"> Utilisation du logiciel R pour le traitement et l'analyse de données </span>"
   ]
  },
  {
   "cell_type": "markdown",
   "metadata": {},
   "source": [
    "*****"
   ]
  },
  {
   "cell_type": "markdown",
   "metadata": {},
   "source": [
    ">   \n",
    "> <font size=\"4\">**Cabinet Spark-numeric**,</font> <font size=\"2\">**_Science de données et téchnologie_**</font>   \n",
    "> <font size=\"2\">**SIEGE SOCIAL :**</font> _N°69, Damel Bis_   \n",
    "> <font size=\"2\">**NINEA :**</font> _007350599R2_   \n",
    "> <font size=\"2\">**N° REGISTRE DE COMMERCE :**</font> SN-DKR-2019-B-13533   \n",
    "> <font size=\"2\">**TELEPHONE :**</font> _+221778281667/+221776650565_   \n",
    "> <font size=\"2\">**E-MAIL :**</font> [contact@stamer-consulting.com](contact@stamer-consulting.com)    \n",
    "> <font size=\"2\">**SITE WEB :**</font> [www.stamer-consulting.com](www.stamer-consulting.com)    \n",
    ">  "
   ]
  },
  {
   "cell_type": "markdown",
   "metadata": {},
   "source": [
    "![](logo.png)"
   ]
  },
  {
   "cell_type": "markdown",
   "metadata": {},
   "source": [
    "*****"
   ]
  },
  {
   "cell_type": "markdown",
   "metadata": {},
   "source": [
    "# OBEJECTIF GLOBAL"
   ]
  },
  {
   "cell_type": "markdown",
   "metadata": {},
   "source": [
    "La présente formation vise à outiller un personnel dont la tâche est de d'apurer, traiter et analyser les données sur les parcelles agricoles et sur les exploitants. Cette tâche sera faite au moins du logiciel R qui est un outil puissant pour la réalisation des opérations statistiques courantes aboutissant à la production d'un rapport. La formation vise à développer chez les participants, un savoir-faire leur permettant de :  \n",
    "1. organiser les données de manière utile;\n",
    "2. recoder des variables, définir de nouvelles variables;\n",
    "3. produire des graphiques et tableaux, etc."
   ]
  },
  {
   "cell_type": "markdown",
   "metadata": {},
   "source": [
    "# OBJECTIFS SPECIFIQUES"
   ]
  },
  {
   "cell_type": "markdown",
   "metadata": {},
   "source": [
    "La formation au traitement de données avec le logiciel R vise spécifiquement cinq points à faire connaitre et assimiler par le personnel visé:  \n",
    " 1. Connaître le fonctionnement de R (Rstudio);\n",
    " 2. Connaitre les packages du tidyverse (tidyr, dplyr, ggplot2, etc.);\n",
    " 3. Réaliser un pré-traitement des données:  \n",
    "   - réarranger les variabes;  \n",
    "   - trier les données suivant plusieurs variables;\n",
    "   - extraire un sous-échantillon de la base;\n",
    " 4. Traiter et apurer les données;\n",
    "   - recoder les variables:\n",
    "   - définir de nouvelles variables;\n",
    "   - traiter les variables de type texte;\n",
    " 5. Analyser les données:\n",
    "   - réaliser des tableaux unidimensionnels, bidimensionnels et tridimensionnels (tableaux de variables catégorielles avec ou statistiques de variables continues);\n",
    "   - produire des graphiques et les sauvegarder (diagramme en bar, boite à moustâche, camembert, courbe, radar)."
   ]
  },
  {
   "cell_type": "markdown",
   "metadata": {},
   "source": [
    "# CONTENUS DE LA FORMATION"
   ]
  },
  {
   "cell_type": "markdown",
   "metadata": {},
   "source": [
    "Le tableau suivant indique le déroulement de la formation en spécifiant les modules et les objectifs visés."
   ]
  },
  {
   "cell_type": "markdown",
   "metadata": {},
   "source": [
    "![](rstudio.png)"
   ]
  }
 ],
 "metadata": {
  "kernelspec": {
   "display_name": "Python 3",
   "language": "python",
   "name": "python3"
  },
  "language_info": {
   "codemirror_mode": {
    "name": "ipython",
    "version": 3
   },
   "file_extension": ".py",
   "mimetype": "text/x-python",
   "name": "python",
   "nbconvert_exporter": "python",
   "pygments_lexer": "ipython3",
   "version": "3.7.1"
  }
 },
 "nbformat": 4,
 "nbformat_minor": 2
}
