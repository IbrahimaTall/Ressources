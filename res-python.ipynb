{
 "cells": [
  {
   "cell_type": "markdown",
   "metadata": {},
   "source": [
    "# <span style=color:blue> Python resources for data processing and analysis: Numpy, pandas, Mathplotlib, Scit-learn...</span>"
   ]
  },
  {
   "cell_type": "markdown",
   "metadata": {},
   "source": [
    "****"
   ]
  },
  {
   "cell_type": "markdown",
   "metadata": {},
   "source": [
    "## I. First step: loading packages and dataset"
   ]
  },
  {
   "cell_type": "code",
   "execution_count": 1,
   "metadata": {},
   "outputs": [],
   "source": [
    "# Loading neaded packages\n",
    "from sklearn import datasets\n",
    "import pandas as pd\n",
    "import numpy as np\n",
    "import os\n",
    "import seaborn as sns\n",
    "import matplotlib.pyplot as plt\n",
    "%matplotlib inline"
   ]
  },
  {
   "cell_type": "code",
   "execution_count": null,
   "metadata": {},
   "outputs": [],
   "source": [
    "os.getcwd()\n",
    "# os.chdir()\n",
    "sns.get_dataset_names()"
   ]
  },
  {
   "cell_type": "code",
   "execution_count": 2,
   "metadata": {},
   "outputs": [],
   "source": [
    "# Loading datasets from differents type\n",
    " #pd.read_csv()\n",
    " #pd.read_excel()\n",
    " #pd.read_stata()\n",
    " #pd.read_spss()\n",
    " #pd.read_sas()\n",
    " #pd.read_table(\"data.txt\")\n",
    "\n",
    "# loading datasets from openml.org repository\n",
    " #datasets.fetch_openml(name = 'iris')\n",
    "\n",
    "# Loading datasets form sklearn package\n",
    " #datasets.load_iris()\n",
    "dt = pd.read_excel('MaliData.xls')"
   ]
  },
  {
   "cell_type": "markdown",
   "metadata": {},
   "source": [
    "## II. Take a look at the data base"
   ]
  },
  {
   "cell_type": "code",
   "execution_count": null,
   "metadata": {},
   "outputs": [],
   "source": [
    "dt.head() #                                                 Look at the first rows\n",
    "dt.tail() #                                                 Look at the last rows\n",
    "dt[['ID','CA','DC']] #                                      subset of data\n",
    "dt.loc[:,'ID':'CA'] #                                       location of var to get a subset\n",
    "dt.loc[dt.CA < 1000000, ['ID','DC']] #                      Select columns with specific rows\n",
    "dt.iloc[20:30] #                                            Select rows\n",
    "dt.iloc[[1,2,3,4],[1,2]] #                                  Select specific rows and columns\n",
    "dt.nlargest(10, 'PRODUCTIVITE') #                           The n largest productivity (dt.smallest())\n",
    "dt.filter(var = 'end$') #                                   Filter data where ended with 'end' (also: '^begin', '^x[1-5]$',)\n",
    "dt[dt.VILLE == 1] #                                         Subset of data\n",
    "dt.sample(frac = 0.25) #                                    Randomly select a fractio of rows or a number of rows (n = ??)\n",
    "dt.describe() #                                             Get some statistics\n",
    "print(dt.dtypes) #                                          Types of variables \n",
    "print(dt.info()) #                                          Informations in database\n",
    "dt.columns #                                                Variables names\n",
    "dt.sort_values('ID') #                                      Sort the data\n",
    "dt.sort_index() #                                           Sort data by index\n",
    "dt['VILLE'].value_counts() #                                Nomber obser\n",
    "dt['VILLE'].nunique()\n",
    "#sum(), min(), max(), sum(), var(), std(), quantile([0.25, 0.50, 0.75])\n",
    "dt.count()\n",
    "#dt.apply(lambda x: x.max())\n",
    "dt.fillna(9999) #                                           Replace missing data by 9999\n",
    "df.drop_duplicates() #                                      Drop duplicates obs within the specifique variable"
   ]
  },
  {
   "cell_type": "markdown",
   "metadata": {},
   "source": [
    "## III. Organizing the data and variables"
   ]
  },
  {
   "cell_type": "code",
   "execution_count": null,
   "metadata": {},
   "outputs": [],
   "source": [
    "pd.melt(dt, column = , value = ) #                          Tranform data form wide to long\n",
    "dt.pivot() #                                                Transform data from long to wide\n",
    "pd.concat() #                                               Append rows of datasets or columns (axis = 1)\n",
    "pd.merge(dt,dt2, how='right', on='key') #                   Right==dt-->dt2 (also : left, inner(commun rows), outer (all rows))\n",
    "dt[dt.key.isin(dt2.key)] #                                  Join dt that have a matching in dt2"
   ]
  },
  {
   "cell_type": "markdown",
   "metadata": {},
   "source": [
    "## IV. Manipulating variables"
   ]
  },
  {
   "cell_type": "code",
   "execution_count": 12,
   "metadata": {},
   "outputs": [
    {
     "data": {
      "text/html": [
       "<div>\n",
       "<style scoped>\n",
       "    .dataframe tbody tr th:only-of-type {\n",
       "        vertical-align: middle;\n",
       "    }\n",
       "\n",
       "    .dataframe tbody tr th {\n",
       "        vertical-align: top;\n",
       "    }\n",
       "\n",
       "    .dataframe thead tr th {\n",
       "        text-align: left;\n",
       "    }\n",
       "\n",
       "    .dataframe thead tr:last-of-type th {\n",
       "        text-align: right;\n",
       "    }\n",
       "</style>\n",
       "<table border=\"1\" class=\"dataframe\">\n",
       "  <thead>\n",
       "    <tr>\n",
       "      <th>Les activites</th>\n",
       "      <th colspan=\"3\" halign=\"left\">1.0</th>\n",
       "      <th colspan=\"3\" halign=\"left\">2.0</th>\n",
       "      <th colspan=\"2\" halign=\"left\">3.0</th>\n",
       "      <th colspan=\"3\" halign=\"left\">4.0</th>\n",
       "    </tr>\n",
       "    <tr>\n",
       "      <th>Le statut</th>\n",
       "      <th>1</th>\n",
       "      <th>2</th>\n",
       "      <th>3</th>\n",
       "      <th>1</th>\n",
       "      <th>2</th>\n",
       "      <th>3</th>\n",
       "      <th>1</th>\n",
       "      <th>3</th>\n",
       "      <th>1</th>\n",
       "      <th>2</th>\n",
       "      <th>3</th>\n",
       "    </tr>\n",
       "    <tr>\n",
       "      <th>Les villes</th>\n",
       "      <th></th>\n",
       "      <th></th>\n",
       "      <th></th>\n",
       "      <th></th>\n",
       "      <th></th>\n",
       "      <th></th>\n",
       "      <th></th>\n",
       "      <th></th>\n",
       "      <th></th>\n",
       "      <th></th>\n",
       "      <th></th>\n",
       "    </tr>\n",
       "  </thead>\n",
       "  <tbody>\n",
       "    <tr>\n",
       "      <td>1</td>\n",
       "      <td>107</td>\n",
       "      <td>10</td>\n",
       "      <td>110</td>\n",
       "      <td>23</td>\n",
       "      <td>3</td>\n",
       "      <td>14</td>\n",
       "      <td>30</td>\n",
       "      <td>5</td>\n",
       "      <td>50</td>\n",
       "      <td>7</td>\n",
       "      <td>39</td>\n",
       "    </tr>\n",
       "    <tr>\n",
       "      <td>2</td>\n",
       "      <td>43</td>\n",
       "      <td>11</td>\n",
       "      <td>39</td>\n",
       "      <td>7</td>\n",
       "      <td>5</td>\n",
       "      <td>66</td>\n",
       "      <td>4</td>\n",
       "      <td>1</td>\n",
       "      <td>40</td>\n",
       "      <td>7</td>\n",
       "      <td>77</td>\n",
       "    </tr>\n",
       "  </tbody>\n",
       "</table>\n",
       "</div>"
      ],
      "text/plain": [
       "Les activites  1.0          2.0        3.0    4.0       \n",
       "Le statut        1   2    3   1  2   3   1  3   1  2   3\n",
       "Les villes                                              \n",
       "1              107  10  110  23  3  14  30  5  50  7  39\n",
       "2               43  11   39   7  5  66   4  1  40  7  77"
      ]
     },
     "execution_count": 12,
     "metadata": {},
     "output_type": "execute_result"
    }
   ],
   "source": [
    "dt.rename(columns = {'ID':'ID_FIRM'}) #                     Rename variables\n",
    "dt.assign(moi=abs(dt.DC-dt.CA),toi=dt.ID+2)[['moi','toi']] #Create new variables\n",
    "dt['vous'] = dt.ID**2 #                                     Create a nother a single variable\n",
    "label = [\"class{0}\".format(i) for i in range(0, 6)]\n",
    "dt['clasTall'] = pd.cut(dt.CA, range(30000, 36215287808,  6035876301), right = False, labels = label)\n",
    "dt.class2 = pd.qcut(dt.CA, 6, labels = label) #             Divided in equal range of n classs\n",
    "pd.crosstab(dt.VILLE, dt.BRANCHE, rownames = [\"Les villes\"], colnames = [\"Les activites\"], normalize = 'columns')\n",
    "pd.crosstab(dt.VILLE, [dt.BRANCHE,dt.Statut_firme], rownames = [\"Les villes\"], colnames = [\"Les activites\",\"Le statut\"])\n",
    "pd.pivot_table(index = dt.BRANCHE, columns = dt.Statut_firme, values = dt.ID)\n",
    "dt.pivot_table(index = 'BRANCHE', columns = 'Statut_firme', values = 'ID', margins = True, aggfunc='mean') # np.statistics\n",
    "pd.get_dummies(dt.key) #                                    Transform categoriels variable into dummies\n",
    "dt.groupby(by = \"VILLE\")['CA','DC'].sum() #                 Grouping is also interessing to get tabulation"
   ]
  },
  {
   "cell_type": "markdown",
   "metadata": {},
   "source": [
    "# V. Graphics"
   ]
  },
  {
   "cell_type": "code",
   "execution_count": 3,
   "metadata": {},
   "outputs": [
    {
     "data": {
      "text/plain": [
       "<matplotlib.axes._subplots.AxesSubplot at 0x239dcb4df88>"
      ]
     },
     "execution_count": 3,
     "metadata": {},
     "output_type": "execute_result"
    },
    {
     "data": {
      "image/png": "[encoded data removed]",
      "text/plain": [
       "<Figure size 432x288 with 1 Axes>"
      ]
     },
     "metadata": {
      "needs_background": "light"
     },
     "output_type": "display_data"
    },
    {
     "data": {
      "image/png": "[encoded data removed]",
      "text/plain": [
       "<Figure size 432x288 with 1 Axes>"
      ]
     },
     "metadata": {
      "needs_background": "light"
     },
     "output_type": "display_data"
    }
   ],
   "source": [
    "dt['age'] = np.random.randint(15,100, size = len(dt))\n",
    "dt['labor'] = np.random.normal(1,50, size = len(dt))\n",
    "dt.hist(column = 'labor', color = 'g')\n",
    "plt.scatter(dt['age'], dt['labor'])\n",
    "dt.groupby(by = \"VILLE\")['CA','DC'].sum().plot(kind='bar')"
   ]
  },
  {
   "cell_type": "code",
   "execution_count": 4,
   "metadata": {},
   "outputs": [
    {
     "data": {
      "text/plain": [
       "<seaborn.axisgrid.FacetGrid at 0x2214c58a588>"
      ]
     },
     "execution_count": 4,
     "metadata": {},
     "output_type": "execute_result"
    },
    {
     "data": {
      "image/png": "[encoded data removed]",
      "text/plain": [
       "<Figure size 1143x360 with 3 Axes>"
      ]
     },
     "metadata": {
      "needs_background": "light"
     },
     "output_type": "display_data"
    }
   ],
   "source": [
    "# relplot(x, y, hue, kind, style, palette, size, sizes(15,200), ci) we have scater or line\n",
    "sns.relplot(x = \"DC\", y = \"CA\", hue = \"VILLE\", kind = \"line\", col = \"Statut_firme\", data = dt[dt[\"DC\"]<30000000])"
   ]
  },
  {
   "cell_type": "code",
   "execution_count": 5,
   "metadata": {},
   "outputs": [
    {
     "data": {
      "text/plain": [
       "<seaborn.axisgrid.FacetGrid at 0x2214c905a88>"
      ]
     },
     "execution_count": 5,
     "metadata": {},
     "output_type": "execute_result"
    },
    {
     "data": {
      "image/png": "[encoded data removed]",
      "text/plain": [
       "<Figure size 402.375x360 with 1 Axes>"
      ]
     },
     "metadata": {
      "needs_background": "light"
     },
     "output_type": "display_data"
    }
   ],
   "source": [
    "sns.catplot(x = \"Statut_firme\", y = \"DC\", hue = \"VILLE\", kind = \"bar\", data = dt[dt[\"DC\"]<30000000])"
   ]
  },
  {
   "cell_type": "code",
   "execution_count": 6,
   "metadata": {},
   "outputs": [
    {
     "data": {
      "text/plain": [
       "<matplotlib.axes._subplots.AxesSubplot at 0x2214c92bb88>"
      ]
     },
     "execution_count": 6,
     "metadata": {},
     "output_type": "execute_result"
    },
    {
     "data": {
      "image/png": "[encoded data removed]",
      "text/plain": [
       "<Figure size 432x288 with 1 Axes>"
      ]
     },
     "metadata": {
      "needs_background": "light"
     },
     "output_type": "display_data"
    }
   ],
   "source": [
    "sns.countplot(x = \"Statut_firme\", data = dt)"
   ]
  },
  {
   "cell_type": "code",
   "execution_count": null,
   "metadata": {},
   "outputs": [],
   "source": [
    "sns.set_style(\"whitegrid\") #darkgrid, whitegrid, dark, white, and ticks\n",
    "sns.despine(left=True)\n",
    "\n",
    "sns.distplot(x, kde=False, rug=True)\n",
    "sns.kdeplot(x, shade=True)\n",
    "sns.regplot(x=\"total_bill\", y=\"tip\", data=tips)\n",
    "sns.lmplot(x=\"total_bill\", y=\"big_tip\", data=tips, logistic=True, y_jitter=.03)\n",
    "sns.residplot(x=\"x\", y=\"y\", data=anscombe.query(\"dataset == 'I'\"), scatter_kws={\"s\": 80})\n",
    "\n",
    "g = sns.FacetGrid(tips, col=\"sex\", hue=\"smoker\")\n",
    "g.map(plt.scatter, \"total_bill\", \"tip\", alpha=.7)\n",
    "g.add_legend()"
   ]
  }
 ],
 "metadata": {
  "kernelspec": {
   "display_name": "Python 3",
   "language": "python",
   "name": "python3"
  },
  "language_info": {
   "codemirror_mode": {
    "name": "ipython",
    "version": 3
   },
   "file_extension": ".py",
   "mimetype": "text/x-python",
   "name": "python",
   "nbconvert_exporter": "python",
   "pygments_lexer": "ipython3",
   "version": "3.7.4"
  },
  "latex_envs": {
   "LaTeX_envs_menu_present": true,
   "autoclose": false,
   "autocomplete": true,
   "bibliofile": "biblio.bib",
   "cite_by": "apalike",
   "current_citInitial": 1,
   "eqLabelWithNumbers": true,
   "eqNumInitial": 1,
   "hotkeys": {
    "equation": "Ctrl-E",
    "itemize": "Ctrl-I"
   },
   "labels_anchors": false,
   "latex_user_defs": false,
   "report_style_numbering": false,
   "user_envs_cfg": false
  }
 },
 "nbformat": 4,
 "nbformat_minor": 2
}
