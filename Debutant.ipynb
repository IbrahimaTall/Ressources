{
 "cells": [
  {
   "cell_type": "markdown",
   "id": "7f716039-dce4-4ce7-b7d0-f794691eaa69",
   "metadata": {},
   "source": [
    "**<span style=\"color:Maroon;font-size:200%\"> Débutant en STATA </span>**"
   ]
  },
  {
   "cell_type": "markdown",
   "id": "8ecae0f0-ba17-482c-93c8-34535e592f0b",
   "metadata": {},
   "source": [
    "> **Ibrahima Tall**   \n",
    "> Ingénieur Statisticien économiste (ISE)   \n",
    "> datasciences4ise@gmail.com"
   ]
  },
  {
   "cell_type": "markdown",
   "id": "e38807e9-f4de-4fe7-a864-4324647ce06f",
   "metadata": {},
   "source": [
    " <hr style=\"height:2px;border-width:0;color:gray;background-color:gray\"> "
   ]
  },
  {
   "cell_type": "markdown",
   "id": "be26c186-bbf0-4532-9bc2-125143abc2ba",
   "metadata": {},
   "source": [
    "**<span style=\"color:FireBrick;font-size:200%\"> Introduction </span>**"
   ]
  },
  {
   "cell_type": "markdown",
   "id": "f9a8e2ff-4970-4afe-abac-4ec2668886ff",
   "metadata": {},
   "source": [
    "**<span style=\"color:IndianRed;font-size:150%\"> Interface graphique </span>**"
   ]
  },
  {
   "cell_type": "markdown",
   "id": "03deea4b-a63c-4428-a6d4-0630a28ad42c",
   "metadata": {},
   "source": [
    "![](gui.png)"
   ]
  },
  {
   "cell_type": "markdown",
   "id": "012f8e32-1974-42ea-9578-5c7961204f13",
   "metadata": {},
   "source": [
    "**<span style=\"color:IndianRed;font-size:150%\"> Syntaxe et ado </span>**"
   ]
  },
  {
   "cell_type": "code",
   "execution_count": null,
   "id": "4d240603-3f1f-43e8-a686-5b4e20827e81",
   "metadata": {},
   "outputs": [],
   "source": [
    "help describe"
   ]
  },
  {
   "cell_type": "code",
   "execution_count": null,
   "id": "576ec916-4c24-4d36-901e-e604373f6512",
   "metadata": {},
   "outputs": [],
   "source": [
    "search ereplace"
   ]
  },
  {
   "cell_type": "code",
   "execution_count": null,
   "id": "7c7fd43d-9b9d-46c4-bd36-67c484248e17",
   "metadata": {},
   "outputs": [],
   "source": [
    "ssc new"
   ]
  },
  {
   "cell_type": "code",
   "execution_count": null,
   "id": "8aa0df02-48ff-4c0e-bb36-176bdf2b44bc",
   "metadata": {},
   "outputs": [],
   "source": [
    "ssc whatshot, n(3)"
   ]
  },
  {
   "cell_type": "code",
   "execution_count": null,
   "id": "6e9bcee6-a2b6-46c5-84ec-8c92114ff59d",
   "metadata": {},
   "outputs": [],
   "source": [
    "ssc hot, n(3)"
   ]
  },
  {
   "cell_type": "code",
   "execution_count": null,
   "id": "5f5b8d0f-5836-45a2-9d58-8b65e198efce",
   "metadata": {},
   "outputs": [],
   "source": [
    "ssc describe e"
   ]
  },
  {
   "cell_type": "code",
   "execution_count": null,
   "id": "47406b8f-f942-4a17-917b-923a59c2a98f",
   "metadata": {
    "scrolled": true
   },
   "outputs": [],
   "source": [
    "ssc describe ereplace"
   ]
  },
  {
   "cell_type": "code",
   "execution_count": null,
   "id": "2fc5ae44-f743-4523-8797-59f308288270",
   "metadata": {},
   "outputs": [],
   "source": [
    "ssc install ereplace, replace"
   ]
  },
  {
   "cell_type": "code",
   "execution_count": null,
   "id": "9112313e-ffff-4510-b7d5-9ac115a5709e",
   "metadata": {},
   "outputs": [],
   "source": [
    "which ereplace"
   ]
  },
  {
   "cell_type": "code",
   "execution_count": null,
   "id": "f32d71f2-3952-4fa9-b981-07d0057a1902",
   "metadata": {},
   "outputs": [],
   "source": [
    "ssc install dummies"
   ]
  },
  {
   "cell_type": "code",
   "execution_count": null,
   "id": "a4a56181-81f8-4dd5-ac4f-a53af9a431fe",
   "metadata": {},
   "outputs": [],
   "source": [
    "ssc uninstall dummies"
   ]
  },
  {
   "cell_type": "code",
   "execution_count": null,
   "id": "cc896246-b508-4b51-8f3f-57d7a61e73bf",
   "metadata": {},
   "outputs": [],
   "source": [
    "net from http://fmwww.bc.edu/repec/bocode"
   ]
  },
  {
   "cell_type": "code",
   "execution_count": null,
   "id": "8efa388b-6e9c-4dca-bed2-32634b8fda01",
   "metadata": {},
   "outputs": [],
   "source": [
    "net query"
   ]
  },
  {
   "cell_type": "code",
   "execution_count": null,
   "id": "bc6cd685-63c6-42b8-836c-4372cf6bf29d",
   "metadata": {},
   "outputs": [],
   "source": [
    "net describe dummies, from(http://fmwww.bc.edu/repec/bocode/d/)"
   ]
  },
  {
   "cell_type": "code",
   "execution_count": null,
   "id": "38c9bdcb-b85a-4684-8a3e-e00241a8a552",
   "metadata": {},
   "outputs": [],
   "source": [
    "net install schemepack, from(http://fmwww.bc.edu/repec/bocode/s/) replace "
   ]
  },
  {
   "cell_type": "code",
   "execution_count": null,
   "id": "e12ea7f8-2311-4cf5-935f-0f5810f261ce",
   "metadata": {},
   "outputs": [],
   "source": [
    "net install dups, from(http://fmwww.bc.edu/repec/bocode/d/) replace "
   ]
  },
  {
   "cell_type": "code",
   "execution_count": null,
   "id": "2f391fb4-ba6d-4bab-9537-b7bc22a8c877",
   "metadata": {},
   "outputs": [],
   "source": [
    "ado uninstall dups"
   ]
  },
  {
   "cell_type": "markdown",
   "id": "f8baec57-2645-4826-a2f9-fb42dad24b09",
   "metadata": {},
   "source": [
    "**<span style=\"color:IndianRed;font-size:150%\"> Commandes système </span>**"
   ]
  },
  {
   "cell_type": "code",
   "execution_count": null,
   "id": "26097c2e-01a4-4e91-90ab-1a947ec55b23",
   "metadata": {},
   "outputs": [],
   "source": [
    "* cls\n",
    "pwd"
   ]
  },
  {
   "cell_type": "code",
   "execution_count": null,
   "id": "2f64b150-2f56-4922-8467-b9e7fbed8a11",
   "metadata": {},
   "outputs": [],
   "source": [
    "cd .."
   ]
  },
  {
   "cell_type": "code",
   "execution_count": null,
   "id": "faa99c2e-d67c-4a2f-b2bb-60aebecb8cfe",
   "metadata": {},
   "outputs": [],
   "source": [
    "cd ./FORMATION/Working"
   ]
  },
  {
   "cell_type": "code",
   "execution_count": null,
   "id": "9c6c4ff6-99cd-4804-87f6-8b2dde5c8f2e",
   "metadata": {},
   "outputs": [],
   "source": [
    "mkdir Myfich"
   ]
  },
  {
   "cell_type": "code",
   "execution_count": null,
   "id": "00402054-c8a3-4cfb-9253-d542bda4e1db",
   "metadata": {},
   "outputs": [],
   "source": [
    "ls"
   ]
  },
  {
   "cell_type": "code",
   "execution_count": null,
   "id": "edee0b6a-9cbb-4ecc-b1b7-9494f951cd89",
   "metadata": {},
   "outputs": [],
   "source": [
    "findfile zone.xlsx"
   ]
  },
  {
   "cell_type": "code",
   "execution_count": null,
   "id": "cdc53c0e-7026-4f8d-b79c-1e45f3be6cb0",
   "metadata": {},
   "outputs": [],
   "source": [
    "rm zone.xlsx"
   ]
  },
  {
   "cell_type": "code",
   "execution_count": null,
   "id": "efb15d21-43ec-4ae3-8e57-c21973e237ba",
   "metadata": {},
   "outputs": [],
   "source": [
    "erase service.txt"
   ]
  },
  {
   "cell_type": "code",
   "execution_count": null,
   "id": "fc950079-1571-4330-9d1a-e966b0c62d22",
   "metadata": {},
   "outputs": [],
   "source": [
    "rmdir Myfich"
   ]
  },
  {
   "cell_type": "code",
   "execution_count": null,
   "id": "c211ef16-a4d8-4548-8ba3-e877b07e8424",
   "metadata": {},
   "outputs": [],
   "source": [
    "dir"
   ]
  },
  {
   "cell_type": "code",
   "execution_count": null,
   "id": "54a5dbef-05f6-40e6-9cf3-5ba9d27285e9",
   "metadata": {},
   "outputs": [],
   "source": [
    "sysdir"
   ]
  },
  {
   "cell_type": "code",
   "execution_count": null,
   "id": "96d95fbf-97ed-4b5c-b890-c00c22976446",
   "metadata": {},
   "outputs": [],
   "source": [
    "sysdir list"
   ]
  },
  {
   "cell_type": "code",
   "execution_count": null,
   "id": "53bfb297-f9b8-4384-8977-e7d7c1294454",
   "metadata": {},
   "outputs": [],
   "source": [
    "adopath"
   ]
  },
  {
   "cell_type": "markdown",
   "id": "54edc6e4-2a8d-478c-8424-cfad9e7375b9",
   "metadata": {},
   "source": [
    "**<span style=\"color:IndianRed;font-size:150%\"> Calculs usuels </span>**"
   ]
  },
  {
   "cell_type": "code",
   "execution_count": null,
   "id": "0bbecb6f-f5df-4acd-9100-3e33fabcd588",
   "metadata": {},
   "outputs": [],
   "source": [
    "display 1+2"
   ]
  },
  {
   "cell_type": "code",
   "execution_count": null,
   "id": "7d627c56-3c44-4e2e-9c7d-cb01bd39e956",
   "metadata": {},
   "outputs": [],
   "source": [
    "display as txt \"Le résultats est = \" 1+5"
   ]
  },
  {
   "cell_type": "code",
   "execution_count": null,
   "id": "7a7d6edc-f81d-4cd6-8ab1-1f9bde724118",
   "metadata": {},
   "outputs": [],
   "source": [
    "display as txt \"Le résultats est = \"  as result 1+6"
   ]
  },
  {
   "cell_type": "code",
   "execution_count": null,
   "id": "5cb3d5be-c36f-494d-b21d-2344c95bd402",
   "metadata": {},
   "outputs": [],
   "source": [
    "display as error \"Le résultats est = \"  as result 1+6"
   ]
  },
  {
   "cell_type": "code",
   "execution_count": null,
   "id": "2fde344f-5cfe-4053-89d0-125385c5735b",
   "metadata": {},
   "outputs": [],
   "source": [
    "display as txt \"La somme est de S = \" as res 1+6"
   ]
  },
  {
   "cell_type": "code",
   "execution_count": null,
   "id": "e9c50e06-ac37-441b-ad0b-a9ba2980a4c2",
   "metadata": {},
   "outputs": [],
   "source": [
    "display as res 7-5"
   ]
  },
  {
   "cell_type": "code",
   "execution_count": null,
   "id": "eac2bb72-ee39-4671-9db7-d4253f91ca6b",
   "metadata": {},
   "outputs": [],
   "source": [
    "display 2*7"
   ]
  },
  {
   "cell_type": "code",
   "execution_count": null,
   "id": "1f8a6222-d0d4-421b-8bf9-77ffca7e1f98",
   "metadata": {},
   "outputs": [],
   "source": [
    "display 17/3"
   ]
  },
  {
   "cell_type": "code",
   "execution_count": null,
   "id": "639a844e-a449-4936-9c26-0c3669203e4b",
   "metadata": {},
   "outputs": [],
   "source": [
    "display int(17/3)"
   ]
  },
  {
   "cell_type": "code",
   "execution_count": null,
   "id": "a4ad6eb8-5e2a-4f11-9f9d-84bd87a0ed30",
   "metadata": {},
   "outputs": [],
   "source": [
    "display mod(17,3)"
   ]
  },
  {
   "cell_type": "code",
   "execution_count": null,
   "id": "242ff8aa-8578-4ef1-ac42-1d4c21a6b61b",
   "metadata": {},
   "outputs": [],
   "source": [
    "display 2^3"
   ]
  },
  {
   "cell_type": "code",
   "execution_count": null,
   "id": "83bd8a86-7234-4ae9-82c8-08c54996c8c7",
   "metadata": {},
   "outputs": [],
   "source": [
    "display exp(1)"
   ]
  },
  {
   "cell_type": "code",
   "execution_count": null,
   "id": "1eefaccf-7a00-41bc-801a-6d089dd0bc02",
   "metadata": {},
   "outputs": [],
   "source": [
    "display sin(_pi/2)"
   ]
  },
  {
   "cell_type": "code",
   "execution_count": null,
   "id": "6890749b-1f5f-42a8-a6e0-4eb90534294a",
   "metadata": {},
   "outputs": [],
   "source": [
    "display comb(10, 2)"
   ]
  },
  {
   "cell_type": "code",
   "execution_count": null,
   "id": "1cd22752-983e-424d-8a84-0a089e8b766a",
   "metadata": {},
   "outputs": [],
   "source": [
    "mata: factorial(3)"
   ]
  },
  {
   "cell_type": "markdown",
   "id": "dc5029ea-2157-42e1-9993-c31c3adbcf7c",
   "metadata": {},
   "source": [
    "**<span style=\"color:FireBrick;font-size:200%\"> Exploitation de données </span>**"
   ]
  },
  {
   "cell_type": "markdown",
   "id": "32385df7-aea8-4a7a-88d9-f0dffbdc1e89",
   "metadata": {},
   "source": [
    "**<span style=\"color:IndianRed;font-size:150%\"> Lecture et écriture</span>**"
   ]
  },
  {
   "cell_type": "markdown",
   "id": "51edcbfd-c483-4764-bbe8-eb645efe015a",
   "metadata": {},
   "source": [
    "![](in.png)"
   ]
  },
  {
   "cell_type": "code",
   "execution_count": null,
   "id": "121c0ac3-0202-4ab3-b3c8-3eab27e7d860",
   "metadata": {},
   "outputs": [],
   "source": [
    "cd .."
   ]
  },
  {
   "cell_type": "code",
   "execution_count": null,
   "id": "ac9f024d-cc19-4b5f-a439-04f22b0fbbd6",
   "metadata": {},
   "outputs": [],
   "source": [
    "import excel ehcvm_welfare_SEN2018.xlsx, sheet(\"Data\") firstrow clear"
   ]
  },
  {
   "cell_type": "code",
   "execution_count": null,
   "id": "326f6b1f-99a7-479f-ad49-771230cec421",
   "metadata": {},
   "outputs": [],
   "source": [
    "import delimited ehcvm_welfare_SEN2018.csv, delimiter(\",\") clear "
   ]
  },
  {
   "cell_type": "code",
   "execution_count": null,
   "id": "6b11defa-d046-490b-b9ea-60ad95678038",
   "metadata": {},
   "outputs": [],
   "source": [
    "import spss using ehcvm_welfare_SEN2018.sav, clear"
   ]
  },
  {
   "cell_type": "code",
   "execution_count": null,
   "id": "bdf39bd2-46c6-4899-a8c8-c48b1cb18bf4",
   "metadata": {},
   "outputs": [],
   "source": [
    "import sas using ehcvm_welfare_SEN2018.sas7bdat, clear"
   ]
  },
  {
   "cell_type": "code",
   "execution_count": null,
   "id": "4f0c6592-5f60-4b77-8b4d-9027a4bf0815",
   "metadata": {
    "scrolled": true
   },
   "outputs": [],
   "source": [
    "infile using baseexp.raw, clear"
   ]
  },
  {
   "cell_type": "code",
   "execution_count": null,
   "id": "78917618-8b92-43b9-be0b-bf2df1da5758",
   "metadata": {},
   "outputs": [],
   "source": [
    "sysuse dir"
   ]
  },
  {
   "cell_type": "code",
   "execution_count": null,
   "id": "799780de-3eb4-4c8a-af55-830b637d1aa9",
   "metadata": {},
   "outputs": [],
   "source": [
    "sysuse auto.dta, clear"
   ]
  },
  {
   "cell_type": "code",
   "execution_count": null,
   "id": "cce8788d-e153-4d44-a22c-788d14107dd1",
   "metadata": {},
   "outputs": [],
   "source": [
    "webuse apple.dta, clear"
   ]
  },
  {
   "cell_type": "code",
   "execution_count": null,
   "id": "48963e58-948c-46a2-afe4-1f143b5856f2",
   "metadata": {},
   "outputs": [],
   "source": [
    "use ehcvm_welfare_SEN2018.dta, clear"
   ]
  },
  {
   "cell_type": "markdown",
   "id": "ff005d1f-10f1-47aa-afda-fb713806bf2b",
   "metadata": {},
   "source": [
    "![](out.png)"
   ]
  },
  {
   "cell_type": "code",
   "execution_count": null,
   "id": "2b6707bf-996b-4eeb-a7ca-e3a819ce88a3",
   "metadata": {},
   "outputs": [],
   "source": [
    "export excel using baseexp.xlsx, sheet(\"Info\") sheetreplace cell(B2) firstrow(varlabels)"
   ]
  },
  {
   "cell_type": "code",
   "execution_count": null,
   "id": "8a584cd7-7585-45e1-8ebc-9b3227f332f3",
   "metadata": {},
   "outputs": [],
   "source": [
    "export delimited using baseexp.csv, delimiter(\",\") replace"
   ]
  },
  {
   "cell_type": "code",
   "execution_count": null,
   "id": "dd384788-0b66-41ec-a2c4-a0379634d5f0",
   "metadata": {},
   "outputs": [],
   "source": [
    "export spss using baseexp.sav, replace"
   ]
  },
  {
   "cell_type": "code",
   "execution_count": null,
   "id": "54f04821-0bfc-4e5f-bce5-4ca9c743ba29",
   "metadata": {},
   "outputs": [],
   "source": [
    "outfile using baseexp.raw, dictionary replace"
   ]
  },
  {
   "cell_type": "markdown",
   "id": "1d88e457-340d-4d75-a33a-1812072d4f61",
   "metadata": {},
   "source": [
    "**<span style=\"color:IndianRed;font-size:150%\"> Observation et organisation </span>**"
   ]
  },
  {
   "cell_type": "code",
   "execution_count": null,
   "id": "326e5dbb-bd2b-4eb2-94bf-28f1ec4dd7ae",
   "metadata": {},
   "outputs": [],
   "source": [
    "browse region milieu if inlist(region, 1, 14)"
   ]
  },
  {
   "cell_type": "code",
   "execution_count": null,
   "id": "8e18eec9-255f-4552-a782-9c39491a1ee2",
   "metadata": {},
   "outputs": [],
   "source": [
    "edit region milieu eqadu? z* if inrange(region, 1, 3) "
   ]
  },
  {
   "cell_type": "code",
   "execution_count": null,
   "id": "fc6a81ae-aa3d-4b3e-bf8a-3f554586d574",
   "metadata": {},
   "outputs": [],
   "source": [
    "describe, simple"
   ]
  },
  {
   "cell_type": "code",
   "execution_count": null,
   "id": "81d59eb5-1b04-4609-9b11-0f0a819142f2",
   "metadata": {},
   "outputs": [],
   "source": [
    "describe country-hage"
   ]
  },
  {
   "cell_type": "code",
   "execution_count": null,
   "id": "108a5b5e-9b59-4f51-aafd-3a1620f26400",
   "metadata": {},
   "outputs": [],
   "source": [
    "list hhid region milieu in 1/10, separator(0)"
   ]
  },
  {
   "cell_type": "code",
   "execution_count": null,
   "id": "56ebb241-68c1-413c-aa9e-72b7e5e5da9d",
   "metadata": {},
   "outputs": [],
   "source": [
    "codebook region dtot"
   ]
  },
  {
   "cell_type": "code",
   "execution_count": null,
   "id": "ce21eb50-0578-40ec-af6e-cf13e48d4c34",
   "metadata": {},
   "outputs": [],
   "source": [
    "inspect dali dnal"
   ]
  },
  {
   "cell_type": "code",
   "execution_count": null,
   "id": "279eb59a-885f-4492-b611-e409893d86a4",
   "metadata": {},
   "outputs": [],
   "source": [
    "count if milieu == 2"
   ]
  },
  {
   "cell_type": "code",
   "execution_count": null,
   "id": "518c4ed0-ce85-49ef-8ef5-26b15463e989",
   "metadata": {},
   "outputs": [],
   "source": [
    "sort region milieu"
   ]
  },
  {
   "cell_type": "code",
   "execution_count": null,
   "id": "046a57d8-03ce-4004-b01c-04e7a69dcb13",
   "metadata": {},
   "outputs": [],
   "source": [
    "gsort region -milieu"
   ]
  },
  {
   "cell_type": "code",
   "execution_count": null,
   "id": "6b5f41c3-3222-4b37-9f1c-dd2471e3b10a",
   "metadata": {},
   "outputs": [],
   "source": [
    "order region milieu, before(country)"
   ]
  },
  {
   "cell_type": "code",
   "execution_count": null,
   "id": "e9537a7b-6e1c-417d-ab3c-e6aa55c764d0",
   "metadata": {},
   "outputs": [],
   "source": [
    "order *, alpha"
   ]
  },
  {
   "cell_type": "code",
   "execution_count": null,
   "id": "7defed44-e83c-46d4-ab9d-95a40898345a",
   "metadata": {},
   "outputs": [],
   "source": [
    "order hhid region milieu grappe hage hgender hhsize hhweight hmstat pcexp pcexp zref dali dnal dtot totdep , first"
   ]
  },
  {
   "cell_type": "code",
   "execution_count": null,
   "id": "50803976-b245-414a-b4ba-1534d08b061f",
   "metadata": {},
   "outputs": [],
   "source": [
    "lookfor \"Conso\""
   ]
  },
  {
   "cell_type": "code",
   "execution_count": null,
   "id": "5c8f4ab9-b8d2-44c7-b1ea-a290c6c8dff3",
   "metadata": {},
   "outputs": [],
   "source": [
    "ds, has(varlabel Conso*)"
   ]
  },
  {
   "cell_type": "code",
   "execution_count": null,
   "id": "461de6a0-b788-4d59-87d4-1b54d174788d",
   "metadata": {},
   "outputs": [],
   "source": [
    "ds, has(vallabel s0*)"
   ]
  },
  {
   "cell_type": "code",
   "execution_count": null,
   "id": "d56b8535-635d-4d2b-8d83-22644e5eee1e",
   "metadata": {},
   "outputs": [],
   "source": [
    "notes: Les conditions de vies des ménages"
   ]
  },
  {
   "cell_type": "code",
   "execution_count": null,
   "id": "0a095e35-1a84-41b1-b408-d2c9fe10f63e",
   "metadata": {},
   "outputs": [],
   "source": [
    "notes _dta: Enquête UEMOA"
   ]
  },
  {
   "cell_type": "code",
   "execution_count": null,
   "id": "fc514635-70bd-42ae-83d6-482e8ebdb490",
   "metadata": {},
   "outputs": [],
   "source": [
    "notes country: Le code du pays"
   ]
  },
  {
   "cell_type": "code",
   "execution_count": null,
   "id": "d1afce70-3881-46cf-8ded-4eacecf48f35",
   "metadata": {},
   "outputs": [],
   "source": [
    "notes"
   ]
  },
  {
   "cell_type": "code",
   "execution_count": null,
   "id": "81160d0b-cf77-477b-844d-a2aa7129d4e7",
   "metadata": {},
   "outputs": [],
   "source": [
    "notes _dta"
   ]
  },
  {
   "cell_type": "code",
   "execution_count": null,
   "id": "b3c37997-e006-4488-b510-c11383025304",
   "metadata": {},
   "outputs": [],
   "source": [
    "notes replace _dta in 2: Pauvreté des ménages"
   ]
  },
  {
   "cell_type": "code",
   "execution_count": null,
   "id": "f10c96d7-e643-49dc-89f8-3f5096dca946",
   "metadata": {},
   "outputs": [],
   "source": [
    "notes search co"
   ]
  },
  {
   "cell_type": "code",
   "execution_count": null,
   "id": "b803f44e-9f62-4aa8-a7f0-8481492145f1",
   "metadata": {},
   "outputs": [],
   "source": [
    "notes drop _dta in 2"
   ]
  },
  {
   "cell_type": "code",
   "execution_count": null,
   "id": "2c4a55cd-e881-4246-8a86-d45a36d068b6",
   "metadata": {},
   "outputs": [],
   "source": [
    "notes list"
   ]
  },
  {
   "cell_type": "code",
   "execution_count": null,
   "id": "8ad3acf3-3303-4922-a01c-f0306f53ce86",
   "metadata": {},
   "outputs": [],
   "source": [
    "forvalues i = 5 10 to 25 {\n",
    "    display `i'\n",
    "}"
   ]
  },
  {
   "cell_type": "code",
   "execution_count": null,
   "id": "e4b284c4-26fa-4fc1-b914-8a908027a6d3",
   "metadata": {},
   "outputs": [],
   "source": [
    "foreach v in moyenne variable {\n",
    "    display strlen(\"`v'\") \n",
    "}"
   ]
  },
  {
   "cell_type": "code",
   "execution_count": null,
   "id": "99325ade-46b3-42f5-8580-3a19b5fcb9d6",
   "metadata": {},
   "outputs": [],
   "source": [
    "levelsof region, local(lniv)\n",
    "foreach z of local lniv {\n",
    "    di \"-> Région = `:label (region) `z''\"\n",
    "    count if region == `z'\n",
    "}"
   ]
  },
  {
   "cell_type": "code",
   "execution_count": null,
   "id": "548bb829-e54a-4c68-8ba4-20af127e02f5",
   "metadata": {},
   "outputs": [],
   "source": [
    "local i = 0\n",
    "while `i' <= 5 {\n",
    "    display `i'\n",
    "    local ++i\n",
    "}"
   ]
  },
  {
   "cell_type": "markdown",
   "id": "a61d6795-a2e5-400a-b2b5-a8418738b617",
   "metadata": {},
   "source": [
    "**<span style=\"color:IndianRed;font-size:150%\"> Création de variables et libellés </span>**"
   ]
  },
  {
   "cell_type": "code",
   "execution_count": null,
   "id": "1e7505a7-613e-48cf-babe-ee760bd4f016",
   "metadata": {},
   "outputs": [],
   "source": [
    "rename country pays"
   ]
  },
  {
   "cell_type": "code",
   "execution_count": null,
   "id": "de0ae31c-a427-4cad-a6c8-202859c61544",
   "metadata": {},
   "outputs": [],
   "source": [
    "rename (hcsp menage)(hjob hnum)"
   ]
  },
  {
   "cell_type": "code",
   "execution_count": null,
   "id": "646b0aa5-a6c6-45be-ace1-853116cea2b8",
   "metadata": {},
   "outputs": [],
   "source": [
    "rename (pays-zzae) v#, addnumber"
   ]
  },
  {
   "cell_type": "code",
   "execution_count": null,
   "id": "ecbcc673-8dc1-4e08-8e3b-783f307bf51d",
   "metadata": {},
   "outputs": [],
   "source": [
    "rename v# v#, addnumber(10)"
   ]
  },
  {
   "cell_type": "code",
   "execution_count": null,
   "id": "4f0965da-e35c-4f89-a0e0-a3300b88604c",
   "metadata": {},
   "outputs": [],
   "source": [
    "rename v# v#, renumber(0) sort"
   ]
  },
  {
   "cell_type": "code",
   "execution_count": null,
   "id": "47891043-e621-416a-a101-a31936e260c8",
   "metadata": {},
   "outputs": [],
   "source": [
    "rename country hcsp menage v?, upper"
   ]
  },
  {
   "cell_type": "code",
   "execution_count": null,
   "id": "7f92dc81-3373-4a59-a56a-bf75a87608e9",
   "metadata": {},
   "outputs": [],
   "source": [
    "keep hhid-totdep v??"
   ]
  },
  {
   "cell_type": "code",
   "execution_count": null,
   "id": "aa5d6468-b34d-4575-a023-d9f30632696f",
   "metadata": {},
   "outputs": [],
   "source": [
    "keep if !missing(hhid)"
   ]
  },
  {
   "cell_type": "code",
   "execution_count": null,
   "id": "700b5194-4779-4664-b3f4-74620149a8de",
   "metadata": {},
   "outputs": [],
   "source": [
    "drop v??"
   ]
  },
  {
   "cell_type": "code",
   "execution_count": null,
   "id": "8f8d3ed9-7fd4-4322-ad1c-2d643e42f194",
   "metadata": {},
   "outputs": [],
   "source": [
    "drop if hage == 999"
   ]
  },
  {
   "cell_type": "code",
   "execution_count": null,
   "id": "112cf285-4665-41fb-a76a-f03262afea64",
   "metadata": {},
   "outputs": [],
   "source": [
    "generate double lhage = log(hage)"
   ]
  },
  {
   "cell_type": "code",
   "execution_count": null,
   "id": "a8c990cf-2311-4c0b-a538-720ee9baf025",
   "metadata": {},
   "outputs": [],
   "source": [
    "gen hhsize_str = string(hhsize)"
   ]
  },
  {
   "cell_type": "code",
   "execution_count": null,
   "id": "6742271a-e2c6-4585-a44d-52ad0293bf72",
   "metadata": {},
   "outputs": [],
   "source": [
    "generate agecl = cond(hage <= 45, 1, 2)"
   ]
  },
  {
   "cell_type": "code",
   "execution_count": null,
   "id": "c5f470b9-587b-4f92-ab91-cb8d01f22e30",
   "metadata": {},
   "outputs": [],
   "source": [
    "generate dtotcl_str = cond(dtot <= 1000000, \"Faible\", cond(dtot > 1000000 & dtot <= 5000000, \"Moyenne\", \"Elevée\"))"
   ]
  },
  {
   "cell_type": "code",
   "execution_count": null,
   "id": "fca5f3d9-80ef-4f62-a5ef-8d82273dacfe",
   "metadata": {},
   "outputs": [],
   "source": [
    "egen dalicl = cut(dali), at(0 1000000 10000000 100000000) icodes"
   ]
  },
  {
   "cell_type": "code",
   "execution_count": null,
   "id": "201e1d03-75ad-4431-b387-36efd4bf56ec",
   "metadata": {},
   "outputs": [],
   "source": [
    "egen dnalcl = cut(dnal), group(3) icodes"
   ]
  },
  {
   "cell_type": "code",
   "execution_count": null,
   "id": "b999a323-ab92-46c6-8593-647abe0f4aaa",
   "metadata": {},
   "outputs": [],
   "source": [
    "generate dtotcl = autocode(dtot, 4, 250000, 6500000)"
   ]
  },
  {
   "cell_type": "code",
   "execution_count": null,
   "id": "07798e62-92f2-4180-86fa-1f9a1b2299fc",
   "metadata": {},
   "outputs": [],
   "source": [
    "replace agecl = 0 if agecl == 2"
   ]
  },
  {
   "cell_type": "code",
   "execution_count": null,
   "id": "58ad08af-3056-418c-ad97-815bd8ac2727",
   "metadata": {},
   "outputs": [],
   "source": [
    "ereplace lhage = mean(hage) if hage > 90"
   ]
  },
  {
   "cell_type": "code",
   "execution_count": null,
   "id": "c5d75d15-2119-4026-804d-ea415262b144",
   "metadata": {},
   "outputs": [],
   "source": [
    "label data \"Base données EHCVM 2018/2019 ANSD\""
   ]
  },
  {
   "cell_type": "code",
   "execution_count": null,
   "id": "21c553f5-0c06-40c3-850e-cf8186aad258",
   "metadata": {},
   "outputs": [],
   "source": [
    "label variable agecl \"Groupe d'age\""
   ]
  },
  {
   "cell_type": "code",
   "execution_count": null,
   "id": "f482a399-654c-46ce-b405-53116048c81c",
   "metadata": {},
   "outputs": [],
   "source": [
    "elabel variable (dalicl dnalcl)(\"Classe de dépenses alimentaires\" \"Classe des dépenses non alimentaires\")"
   ]
  },
  {
   "cell_type": "code",
   "execution_count": null,
   "id": "7b1840ed-8e5c-4205-8e4b-6fb2935f93e2",
   "metadata": {
    "scrolled": true
   },
   "outputs": [],
   "source": [
    "label list"
   ]
  },
  {
   "cell_type": "code",
   "execution_count": null,
   "id": "8e0ec419-19c7-4166-95c3-e9dd0f2e9df8",
   "metadata": {},
   "outputs": [],
   "source": [
    "label list s00q01"
   ]
  },
  {
   "cell_type": "code",
   "execution_count": null,
   "id": "48e32ea2-6099-42df-8e4c-e435dd589976",
   "metadata": {},
   "outputs": [],
   "source": [
    "elabel list (region)"
   ]
  },
  {
   "cell_type": "code",
   "execution_count": null,
   "id": "f3b38717-8725-4d30-b197-54abf99ba340",
   "metadata": {},
   "outputs": [],
   "source": [
    "label define cllb 1 Faible 2 Moyenne 3 \"Elevée\""
   ]
  },
  {
   "cell_type": "code",
   "execution_count": null,
   "id": "5f28f592-30e1-426f-bd03-addcf23782a8",
   "metadata": {},
   "outputs": [],
   "source": [
    "label values dalicl dnalcl cllb"
   ]
  },
  {
   "cell_type": "code",
   "execution_count": null,
   "id": "a750b441-919a-47b9-80f1-80f45fee3c11",
   "metadata": {},
   "outputs": [],
   "source": [
    "label define pauvlb 1 \"Pauvre\" 0 \"Non Pauvre\"\n",
    "generate pauvre:pauvlb = pcexp < zref"
   ]
  },
  {
   "cell_type": "code",
   "execution_count": null,
   "id": "77ba2241-f4fb-47b8-bd80-7fd281ea31e9",
   "metadata": {},
   "outputs": [],
   "source": [
    "tab dtotcl"
   ]
  },
  {
   "cell_type": "code",
   "execution_count": null,
   "id": "9bd210c6-d6ad-45eb-a205-9aa8dc2c1ebf",
   "metadata": {},
   "outputs": [],
   "source": [
    "recode dtotcl (1812500 = 1)(3375000 = 2)(4937500 = 3)(6500000 = 4), generate(new_dtotcl)"
   ]
  },
  {
   "cell_type": "code",
   "execution_count": null,
   "id": "2d4dd9d1-8b56-4153-b159-cb723c500fcf",
   "metadata": {},
   "outputs": [],
   "source": [
    "recode hmstat (1 4=1 \"Célibataire\")(2=2 \"Monogame\")(3=3 \"Polygame\")(else=4 \"Divorcés/Veuf\"), gen(hmsit) label(hmlb)"
   ]
  },
  {
   "cell_type": "code",
   "execution_count": null,
   "id": "c8249360-60b3-4676-af22-56093a3e41a3",
   "metadata": {},
   "outputs": [],
   "source": [
    "tabulate region"
   ]
  },
  {
   "cell_type": "code",
   "execution_count": null,
   "id": "0d0360c5-3c47-4bda-9f4e-2696fe4760e0",
   "metadata": {},
   "outputs": [],
   "source": [
    "numlabel s00q01, add\n",
    "tabulate region"
   ]
  },
  {
   "cell_type": "code",
   "execution_count": null,
   "id": "d27e4cd5-9c54-4935-b987-32f36b1ffd4d",
   "metadata": {},
   "outputs": [],
   "source": [
    "numlabel s00q01, remove\n",
    "tabulate region"
   ]
  },
  {
   "cell_type": "code",
   "execution_count": null,
   "id": "28a966fe-1901-4fbf-86f4-2b4d00d4f723",
   "metadata": {},
   "outputs": [],
   "source": [
    "labelbook cllb hmlb, alpha"
   ]
  },
  {
   "cell_type": "code",
   "execution_count": null,
   "id": "736f39b9-d877-472e-8c87-7a2c3d36a86a",
   "metadata": {},
   "outputs": [],
   "source": [
    "elabel duplicates report"
   ]
  },
  {
   "cell_type": "code",
   "execution_count": null,
   "id": "2cb3e48a-ea2d-43f8-b85f-5e31a8b4adfe",
   "metadata": {},
   "outputs": [],
   "source": [
    "labelbook, problems"
   ]
  },
  {
   "cell_type": "code",
   "execution_count": null,
   "id": "286b520a-6cc3-4b86-9099-1af9dc72d75f",
   "metadata": {},
   "outputs": [],
   "source": [
    "return list"
   ]
  },
  {
   "cell_type": "code",
   "execution_count": null,
   "id": "20674816-f47c-4289-b93b-fc77bdf87c56",
   "metadata": {},
   "outputs": [],
   "source": [
    "label drop `r(notused)'"
   ]
  },
  {
   "cell_type": "code",
   "execution_count": null,
   "id": "115c07ac-9cf5-47de-b219-64a8216c9895",
   "metadata": {},
   "outputs": [],
   "source": [
    "preserve\n",
    "uselabel, var clear\n",
    "save mylab, replace\n",
    "restore"
   ]
  },
  {
   "cell_type": "code",
   "execution_count": null,
   "id": "936165ec-343d-47fa-b25c-ac775c76724b",
   "metadata": {},
   "outputs": [],
   "source": [
    "label language fr, rename"
   ]
  },
  {
   "cell_type": "code",
   "execution_count": null,
   "id": "6171bed5-4611-4936-8ad5-a3930ef4ea9f",
   "metadata": {},
   "outputs": [],
   "source": [
    "label language wf, new"
   ]
  },
  {
   "cell_type": "code",
   "execution_count": null,
   "id": "6ca60434-a0ca-47b2-95a6-e5ea242807e7",
   "metadata": {},
   "outputs": [],
   "source": [
    "elabel variable (milieu hgender hmstat)(\"kaw gui\" \"Jurin gui\" \"Toluway ci sëy\")"
   ]
  },
  {
   "cell_type": "code",
   "execution_count": null,
   "id": "a765395f-76e9-4249-bf37-2917a364a830",
   "metadata": {},
   "outputs": [],
   "source": [
    "label define dekk 1 \"Dëkk yi\" 2 \"Kaw gui\"\n",
    "label values milieu dekk"
   ]
  },
  {
   "cell_type": "code",
   "execution_count": null,
   "id": "db876f16-f3f3-45f7-99fc-d5e71693bf2c",
   "metadata": {},
   "outputs": [],
   "source": [
    "label define nitt 1 \"Góor\" 2 \"Jigéen\"\n",
    "label values hgender nitt"
   ]
  },
  {
   "cell_type": "code",
   "execution_count": null,
   "id": "4a165a61-ed34-452d-90cb-ca9a50ed1321",
   "metadata": {},
   "outputs": [],
   "source": [
    "label define sey 1 \"Musul sëy\" 2 \"Sëy, ben diabar\" 3 \"Sëy, bari jabar\" 4 \"Sëy bu jeex\"\n",
    "label values hmsit sey"
   ]
  },
  {
   "cell_type": "code",
   "execution_count": null,
   "id": "21b7bf80-95ec-44cf-a71b-515aea055ec2",
   "metadata": {},
   "outputs": [],
   "source": [
    "label define ndol 1 \"Ndóol\" 0 \"Am alal\"\n",
    "label values pauvre ndol"
   ]
  },
  {
   "cell_type": "code",
   "execution_count": null,
   "id": "61855895-1651-4e68-b0a0-bf41c7a0c447",
   "metadata": {},
   "outputs": [],
   "source": [
    "tabulate hmsit milieu, row nofreq"
   ]
  },
  {
   "cell_type": "code",
   "execution_count": null,
   "id": "3a94148b-f82f-49da-87fe-88ca0a5413b8",
   "metadata": {},
   "outputs": [],
   "source": [
    "tabulate hgender milieu"
   ]
  },
  {
   "cell_type": "code",
   "execution_count": null,
   "id": "7eaa26d6-4992-4161-820e-286b4c09f3e9",
   "metadata": {},
   "outputs": [],
   "source": [
    "label language fr\n",
    "tabulate hgender milieu"
   ]
  },
  {
   "cell_type": "code",
   "execution_count": null,
   "id": "15736066-560d-4c1a-9b88-69327113a0a4",
   "metadata": {},
   "outputs": [],
   "source": [
    "label language"
   ]
  },
  {
   "cell_type": "code",
   "execution_count": null,
   "id": "ab4c5dab-3006-461d-b83d-a7f5e8d8c839",
   "metadata": {},
   "outputs": [],
   "source": [
    "encode dtotcl_str, generate(dtotcl2) label(cllb)"
   ]
  },
  {
   "cell_type": "code",
   "execution_count": null,
   "id": "e15ff0f3-422d-4a75-8a58-91044e440aa1",
   "metadata": {},
   "outputs": [],
   "source": [
    "decode region, generate(reg_str)"
   ]
  },
  {
   "cell_type": "code",
   "execution_count": null,
   "id": "aa5619f9-2575-488f-9c40-02a88238e3aa",
   "metadata": {},
   "outputs": [],
   "source": [
    "tostring hhsize, gen(hhsize_str2)"
   ]
  },
  {
   "cell_type": "code",
   "execution_count": null,
   "id": "32e064ac-9ba9-4b50-89c5-b5228176a4ee",
   "metadata": {},
   "outputs": [],
   "source": [
    "compare hhsize_str2 hhsize_str"
   ]
  },
  {
   "cell_type": "code",
   "execution_count": null,
   "id": "d04575c6-fbd4-44d7-838d-2a931cd3eda8",
   "metadata": {},
   "outputs": [],
   "source": [
    "destring hhsize_str2, replace"
   ]
  },
  {
   "cell_type": "code",
   "execution_count": null,
   "id": "873383a1-4224-48e0-9157-2e0beea141cf",
   "metadata": {},
   "outputs": [],
   "source": [
    "destring totdep, gen(totdep_num) ignore(\"/\" \"\\\" \";\" \",\" \"-\" \":\" \".\" \"|\")"
   ]
  },
  {
   "cell_type": "markdown",
   "id": "250a2244-e8fb-4dec-b678-90bd56b9727f",
   "metadata": {},
   "source": [
    "**<span style=\"color:IndianRed;font-size:150%\"> Tableau et figures </span>**"
   ]
  },
  {
   "cell_type": "code",
   "execution_count": null,
   "id": "498df61e-2fac-415c-b1b1-a61bfff71109",
   "metadata": {},
   "outputs": [],
   "source": [
    "summarize hage dali dnal dtot"
   ]
  },
  {
   "cell_type": "code",
   "execution_count": null,
   "id": "e8d79e5c-ced1-469a-ae56-766e278d631c",
   "metadata": {},
   "outputs": [],
   "source": [
    "tabulate hmsit, sort"
   ]
  },
  {
   "cell_type": "code",
   "execution_count": null,
   "id": "44bfc62b-6740-4dca-a9cd-5887b17e261c",
   "metadata": {},
   "outputs": [],
   "source": [
    "tabulate hmsit, summarize(dtot) mean"
   ]
  },
  {
   "cell_type": "code",
   "execution_count": null,
   "id": "d7c2ea24-90ad-4101-bd05-ca60efd9dbb7",
   "metadata": {},
   "outputs": [],
   "source": [
    "tab1 hmsit milieu, sort"
   ]
  },
  {
   "cell_type": "code",
   "execution_count": null,
   "id": "8d224e15-cf57-49dc-b0af-96f28e3ff9d6",
   "metadata": {},
   "outputs": [],
   "source": [
    "tabulate hmsit milieu, col nofreq chi2"
   ]
  },
  {
   "cell_type": "code",
   "execution_count": null,
   "id": "1f88125f-7f50-4d9a-9e52-4168a0e5018f",
   "metadata": {
    "scrolled": true
   },
   "outputs": [],
   "source": [
    "tab2 hmsit milieu hgender, row nofreq"
   ]
  },
  {
   "cell_type": "code",
   "execution_count": null,
   "id": "45a49b55-de1d-40d6-9310-57863f7d43dc",
   "metadata": {},
   "outputs": [],
   "source": [
    "tabulate hmsit milieu, summarize(dtot) mean"
   ]
  },
  {
   "cell_type": "code",
   "execution_count": null,
   "id": "24189f56-0f34-43e9-abfc-17fff901b827",
   "metadata": {},
   "outputs": [],
   "source": [
    "tabstat dtot dali dnal, statistics(mean median) by(milieu )"
   ]
  },
  {
   "cell_type": "code",
   "execution_count": null,
   "id": "043e0c0f-dcfa-40c1-86b7-ee90ef97b86d",
   "metadata": {},
   "outputs": [],
   "source": [
    "statsby, by(region) saving(mystats, replace): summarize hage dali dnal dtot"
   ]
  },
  {
   "cell_type": "code",
   "execution_count": null,
   "id": "c97c89c4-146a-4f9e-ad83-72f37f0a5912",
   "metadata": {},
   "outputs": [],
   "source": [
    "preserve\n",
    "collapse (mean) mage = hage (median) mda = dali dnal dtot, by(region milieu)\n",
    "restore"
   ]
  },
  {
   "cell_type": "code",
   "execution_count": null,
   "id": "724609e9-e9f2-4887-8edf-3b87c59a5018",
   "metadata": {
    "scrolled": true
   },
   "outputs": [],
   "source": [
    "table (region)(milieu), statistic(median dali dnal) statistic(fvpercent hgender hmsit) name(mytab)"
   ]
  },
  {
   "cell_type": "code",
   "execution_count": null,
   "id": "26ff0503-b0ef-4441-b78b-d10482016744",
   "metadata": {},
   "outputs": [],
   "source": [
    "dtable, by(milieu) continuous(dtot dnal dali, statistics(mean)) factor(region hmsit, statistics(fvpercent)) name(mydtab)"
   ]
  },
  {
   "cell_type": "code",
   "execution_count": null,
   "id": "b7c74e05-0293-417f-8e05-5f1d582cd2e4",
   "metadata": {
    "scrolled": true
   },
   "outputs": [],
   "source": [
    "regress dtot dali i.hmsit"
   ]
  },
  {
   "cell_type": "code",
   "execution_count": null,
   "id": "641b05ff-2d4a-4d99-97e2-260d730c953d",
   "metadata": {},
   "outputs": [],
   "source": [
    "estimates store mymodel"
   ]
  },
  {
   "cell_type": "code",
   "execution_count": null,
   "id": "38a4a8ff-9fe8-442e-88ea-2c5f69ac20bc",
   "metadata": {},
   "outputs": [],
   "source": [
    "etable, estimates(mymodel) name(myreg)"
   ]
  },
  {
   "cell_type": "code",
   "execution_count": null,
   "id": "00f67ae9-b226-453d-894f-d07499ce5e5b",
   "metadata": {},
   "outputs": [],
   "source": [
    "collect dir"
   ]
  },
  {
   "cell_type": "code",
   "execution_count": null,
   "id": "01c717b6-9754-4c53-bd76-ba2ed6816f8b",
   "metadata": {},
   "outputs": [],
   "source": [
    "collect export mytables.xlsx, name(mytab) as(xlsx) sheet(table) cell(B2) replace"
   ]
  },
  {
   "cell_type": "code",
   "execution_count": null,
   "id": "b0c0fe6b-5f6e-4256-8d04-258a8eded34b",
   "metadata": {},
   "outputs": [],
   "source": [
    "collect export mytables.xlsx, name(mydtab) as(xlsx) sheet(table) cell(G2) modify"
   ]
  },
  {
   "cell_type": "code",
   "execution_count": null,
   "id": "a7b52ed1-4d7e-40f6-b783-9694ee017896",
   "metadata": {},
   "outputs": [],
   "source": [
    "collect export mytables.xlsx, name(myreg) as(xlsx) sheet(table) cell(G30) modify"
   ]
  },
  {
   "cell_type": "code",
   "execution_count": null,
   "id": "4f2bf662-8b50-4904-8797-8dff0f8c9ae1",
   "metadata": {
    "scrolled": true
   },
   "outputs": [],
   "source": [
    "graph bar (percent), over(hmsit, sort(1) descending) blabel(bar, format(%9.2f)) scheme(gg_tableau)"
   ]
  },
  {
   "cell_type": "markdown",
   "id": "5c69bc2b-faa5-4033-975a-205598e42497",
   "metadata": {},
   "source": [
    "![](gr1.png)"
   ]
  },
  {
   "cell_type": "code",
   "execution_count": null,
   "id": "1b242a11-9974-4484-a55e-c6badf41f144",
   "metadata": {},
   "outputs": [],
   "source": [
    "graph bar (count), over(hmsit, sort(1) descending) over(hgender) asyvars percentages scheme(swift_red)"
   ]
  },
  {
   "cell_type": "markdown",
   "id": "804b7eef-5958-448b-a130-a5db2aa56dcd",
   "metadata": {},
   "source": [
    "![](gr2x.png)"
   ]
  },
  {
   "cell_type": "code",
   "execution_count": null,
   "id": "99d0b03b-097a-478c-acb9-71543d6b2914",
   "metadata": {},
   "outputs": [],
   "source": [
    "label language wf"
   ]
  },
  {
   "cell_type": "code",
   "execution_count": null,
   "id": "88d698a4-9fb0-4424-9651-8353557edfdb",
   "metadata": {},
   "outputs": [],
   "source": [
    "graph bar (count), over(hmsit, sort(1) descending) over(hgender) asyvars percentages scheme(rainbow) stack"
   ]
  },
  {
   "cell_type": "markdown",
   "id": "bdf48c9e-b123-413e-bfc9-76b7f8217c3a",
   "metadata": {},
   "source": [
    "![](gr3.png)"
   ]
  },
  {
   "cell_type": "code",
   "execution_count": null,
   "id": "7864ce53-ca5c-4239-9d5b-f949bc8d0016",
   "metadata": {
    "scrolled": true
   },
   "outputs": [],
   "source": [
    "graph box hage, over(hgender) scheme(white_tableau)"
   ]
  },
  {
   "cell_type": "markdown",
   "id": "8d2c501c-c2ee-4759-95d7-bccc79472b58",
   "metadata": {},
   "source": [
    "![](gr4.png)"
   ]
  },
  {
   "cell_type": "code",
   "execution_count": null,
   "id": "3bd9307d-c0b6-42c5-888c-08e2ee3a6978",
   "metadata": {
    "scrolled": true
   },
   "outputs": [],
   "source": [
    "graph pie, over(hmsit) pie(_all, explode(5)) plabel(_all percent, format(%4.1f) color(white)) scheme(white_w3d)"
   ]
  },
  {
   "cell_type": "markdown",
   "id": "f9505e89-d85c-41cb-b2c0-73097a152e69",
   "metadata": {},
   "source": [
    "![](gr5zx.png)"
   ]
  },
  {
   "cell_type": "code",
   "execution_count": null,
   "id": "f6a753d4-8618-4f3a-9251-4e4f36a8ffbe",
   "metadata": {},
   "outputs": [],
   "source": [
    "set scheme gg_tableau"
   ]
  },
  {
   "cell_type": "code",
   "execution_count": null,
   "id": "0ea3c3af-308a-4a5a-aa49-625311a30395",
   "metadata": {},
   "outputs": [],
   "source": [
    "twoway (scatter hage hhsize)"
   ]
  },
  {
   "cell_type": "markdown",
   "id": "ca78f0ae-ddce-4ade-971f-aed3c8aa6f80",
   "metadata": {},
   "source": [
    "![](gr6.png)"
   ]
  },
  {
   "cell_type": "code",
   "execution_count": null,
   "id": "a2118af1-66bb-48a7-b33a-1f950c890428",
   "metadata": {},
   "outputs": [],
   "source": [
    "twoway (line dali hage, sort)"
   ]
  },
  {
   "cell_type": "markdown",
   "id": "753672f3-2a18-4083-8d61-3d996376f822",
   "metadata": {},
   "source": [
    "![](gr7.png)"
   ]
  },
  {
   "cell_type": "code",
   "execution_count": null,
   "id": "cc21d268-26d5-427a-99c4-8d5a853745e4",
   "metadata": {},
   "outputs": [],
   "source": [
    "twoway (line dali hage if dali < 200000, sort yaxis(1))(line dnal hage if dnal < 200000, sort yaxis(2)), legend(off)"
   ]
  },
  {
   "cell_type": "markdown",
   "id": "2799bde4-df94-47d4-9bce-1baf4eb894e4",
   "metadata": {},
   "source": [
    "![](gr8.png)"
   ]
  },
  {
   "cell_type": "markdown",
   "id": "b488af60-71ee-4204-b9aa-5d4b841c78f8",
   "metadata": {},
   "source": [
    "**<span style=\"color:IndianRed;font-size:150%\"> Données d'enquête </span>**"
   ]
  },
  {
   "cell_type": "code",
   "execution_count": null,
   "id": "6df2e17a-47a9-4d52-ae3b-51b16b8ed075",
   "metadata": {},
   "outputs": [],
   "source": [
    "generate poids = hhweight * hhsize"
   ]
  },
  {
   "cell_type": "code",
   "execution_count": null,
   "id": "3f896fdd-5a2b-4c43-8404-95d6ae5231d3",
   "metadata": {},
   "outputs": [],
   "source": [
    "total poids"
   ]
  },
  {
   "cell_type": "code",
   "execution_count": null,
   "id": "733e2ceb-3497-40de-8782-6410001fbebd",
   "metadata": {},
   "outputs": [],
   "source": [
    "return list"
   ]
  },
  {
   "cell_type": "code",
   "execution_count": null,
   "id": "8332440e-8371-4067-9d68-5620023a7377",
   "metadata": {},
   "outputs": [],
   "source": [
    "display r(table)[1,1]"
   ]
  },
  {
   "cell_type": "code",
   "execution_count": null,
   "id": "563512e5-c12a-4f09-8a0c-60a9bb66efb6",
   "metadata": {},
   "outputs": [],
   "source": [
    "generate pop = r(table)[1,1]"
   ]
  },
  {
   "cell_type": "code",
   "execution_count": null,
   "id": "49a97016-785f-408b-b317-b431e5b30baa",
   "metadata": {},
   "outputs": [],
   "source": [
    "generate ndr = 17164"
   ]
  },
  {
   "cell_type": "code",
   "execution_count": null,
   "id": "6e3c5936-511a-42ae-94bd-785b24552bcb",
   "metadata": {},
   "outputs": [],
   "source": [
    "svyset grappe, strata(milieu) fpc(ndr) || _n [pw = poids], fpc(pop)"
   ]
  },
  {
   "cell_type": "code",
   "execution_count": null,
   "id": "5d9b7afb-5ac6-4daf-9f85-2acfaf675455",
   "metadata": {},
   "outputs": [],
   "source": [
    "svy: tabulate pauvre"
   ]
  },
  {
   "cell_type": "code",
   "execution_count": null,
   "id": "e1376a76-85f0-4f4a-9155-0d6bac540f4d",
   "metadata": {},
   "outputs": [],
   "source": [
    "svy, subpop(if region == 1): tabulate hmsit pauvre, row"
   ]
  },
  {
   "cell_type": "code",
   "execution_count": null,
   "id": "0c4e7f60-78b1-4510-a64c-c4fa9c2836a7",
   "metadata": {},
   "outputs": [],
   "source": [
    "svy: mean pauvre"
   ]
  },
  {
   "cell_type": "code",
   "execution_count": null,
   "id": "eddd8c1e-d13b-45e3-acca-37cc8a44877a",
   "metadata": {},
   "outputs": [],
   "source": [
    "svy: mean pauvre, over(region)"
   ]
  },
  {
   "cell_type": "code",
   "execution_count": null,
   "id": "f351227b-8e2b-43a8-9bea-2c603618975a",
   "metadata": {},
   "outputs": [],
   "source": [
    "svy: proportion pauvre"
   ]
  },
  {
   "cell_type": "code",
   "execution_count": null,
   "id": "8d7fead4-58ae-42cb-b545-a03025eeffe8",
   "metadata": {},
   "outputs": [],
   "source": [
    "svy: total pauvre"
   ]
  },
  {
   "cell_type": "code",
   "execution_count": null,
   "id": "0c6d677e-ddd7-44ed-a00d-29cb6a92a5bb",
   "metadata": {},
   "outputs": [],
   "source": [
    "ratio dtete: dtot/hhsize, over(milieu)"
   ]
  },
  {
   "cell_type": "code",
   "execution_count": null,
   "id": "00604d36-413e-49ea-8f2d-f8056a548934",
   "metadata": {},
   "outputs": [],
   "source": []
  }
 ],
 "metadata": {
  "kernelspec": {
   "display_name": "Stata",
   "language": "stata",
   "name": "stata"
  },
  "language_info": {
   "codemirror_mode": "stata",
   "file_extension": ".do",
   "mimetype": "text/x-stata",
   "name": "stata",
   "version": "15.1"
  }
 },
 "nbformat": 4,
 "nbformat_minor": 5
}
