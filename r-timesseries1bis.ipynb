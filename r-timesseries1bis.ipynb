{
 "cells": [
  {
   "cell_type": "markdown",
   "metadata": {
    "slideshow": {
     "slide_type": "slide"
    }
   },
   "source": [
    "**<span style=\"color:navy; font-size:200%\"> ANALYSE DESCRIPTIVE  DES SERIES TEMPORELLES </span>**  \n",
    "> _**<span style=\"color:olive\"> Ibrahima TALL </span>**_  \n",
    "> **Ingénieur Statisticien Economiste**, BSE/DSECN/ANSD   \n",
    "> **00221772382463**  \n",
    "> <span style=\"color:SkyBlue\">$\\mbox{ibrahimatallise@yahoo.fr}$</span>  \n",
    "> <span style=\"color:SkyBlue\">$\\mbox{datasciences4ise@gmail.com}$</span>   \n",
    "> <span style=\"color:SkyBlue\">$\\mbox{www.github.com/IbrahimaTall}$</span>  \n",
    ">"
   ]
  },
  {
   "cell_type": "markdown",
   "metadata": {},
   "source": [
    "****"
   ]
  },
  {
   "cell_type": "code",
   "execution_count": 1,
   "metadata": {},
   "outputs": [],
   "source": [
    "# Définition des paramètres de la fenêtre graphique\n",
    "options(repr.plot.width = 6, repr.plot.height = 6)\n"
   ]
  },
  {
   "cell_type": "markdown",
   "metadata": {
    "cell_style": "center",
    "slideshow": {
     "slide_type": "slide"
    }
   },
   "source": [
    "**<span style=\"color:navy;font-size:200%\"> Chapitre 1: GENERALITES SUR LES SERIES TEMPORELLES </span>**  \n",
    "\n",
    "Les statisticiens sont souvent appelés à analyser des **<span style=\"color:GoldenRod\"> phénomènes passés </span>** et d'en déduire un comportement **<span style=\"color:GoldenRod\"> futur </span>** aussi réaliste que possible. En quoi une telle **<span style=\"color:GoldenRod\"> prévision </span>** est-elle importante ?  \n",
    "\n",
    "La réponse à cette question se mesure par l'importance des domaines d'application des séries temporelles, lesquels sont nombreux. En effet, en **<span style=\"color:LimeGreen\"> démographie</span>**, le suivi de l'évolution de la population d'un pays est un exercice courant dans les Instituts nationaux de Statistique (INS), et la prévision de l'évolution de la population est très déterminant dans les politiques publiques.   \n",
    "\n",
    "Aussi, en **<span style=\"color:LimeGreen\"> économie</span>**, il est possible de connaître la demande de consommation d'un bien dans le futur, aux moyens des niveaux de consommation passés et présent. Célà est utile aux entreprises pour ajuster leurs nouvelles productions.  \n",
    "De même, en suivant le potentiel **<span style=\"color:LimeGreen\"> écologique </span>** d'une forêt, d'une savane, etc., il est possible de prévenir une désertification, et en temps utile, de recommander des politiques de reboisements.  \n",
    "Par ailleurs, le domaine du **<span style=\"color:LimeGreen\"> marketing</span>** offre de nombreux défis en ce qui concerne la prévision de la clientèle, l'évolution des parts de marché etc.  \n",
    "Il y a aussi le domaine de la **<span style=\"color:LimeGreen\">finance</span>** avec le suivi du cours d’une action au niveau des marchés boursiers qui constitue un important champs d'application des séries temporelles.   \n",
    "\n",
    "**<span style=\"color:MediumBlue;font-size:150%\"> Introduction </span>**  \n",
    "\n",
    "Une série temporelle est le résultat d'un **<span style=\"color:LimeGreen\">phénomène</span>** aléatoire suivi dans le temps. Chaque valeur du **<span style=\"color:LimeGreen\">processus</span>** est identifiée à un moment précis et par interval régulier.  \n",
    "\n",
    "**<span style=\"color:blue;font-size:120%\">1. Définition d'une série temporelle </span>**  \n",
    "\n",
    "Par définition, une série temporelle (ou série chronologique) est une suite réel à valeurs finies indéxée par le temps $(X_t)_{t \\in \\mathbb{N}}$. Le temps $t$ peut correspondre à la seconde, à la minute, à l'heure, au jour, à la semaine, au mois, au trimestre, au semestre ou encore à l'année."
   ]
  },
  {
   "cell_type": "markdown",
   "metadata": {
    "cell_style": "center",
    "slideshow": {
     "slide_type": "slide"
    }
   },
   "source": [
    "**<span style=\"color:blue;font-size:120%\">2. Les objectifs de l'analyse des séries temporelles </span>**  \n",
    "\n",
    "Les séries temporelles sont étudiées principalement dans le but de **comprendre un phénomène** au cours du temps (passé et présent) afin de **prédir** son comportement dans **le futur**. La comprehension dudit procéssus consiste à trouver une struture expliquant le phénomène dans sa forme maitrisable. Il sera question de déceler la présence d'une **<span style=\"color:LimeGreen\">tendance</span>** et d'une **<span style=\"color:LimeGreen\">saisonnalité</span>** pour mener à bien la prévision.  \n",
    "\n",
    "**<span style=\"color:blue;font-size:120%\">3. Période et notation d'une série temporelle </span>**  \n",
    "\n",
    "Soit la série temporelle définie par : $(X_{t_1}, X_{t_2}, X_{t_3}, X_{t_4}, ..., X_{t_n})$  \n",
    "$\\tau = t_{i+1}-t_i$ est la période de la série;  \n",
    "$L = t_n - t_1 +1$ est la longueur de la série."
   ]
  },
  {
   "cell_type": "markdown",
   "metadata": {
    "slideshow": {
     "slide_type": "slide"
    }
   },
   "source": [
    "La représentation avec un seul indice est la plus courante (comme illustré précédemment). Une notation à plusieurs indices est possible dans le cas des séries infra-annuelles. Par exemple,   \n",
    "$(X_{i,j}),~~$ $i$ = années et $j$ = trimestre (j = 1, 2, 3, 4).  \n",
    "La valeur de la série au troisième trimestre de la première année est $X_{1,3}$. Et celle au deuxième trimestre de la cinquième année est $X_{5,2}$.  \n",
    "\n",
    "Une notation avec un seul indice peut se déduire de la double notation suivant la relation ci-après:  **$$X_{i,j} = X_{4*(i-1) + j}~~~~~~~~(1)$$**  avec $i \\in \\mathbb{N}$*.  \n",
    "\n",
    "La notation à plusieurs indice peut devenir complexe et pas nécessairement utile pour l'analyse: par exemple $(X_{i,j,k}),~~$ avec i = année, j = trimestre, k = jours."
   ]
  },
  {
   "cell_type": "markdown",
   "metadata": {
    "slideshow": {
     "slide_type": "slide"
    }
   },
   "source": [
    "**<span style=\"color:MediumBlue;font-size:150%\"> I. Exemples de séries temporelles </span>**  \n",
    "\n",
    "Nous allons presenter des exemples de séries annuelle, trimestrielle, mensuelle etc.  \n",
    "\n",
    "**<span style=\"color:blue;font-size:120%\"> 1. Exemple de série temporelle annuelle</span>**  \n",
    "\n",
    "Notons par $(P_n)_{n \\in \\mathbb{N}^*}$ la série de la population du Sénégal de 2008 $(P_1)$ à 2020.  \n",
    "**NB:** Les données sont téléchargeable sur https://github.com/IbrahimaTall  dans le dossier _ENSAE-Training-Courses_ et sur la feuille excel _POPAN_.  \n",
    "**<p style=\"text-align:center\">Tableau 1: Population totale du Senegal </p>**\n",
    "\n",
    "|**Dates**     |2008|2009|2010|2011|2012|2013|2014|2015|2016|2017|2018|2019|2020|\n",
    "|:-------------|----|----|----|----|----|----|----|----|----|----|----|----|----|\n",
    "|**Population**|12,0|12,3|12,6|13,0|13,4|13,7|14,1|14,5|14,9|15,4|15,8|16,2|16,7|\n"
   ]
  },
  {
   "cell_type": "markdown",
   "metadata": {
    "slideshow": {
     "slide_type": "slide"
    }
   },
   "source": [
    "**<span style=\"color:blue;font-size:120%\"> 2. Exemple de série temporelle trimestrielle </span>**  \n",
    "\n",
    "Soit $(Y_t)_{t\\in \\mathbb{N}^*}$ le Produit Inétieur Brut (PIB) du Sénégal avec $t$ correspondant au trimestre et $Y_1$ le PIB en  premier trimestre de 2014. \n",
    "\n",
    "**<p style=\"text-align:center\">Tableau 2: PIB trimestriel du Sénégal </p>**\n",
    "\n",
    "|**Dates**|2014Q1|2014Q2|2014Q3|2014Q4|2015Q1|2015Q2|2015Q3|2015Q4|2016Q1|2016Q2|\n",
    "|:-------------|------|------|------|------|------|------|------|------|------|------|\n",
    "|**PIB**       |1346,7|1333,9|1315,6|1603,1|1421,2|1395,0|1386,4|1761,7|1512,5|1473,9|\n"
   ]
  },
  {
   "cell_type": "markdown",
   "metadata": {
    "slideshow": {
     "slide_type": "slide"
    }
   },
   "source": [
    "**<span style=\"color:blue;font-size:120%\"> 3. Exemple de série temporelle mensuelle </span>**   \n",
    "\n",
    "On s'intéresse à l'indice des prix à la consommation (IPC) de janvier 2009 à décembre 2015: $(X_t)_{t\\in \\mathbb{N}^*}$, avec $t$ représentant le mois.   \n",
    "**<p style=\"text-align:center\">Tableau 3: Indice des Prix à la Consommation (IPC) </p>**  \n",
    "\n",
    "|Dates|\tJanvier|Février|Mars|Avril|\tMai|Juin|Juillet|\tAoût|Septembre|\tOctobre|Novembre|Décembre|\n",
    "|:----|-------:|------:|---:|----:|---:|---:|------:|------:|--------:|-------:|-------:|-------:|\n",
    "|**2009**|\t98.5|\t98.4|\t98.4|\t97.8|\t96.8|\t96.1|\t96.6|\t97.8|\t98|\t99.1|\t98.3|\t97.1|\n",
    "|**2010**|\t97.8|\t97.8|\t97.7|\t96.8|\t96.4|\t97.4|\t98.9|\t100|\t100.9|\t101.4|\t101.1|\t101.3|\n",
    "|**2011**|\t101.8|\t101.4|\t100.8|\t100.9|\t101.2|\t101.6|\t102|\t102.7|\t103.6|\t104.1|\t103.8|\t104|\n",
    "|**2012**|\t103.3|\t103.6|\t103.6|\t103|\t101.8|\t101.8|\t102.3|\t103.8|\t104.9|\t106.1|\t105.9|\t105.2|\n",
    "|**2013**|\t104|\t103.9|\t103.4|\t103.3|\t103|\t102.5|\t103.4|\t105.1|\t106|\t107.5|\t106.8|\t105.1|\n",
    "|**2014**|\t104.8|\t103.4|\t102.9|\t102.2|\t101.3|\t101.3|\t102|\t103.8|\t104.6|\t105.4|\t104.4|\t104.3|\n",
    "|**2015**|\t102.3|\t102.1|\t101.6|\t101.6|\t101.9|\t102.1|\t103.3|\t103.9|\t105.4|\t107.4|\t106|\t104.7|"
   ]
  },
  {
   "cell_type": "markdown",
   "metadata": {
    "slideshow": {
     "slide_type": "slide"
    }
   },
   "source": [
    "**<span style=\"color:MediumBlue;font-size:150%\"> II. Représentation d'une série temporelle</span>**  \n",
    "\n",
    "La réprésentation d'une série temporelle se fait sous **<span style=\"color:LimeGreen\"> la forme matricielle</span>** ou par **<span style=\"color:LimeGreen\"> la représentation graphique</span>**.\n",
    "\n",
    "**<span style=\"color:blue;font-size:120%\"> 1. Forme matricielle d'une série temporelle </span>**  \n",
    "\n",
    "Soit la série de l'Indice Humain de Développement du Sénégal. La représentation matricielle de cette série est donnée par le tableau suivant:  \n",
    "\n",
    "**<p style=\"text-align:center\">Tableau 4: Indice de Développement Humain du Sénégal</p>**\n",
    "\n",
    "|Dates|\t2005|\t2006|\t2007|\t2008|\t2009|\t2010|\t2011|\t2012|\t2013|\t2014|\t2015|\t2016|\t2017|\n",
    "|-----|-----|-------|-------|-------|-------|-------|-------|-------|-------|-------|-------|-------|-------|\n",
    "|**IDH**|\t0.42|\t0.43|\t0.44|\t0.45|\t0.45|\t0.46|\t0.47|\t0.48|\t0.48|\t0.49|\t0.49|\t0.5|\t0.51|"
   ]
  },
  {
   "cell_type": "markdown",
   "metadata": {
    "slideshow": {
     "slide_type": "slide"
    }
   },
   "source": [
    "**NB**: Dans le cas d'une double indexation, il est d'usage de représenter la série sous forme de matrice en mettant l'une des indices en ligne et l'autre en colonne (*Cf Tableau 3*). Par exemple, le PIB trimestriel peut être représenté comme suit:  \n",
    "\n",
    "**<p style=\"text-align:center\">Tableau 5: PIB trimestriel du Senegal (sous forme de tableau)</p>**\n",
    "\n",
    "|Années\\Trimestres |Trimestre1|Trimestre2|Trimestre3|Trimestre4|  \n",
    "|:---------------|---------:|---------:|---------:|---------:|  \n",
    "|**2014**        | 1346,70  |1333,90   |1315,60   |1603,10   |\n",
    "|**2015**        | 1421,20  |1395,00   |1386,40   |1761,70   |\n",
    "|**2016**        | 1512,50  |1473,90   |          |          |"
   ]
  },
  {
   "cell_type": "markdown",
   "metadata": {
    "cell_style": "center",
    "slideshow": {
     "slide_type": "slide"
    }
   },
   "source": [
    "**<span style=\"color:blue\"> 2. Représentation graphique d'une série temporelle </span>**  \n",
    "\n",
    "La représentation graphique d'une série temporelle $(X_t)_{t\\in \\mathbb{N}}$ est la courbe représentative de la fonction **_f_** définie par:  $$ f: T \\longrightarrow \\mathbb{R} $$ \n",
    "$$t \\longrightarrow f(t) = X_t$$ $O\\grave{u}$ $T$ est l'ensemble temps. La figure suivante illutre l'évolution de la série de l'IPC sur la periode 2009-2019.  \n",
    "![](ipc2.png)"
   ]
  },
  {
   "cell_type": "markdown",
   "metadata": {
    "cell_style": "center",
    "slideshow": {
     "slide_type": "slide"
    }
   },
   "source": [
    "Dans le cas d'une notation à double indexe, il est possible de faire une représentation par période afin de voir les variations sur une même période. Par exemple, la figure ci-desous, permet de voir les variations du nombre de touristes arrivés à l'aéroport LSS sur la période de 2008 à 2012. Mais ce type de représentation ne permet pas de voir l'évolution complète de la série.  \n",
    "\n",
    "![](touristes.png)"
   ]
  },
  {
   "cell_type": "markdown",
   "metadata": {
    "slideshow": {
     "slide_type": "slide"
    }
   },
   "source": [
    "**<span style=\"color:MediumBlue;font-size:150%\"> III. Caractéristiques des séries temporelles </span>**  \n",
    "\n",
    "Une série est caractérisée par un ensemble d'indices descriptifs qui résument la série.  \n",
    "\n",
    "**<span style=\"color:blue;font-size:120%\"> 1. Moyenne empirique d'une série </span>**  \n",
    "\n",
    "La moyenne empirique d'une série temporelle est donnée par :  $$\\bar{X}_T =\\frac{1}{T}\\sum_{t=1}^{T} X_t ~~~~~~~~(2)$$  "
   ]
  },
  {
   "cell_type": "markdown",
   "metadata": {
    "slideshow": {
     "slide_type": "slide"
    }
   },
   "source": [
    "**<span style=\"color:blue;font-size:120%\"> 2. Auto-covariance empirique d'une série </span>**  \n",
    "\n",
    "L'auto-covariance empirique d'une série temporelle est donnée par: $$\\hat{\\gamma}_T(h) = \\frac{1}{T}\\sum_{t=1}^{T-h}(X_t - \\bar{X}_T)(X_{t+h}-\\bar{X}_T)~~~~~~~~~~(3)$$  \n",
    "Le cas **h = 0** correspondant à la variance empirique. \n",
    "\n",
    "**<span style=\"color:blue;font-size:120%\"> 3. Auto-corrélation empirique d'une série </span>**  \n",
    "\n",
    "L'auto corrélation empirique d'une série est définie par: $$\\hat{\\rho}_T(h) = \\frac{\\hat{\\gamma}_T(h)}{\\hat{\\gamma}_T(0)} ~~~~~~~~~~~~~~(4)$$"
   ]
  },
  {
   "cell_type": "markdown",
   "metadata": {
    "slideshow": {
     "slide_type": "slide"
    }
   },
   "source": [
    "**<span style=\"color:MediumBlue;font-size:150%\"> IV. Composantes (tendance, saisonnalité, résidus) </span>**  \n",
    "\n",
    "La composition d'une série temporelle peut être étudiée en suivant son évolution. Pour certaines séries temporelles, il est constaté une stabilité autour de la moyenne, on dit alors que la série est **<span style=\"color:GoldenRod\"> stationnaire</span>** (autour de sa moyenne). Par ailleurs, d'autres séries présentent une moyenne non constante qui suit une **<span style=\"color:GoldenRod\">tendance </span>**. La **<span style=\"color:GoldenRod\">saisonnalité</span>** est la reproduction d'un phénomène à des périodes réguilières."
   ]
  },
  {
   "cell_type": "markdown",
   "metadata": {
    "slideshow": {
     "slide_type": "slide"
    }
   },
   "source": [
    "**<span style=\"color:blue;font-size:120%\"> 1. Tendance d'une série temporelle </span>**  \n",
    "\n",
    "Formellement, la tendance est la partie de la série qui, à une erreur $\\epsilon$ près, s'écrit comme une combinaison linéaire finie de fonctions prédéfinies (logarithme, polynômes, exponentiel, etc.): $$Z_t = \\sum_{i=1}^{K}\\alpha_i f_i(t) + \\epsilon_t ~~~~~~~~~~~~~~(5)$$ Lorsque $Z_t = \\alpha + \\beta t + \\epsilon_t$, on dit que la tendance est **linéaire**. Une tendance **logarithmique** est donnée par: $Z_t = \\alpha + log(t) + \\epsilon_t$. Une tendance **polynomiale** est de la forme: $Z_t = \\alpha_0 + \\alpha_1 t + \\alpha_2 t^2 + ... + \\alpha_p t^p + \\epsilon_t$."
   ]
  },
  {
   "cell_type": "markdown",
   "metadata": {
    "slideshow": {
     "slide_type": "slide"
    }
   },
   "source": [
    "**<span style=\"color:blue;font-size:120%\"> 2. Saisonnalité d'une série temporelle </span>**  \n",
    "\n",
    "La composante saisonnière (ou composante périodique) est la partie de la série définie par: $$ S_t = \\phi (t) + \\epsilon_t ~~~~~~~~~~~~~~(6)$$ avec $\\phi (t+T) = \\phi (t)$.  \n",
    "$T$ est alors la période de la série temporelle.  \n",
    "\n",
    "**<span style=\"color:blue;font-size:120%\"> 3. Composante aléatoire d'une série temporelle </span>**  \n",
    "\n",
    "La composante aléatoire (ou bruit) est la partie de la série qui reste après extraction de la tendance et de la saisonnalité. C'est une variable aléatoire dont l'analyse fait appel à des modèles de type **SARIMA** et qui ne sera pas étudiée dans ce cours."
   ]
  },
  {
   "cell_type": "markdown",
   "metadata": {
    "slideshow": {
     "slide_type": "slide"
    }
   },
   "source": [
    "**<span style=\"color:MediumBlue;font-size:150%\"> V. Schémas d'une série temporelle</span>**  \n",
    "\n",
    "L'étude d'une série temporelle nécessite la détermination du schémas qui décrit le comportement de ladite série. Il s'agit de modéliser la série à l'aide d'une function simple et avec une faible erreur de modélisation.  \n",
    "\n",
    "**<span style=\"color:blue;font-size:120%\"> 1. Modèle additif et multiplicatif</span>**  \n",
    "\n",
    "En partique, il se distingue deux schémas: les modèles **additif** et **multiplicatif**.  \n",
    "Le modèle **additif** se présente sous la forme suivante: $$ X_t = Z_t + S_t + \\epsilon_t  ~~~~~~~~~~~~~~(7)$$"
   ]
  },
  {
   "cell_type": "markdown",
   "metadata": {
    "slideshow": {
     "slide_type": "slide"
    }
   },
   "source": [
    "Le modèle **multiplicatif** se présente sous la forme suivante: $$ X_t = Z_t S_t \\epsilon_t  ~~~~~~~~~~~~~~(8)$$ **NB**: Remarquez qu'il est possible de ramener un modèle multiplicatif en un schémas additif par transformation logarithmique: $$ log(X_t) = log(Z_t) + log(S_t) + log(\\epsilon_t) ~~~~~~~~~~~~~~(9)$$ Et en posant: $$Y_t = log(X_t),~~ W_t = log(Z_t),~~ P_t = log(S_t) ~~et~~ \\psi_t = log(\\epsilon_t)$$ alors la série obtenue devient: $$ Y_t = W_t + P_t + \\psi_t  ~~~~~~~~~~~~~~(10)$$"
   ]
  },
  {
   "cell_type": "markdown",
   "metadata": {
    "slideshow": {
     "slide_type": "slide"
    }
   },
   "source": [
    " **Remarque**: Une série temporelle peut présenter une combinaison des deux modèles additif et multiplicatif: on parle de **<span style=\"color:GoldenRod\">modèle mixte</span>**. Le modele mixte peut se presenter sous les formes suivantes: $$ X_t = Z_t S_t + \\epsilon_t  ~~~~~~~~~~~~~~(11)$$  $$ X_t = (Z_t + S_t) \\epsilon_t  ~~~~~~~~~~~~~~(12)$$"
   ]
  },
  {
   "cell_type": "markdown",
   "metadata": {
    "slideshow": {
     "slide_type": "slide"
    }
   },
   "source": [
    "**<span style=\"color:blue;font-size:120%\"> 2. Choix du type de modèle</span>**  \n",
    "\n",
    "Dans la recherche du schémas d'une série temporelle, il est question de savoir si la composante saisonnière:  \n",
    "- s'ajoute simplement à la tendance (schémas additif);  \n",
    "- est proportionnelle à la tendance (schémas multiplication).  \n",
    "\n",
    "Il existe deux approches pour déterminer le schémas: **<span style=\"color:GoldenRod\">graphique</span>** et **<span style=\"color:GoldenRod\">analytique</span>**. Nous allons illustrer ces deux téchniques à travers des exemples sur le logiciel **<span style=\"color:blue\">R</span>** téléchargeable sur <https://cran.r-project.org/>. Ce logiciel est en général utilisé via l'environnement de développement Intégré [Rstudio](https://rstudio.com/products/rstudio/download/)."
   ]
  },
  {
   "cell_type": "markdown",
   "metadata": {
    "slideshow": {
     "slide_type": "slide"
    }
   },
   "source": [
    " Pour comprendre la différence entre R et Rstudio, considérons les deux images suivante:  \n",
    "![](IDE2.png)  \n",
    "Le moteur est une composante indispensable de la voiture et le tableau de board en facilite l'utilisation. \n",
    "**<span style=\"color:blue\">Rstudio</span>** est pour **<span style=\"color:blue\">R</span>** ce le **<span style=\"color:blue\">tableau de bord</span>** est pour le **<span style=\"color:blue\">moteur</span>** de la voiture."
   ]
  },
  {
   "cell_type": "markdown",
   "metadata": {
    "slideshow": {
     "slide_type": "slide"
    }
   },
   "source": [
    "L'utilisation de **R** appelle à installer des **<span style=\"color:OrangeRed\">packages</span>** et à inclure des **<span style=\"color:OrangeRed\"> librairies</span>**. Un package est comparable à une application sur un *Smartphone*. Les packages (resp applications) sont, pour la plupart, disponibles sur <https://cran.r-project.org> (resp *PlaySore*). L'installation des packages dans se fait via la fonction **<span style = \"color:LightSkyBlue\"> install.packages() </span>** et leurs utilisation se fait avec la fonction **<span style=\"color:LightSkyBlue\">library()</span>**.  \n",
    "\n",
    "- installation: **<span style = \"color:LightSkyBlue\"> install.packages(tseries, readxl, stats, tidyverse) </span>**  \n",
    "- utilisation des packages:  \n",
    "  - **<span tyle=\"color:LightSkyBlue\">library(tseries);<pan>** \n",
    "  - **<span style=\"color:LightSkyBlue\">library(readxl);<pan>** \n",
    "  - **<span style=\"color:LightSkyBlue\">library(stats);<pan>** \n",
    "  - **<span style=\"color:LightSkyBlue\">library(tidyverse).<pan>**"
   ]
  },
  {
   "cell_type": "markdown",
   "metadata": {
    "slideshow": {
     "slide_type": "slide"
    }
   },
   "source": [
    "Une série temporelle dans **R** est définie à l'aide de la fonction **<span style=\"color:SpringGreen\">ts(vect, start, end, frequency)</span>**, en indiquant les quatre principaux arguments.  \n",
    "\n",
    "|Nom de l'argument|Explication de l'utilité de l'argument|Exemples de valeurs |\n",
    "|:----------------|:-------------------------------------|-------------------:|\n",
    "|**vect**         | *les vecteurs de données*            | *x <- 1:100:3*|\n",
    "|**start**        | *la date de début*                   | *start = c(1960,1)*|\n",
    "|**end**          | *la date de fin*                     | *end = c(2020,3)*  |\n",
    "|**frequency**    | *la fréquence de la série*           | *frequency = 1*    |"
   ]
  },
  {
   "cell_type": "markdown",
   "metadata": {
    "slideshow": {
     "slide_type": "slide"
    }
   },
   "source": [
    "**<span style=\"color:DodgerBlue;font-size:100%\"> a) Méthode graphique de détermination du schémas </span>**  \n",
    "\n",
    "La représentation graphique de la série temporelle peut nous orienter sur le choix du schémas. Deux téchniques sont utilisées: la méthode du **profil** et celle de la **bande**.  \n",
    "\n",
    "**Description de la méthode du profil**:  \n",
    "\n",
    "<span style=\"color:black\">La méthode du profil est applicable pour les séries infra-annuelles. Elle consiste à représenter la série en différentes courbes pour chaque année en superposant les saisons sur une même graphique. Le modèle additif sera adopté si les courbes sont parallèles entre les périodes. Dans le cas contraire, le modèle est multiplicatif.</span>"
   ]
  },
  {
   "cell_type": "markdown",
   "metadata": {
    "slideshow": {
     "slide_type": "slide"
    }
   },
   "source": [
    "**Exemple**  \n",
    "Considérons la série de l'IPC présentée plus haut. La représetation graphique de la série de l'IPC par année et sur les douze mois est illustrée sur la figure 3.![](ipcmois.png) Il apparait que des courbes se croisent entre certaines dates: le modèle est donc multiplicatif."
   ]
  },
  {
   "cell_type": "markdown",
   "metadata": {
    "slideshow": {
     "slide_type": "slide"
    }
   },
   "source": [
    "**Description de la méthode de la bande**:  \n",
    "<span style=\"color:black\">Le modèle est additif lorsque les droites des minima et des maxima sont parallèles.</span>  \n",
    "**Exemple**: Considérons la série de l'IPC présentée sur la figure 1. ![](bande.png) Les droites de la bande ne sont pas parallèles: le modèle est multiplicatif."
   ]
  },
  {
   "cell_type": "markdown",
   "metadata": {
    "slideshow": {
     "slide_type": "slide"
    }
   },
   "source": [
    "**<span style=\"color:DodgerBlue;font-size:100%\"> b). Méthode analytique de détermination du schémas </span>**  \n",
    "\n",
    "<span style=\"color:black\">Les moyennes et les écarts-types sont calculés pour chacune des périodes considérées puis la droite des moindres carrés déterminée: $$\\sigma = a\\bar{x} + b ~~~~~~~~~~~~~~(11)$$ Si $a$ est nul, le modèle est additif, sinon il est multiplicatif.  \n",
    "\n",
    "**Exemples pratique dans R**"
   ]
  },
  {
   "cell_type": "code",
   "execution_count": 2,
   "metadata": {},
   "outputs": [
    {
     "data": {
      "text/plain": [
       "\n",
       "Call:\n",
       "lm(formula = ecat_types ~ moyennes, data = base)\n",
       "\n",
       "Residuals:\n",
       "     Min       1Q   Median       3Q      Max \n",
       "-1.00234 -0.14268  0.07287  0.29123  0.53819 \n",
       "\n",
       "Coefficients:\n",
       "            Estimate Std. Error t value Pr(>|t|)\n",
       "(Intercept)  3.64675    5.77854   0.631    0.544\n",
       "moyennes    -0.02159    0.05587  -0.386    0.708\n",
       "\n",
       "Residual standard error: 0.5001 on 9 degrees of freedom\n",
       "Multiple R-squared:  0.01631,\tAdjusted R-squared:  -0.09298 \n",
       "F-statistic: 0.1493 on 1 and 9 DF,  p-value: 0.7082\n"
      ]
     },
     "metadata": {},
     "output_type": "display_data"
    }
   ],
   "source": [
    "# Définir le fuseau horaire, nécessaire pour le bon chargement des packages\n",
    "Sys.setenv(TZ = \"UTC\")\n",
    "# Appel de librarie readxl pour importer des bases au format Excel\n",
    "library(readxl)\n",
    "# Lecteur de la base au moyen de la fonction read_xlsx().\n",
    "base <- read_xlsx(\"TimeSeries.xlsx\", sheet = \"IPCAN\")\n",
    "# On utilise les fonctions head() ou tail() pour afficher les premières ou dernières observations de la base\n",
    "head(base, 5)\n",
    "tail(base, 4)\n",
    "# Calcul de a de la formule (11): C'est le coéfficient de corrélation en \n",
    "model <- lm(ecat_types~moyennes, data = base)\n",
    "# Description des résultats du modèle\n",
    "summary(model)\n"
   ]
  },
  {
   "cell_type": "markdown",
   "metadata": {},
   "source": [
    "La valeur du coéfficient est $ a = -0.02159$. La valeur de la $p-value$ nous indique de la nullité ou non de $a$. Ainsi une marge d'erreur inférieur ou égal à 5% (0,05) est le seuil usuel. Cela signifie que dans mois de 5 cas sur 100 (donc dans plus de 95 cas sur 100) le coéfficiant est nul (resp non nul). Le résultat ci-haut affiche une p-valeur de 0,7 soit 70 cas sur 100 d'avoir un coéfficient nul (ce qui est énorme car il devrait y avoir seulement mois de 5 cas sur 100 d'avoir un coéfficient nul pour que celui-ci soit statistiquement non nul): donc ce coéfficient est statistiquement nul (non significatif).   \n",
    "\n",
    "**<span style=\"color:green\">Le modèle sera multiplicatif si le coéfficient $a$ est significatif (c'est-à-dire si $p-value < 0.05$)</span>**."
   ]
  },
  {
   "cell_type": "markdown",
   "metadata": {
    "slideshow": {
     "slide_type": "slide"
    }
   },
   "source": [
    "**<span style=\"color:MediumBlue;font-size:150%\"> VI. Etapes d'étude d'une série temporelle </span>**  \n",
    "\n",
    "L'étude d'une série temporelle implique une démarche cohérente, dont les étapes sont:  \n",
    "- Correction des données (valeurs manquantes, découpage, centrage/réduction etc.);  \n",
    "- choix du schémas de la série;  \n",
    "- Analyse des composantes de la série (partie déterministe);\n",
    "- Prévision."
   ]
  },
  {
   "cell_type": "markdown",
   "metadata": {
    "slideshow": {
     "slide_type": "slide"
    }
   },
   "source": [
    "**<span style=\"color:MediumBlue;font-size:150%\"> VII. Exercice d'application: détermination du schémas d'une série temporelle avec R </span>**  \n",
    "\n",
    "Dans cette partie, il sera utilisé deux bases de données disponibles dans **R**. La première, **<span style=\"color:GoldenRod\">USAccDeaths</span>**, est une série mensuelle portant sur le nombre de morts par accident au Etats-Unis d'Amérique de 1973 à 1978. La deuxième dase, **<span style=\"color:GoldenRod\"> AirPassengers </span>**, est aussi une série mensuelle et elle indique le nombre de passagers dans les vols internationaux entre 1949 et 1960. Pour chacune de ces bases:  \n",
    "1. Affichez les cinq premières observations  \n",
    "2. Identifiez le modèle de la série en utilisant le profil, la bande et l'analytique.\n",
    "3. Déterminez le modèle final retenu pour chaque série."
   ]
  },
  {
   "cell_type": "markdown",
   "metadata": {
    "slideshow": {
     "slide_type": "skip"
    }
   },
   "source": [
    "**<span style=\"color:MediumBlue;font-size:150%\"> Solution de l'exercice d'application </span>**  "
   ]
  },
  {
   "cell_type": "code",
   "execution_count": 3,
   "metadata": {
    "slideshow": {
     "slide_type": "skip"
    }
   },
   "outputs": [
    {
     "name": "stderr",
     "output_type": "stream",
     "text": [
      "\n",
      "Attaching package: 'dplyr'\n",
      "\n",
      "The following objects are masked from 'package:stats':\n",
      "\n",
      "    filter, lag\n",
      "\n",
      "The following objects are masked from 'package:base':\n",
      "\n",
      "    intersect, setdiff, setequal, union\n",
      "\n"
     ]
    }
   ],
   "source": [
    "################# 0. CHARGEMENT DES PACKAGES #####################################################################\n",
    "# Chargement des packages: manipulation de données (dplyr) et (tidyr) et bases de données (datasets)\n",
    "library(dplyr)\n",
    "library(tidyr)\n",
    "library(datasets)\n"
   ]
  },
  {
   "cell_type": "markdown",
   "metadata": {
    "slideshow": {
     "slide_type": "skip"
    }
   },
   "source": [
    "**<span style=\"color:MediumBlue;font-size:120%\">1. Affichez les cinq premières observations  </span>**  "
   ]
  },
  {
   "cell_type": "code",
   "execution_count": 4,
   "metadata": {
    "slideshow": {
     "slide_type": "skip"
    }
   },
   "outputs": [
    {
     "data": {
      "text/html": [
       "<ol class=list-inline>\n",
       "\t<li>112</li>\n",
       "\t<li>118</li>\n",
       "\t<li>132</li>\n",
       "</ol>\n"
      ],
      "text/latex": [
       "\\begin{enumerate*}\n",
       "\\item 112\n",
       "\\item 118\n",
       "\\item 132\n",
       "\\end{enumerate*}\n"
      ],
      "text/markdown": [
       "1. 112\n",
       "2. 118\n",
       "3. 132\n",
       "\n",
       "\n"
      ],
      "text/plain": [
       "[1] 112 118 132"
      ]
     },
     "metadata": {},
     "output_type": "display_data"
    }
   ],
   "source": [
    "################# 1. AFFICHEZ LES CINQ PREMIERES OBSERVATIONS #######################################################\n",
    "# Affichage des premierès valeurs\n",
    "head(AirPassengers, 3)\n"
   ]
  },
  {
   "cell_type": "markdown",
   "metadata": {
    "slideshow": {
     "slide_type": "skip"
    }
   },
   "source": [
    "**<span style=\"color:MediumBlue;font-size:120%\">2. Identifiez le modèle de la série en utilisant le profil, la bande et l'analytique </span>**  "
   ]
  },
  {
   "cell_type": "code",
   "execution_count": 5,
   "metadata": {
    "slideshow": {
     "slide_type": "skip"
    }
   },
   "outputs": [
    {
     "data": {
      "text/html": [
       "<ol class=list-inline>\n",
       "\t<li>1949</li>\n",
       "\t<li>1949.08333333333</li>\n",
       "\t<li>1949.16666666667</li>\n",
       "\t<li>1949.25</li>\n",
       "\t<li>1949.33333333333</li>\n",
       "\t<li>1949.41666666667</li>\n",
       "</ol>\n"
      ],
      "text/latex": [
       "\\begin{enumerate*}\n",
       "\\item 1949\n",
       "\\item 1949.08333333333\n",
       "\\item 1949.16666666667\n",
       "\\item 1949.25\n",
       "\\item 1949.33333333333\n",
       "\\item 1949.41666666667\n",
       "\\end{enumerate*}\n"
      ],
      "text/markdown": [
       "1. 1949\n",
       "2. 1949.08333333333\n",
       "3. 1949.16666666667\n",
       "4. 1949.25\n",
       "5. 1949.33333333333\n",
       "6. 1949.41666666667\n",
       "\n",
       "\n"
      ],
      "text/plain": [
       "[1] 1949.000 1949.083 1949.167 1949.250 1949.333 1949.417"
      ]
     },
     "metadata": {},
     "output_type": "display_data"
    }
   ],
   "source": [
    "################# 2. IDENTIFIEZ LE MODEL DE LA SERIE EN UTILISANT LE PROFIL, LA BANDE ET L'ANALYTIQUE ###############\n",
    "# Recupération de la série des données comme vecteur via la fonction as.vector()\n",
    "passagers <- as.vector(AirPassengers)\n",
    "# Recuperation du temps comme vecteur via la fonction time()\n",
    "temp <- as.vector(time(AirPassengers))\n",
    "head(temp)\n"
   ]
  },
  {
   "cell_type": "markdown",
   "metadata": {
    "slideshow": {
     "slide_type": "skip"
    }
   },
   "source": [
    "Le temps apparait comme un vecteur de décimaux (le point indique le décimal en anglais). La partie décimale marque le pas de temps: $\\frac{1}{12}$ pour le mois, $\\frac{1}{4}$ pour le trimestre etc. Par exemple, janvier 1949 est representé par le décimal 1949 = 1949.000, février 1949 par 1949.083 où la partie décimale est le pas mensuel: $\\frac{1}{12} = 0.083$. Le mois de mars 1949 est représenté par 1949.167 où la partie décimale reprsente deux fois le pas mensuel: $\\frac{2}{12} = 0.167$. Ainsi, pour le mois $i$ la partie décimale est données par $\\frac{i-1}{12}$ pour $i \\in \\{0, 1, 2, 3, 4, 5, 6, 7, 8, 9, 10, 11\\}$. Et pour le trimestre ce sera: $\\frac{i-1}{4}$ pour $i \\in \\{0, 1, 2, 3\\}$ etc."
   ]
  },
  {
   "cell_type": "code",
   "execution_count": 6,
   "metadata": {
    "cell_style": "center",
    "slideshow": {
     "slide_type": "skip"
    }
   },
   "outputs": [
    {
     "data": {
      "text/html": [
       "<table>\n",
       "<thead><tr><th scope=col>years</th><th scope=col>passagers</th></tr></thead>\n",
       "<tbody>\n",
       "\t<tr><td>1949</td><td>112 </td></tr>\n",
       "\t<tr><td>1949</td><td>118 </td></tr>\n",
       "\t<tr><td>1949</td><td>132 </td></tr>\n",
       "</tbody>\n",
       "</table>\n"
      ],
      "text/latex": [
       "\\begin{tabular}{r|ll}\n",
       " years & passagers\\\\\n",
       "\\hline\n",
       "\t 1949 & 112 \\\\\n",
       "\t 1949 & 118 \\\\\n",
       "\t 1949 & 132 \\\\\n",
       "\\end{tabular}\n"
      ],
      "text/markdown": [
       "\n",
       "| years | passagers |\n",
       "|---|---|\n",
       "| 1949 | 112  |\n",
       "| 1949 | 118  |\n",
       "| 1949 | 132  |\n",
       "\n"
      ],
      "text/plain": [
       "  years passagers\n",
       "1 1949  112      \n",
       "2 1949  118      \n",
       "3 1949  132      "
      ]
     },
     "metadata": {},
     "output_type": "display_data"
    }
   ],
   "source": [
    "# Creation de la variable années comme partie entière (fonction trunc()) du vecteur temp définie précédemment\n",
    "years = trunc(temp)\n",
    "# Combinaison (via la fonction cbind()) du vecteur \n",
    "# des donnees, du mois et de l'annees en data.frame\n",
    "BaseAirPassengers <- as.data.frame(cbind(years, \n",
    "                                         passagers))\n",
    "# Affichage des premiers observations\n",
    "head(BaseAirPassengers, 3)\n"
   ]
  },
  {
   "cell_type": "code",
   "execution_count": 32,
   "metadata": {
    "cell_style": "center"
   },
   "outputs": [
    {
     "data": {
      "text/html": [
       "<table>\n",
       "<thead><tr><th scope=col>years</th><th scope=col>passagers</th><th scope=col>mouth</th></tr></thead>\n",
       "<tbody>\n",
       "\t<tr><td>1949</td><td>112 </td><td>1   </td></tr>\n",
       "\t<tr><td>1949</td><td>118 </td><td>2   </td></tr>\n",
       "\t<tr><td>1949</td><td>132 </td><td>3   </td></tr>\n",
       "</tbody>\n",
       "</table>\n"
      ],
      "text/latex": [
       "\\begin{tabular}{r|lll}\n",
       " years & passagers & mouth\\\\\n",
       "\\hline\n",
       "\t 1949 & 112  & 1   \\\\\n",
       "\t 1949 & 118  & 2   \\\\\n",
       "\t 1949 & 132  & 3   \\\\\n",
       "\\end{tabular}\n"
      ],
      "text/markdown": [
       "\n",
       "| years | passagers | mouth |\n",
       "|---|---|---|\n",
       "| 1949 | 112  | 1    |\n",
       "| 1949 | 118  | 2    |\n",
       "| 1949 | 132  | 3    |\n",
       "\n"
      ],
      "text/plain": [
       "  years passagers mouth\n",
       "1 1949  112       1    \n",
       "2 1949  118       2    \n",
       "3 1949  132       3    "
      ]
     },
     "metadata": {},
     "output_type": "display_data"
    }
   ],
   "source": [
    "# Creation de la variable mois: désignée ici par: mouth correspondant au numero de ligne par \n",
    "# groupe d'annee\n",
    "BaseAirPassengers <- BaseAirPassengers %>% \n",
    "    group_by(years) %>% \n",
    "        mutate(mouth = row_number()) \n",
    "\n",
    "# Regard sur la nouvelle base apres creation de \n",
    "# l'indice des mois\n",
    "head(BaseAirPassengers, 3)\n"
   ]
  },
  {
   "cell_type": "code",
   "execution_count": 9,
   "metadata": {
    "slideshow": {
     "slide_type": "skip"
    }
   },
   "outputs": [
    {
     "data": {
      "text/html": [
       "<table>\n",
       "<thead><tr><th scope=col>mouth</th><th scope=col>1949</th><th scope=col>1950</th><th scope=col>1951</th><th scope=col>1952</th><th scope=col>1953</th><th scope=col>1954</th><th scope=col>1955</th><th scope=col>1956</th><th scope=col>1957</th><th scope=col>1958</th><th scope=col>1959</th><th scope=col>1960</th></tr></thead>\n",
       "<tbody>\n",
       "\t<tr><td>1  </td><td>112</td><td>115</td><td>145</td><td>171</td><td>196</td><td>204</td><td>242</td><td>284</td><td>315</td><td>340</td><td>360</td><td>417</td></tr>\n",
       "\t<tr><td>2  </td><td>118</td><td>126</td><td>150</td><td>180</td><td>196</td><td>188</td><td>233</td><td>277</td><td>301</td><td>318</td><td>342</td><td>391</td></tr>\n",
       "\t<tr><td>3  </td><td>132</td><td>141</td><td>178</td><td>193</td><td>236</td><td>235</td><td>267</td><td>317</td><td>356</td><td>362</td><td>406</td><td>419</td></tr>\n",
       "</tbody>\n",
       "</table>\n"
      ],
      "text/latex": [
       "\\begin{tabular}{r|lllllllllllll}\n",
       " mouth & 1949 & 1950 & 1951 & 1952 & 1953 & 1954 & 1955 & 1956 & 1957 & 1958 & 1959 & 1960\\\\\n",
       "\\hline\n",
       "\t 1   & 112 & 115 & 145 & 171 & 196 & 204 & 242 & 284 & 315 & 340 & 360 & 417\\\\\n",
       "\t 2   & 118 & 126 & 150 & 180 & 196 & 188 & 233 & 277 & 301 & 318 & 342 & 391\\\\\n",
       "\t 3   & 132 & 141 & 178 & 193 & 236 & 235 & 267 & 317 & 356 & 362 & 406 & 419\\\\\n",
       "\\end{tabular}\n"
      ],
      "text/markdown": [
       "\n",
       "| mouth | 1949 | 1950 | 1951 | 1952 | 1953 | 1954 | 1955 | 1956 | 1957 | 1958 | 1959 | 1960 |\n",
       "|---|---|---|---|---|---|---|---|---|---|---|---|---|\n",
       "| 1   | 112 | 115 | 145 | 171 | 196 | 204 | 242 | 284 | 315 | 340 | 360 | 417 |\n",
       "| 2   | 118 | 126 | 150 | 180 | 196 | 188 | 233 | 277 | 301 | 318 | 342 | 391 |\n",
       "| 3   | 132 | 141 | 178 | 193 | 236 | 235 | 267 | 317 | 356 | 362 | 406 | 419 |\n",
       "\n"
      ],
      "text/plain": [
       "  mouth 1949 1950 1951 1952 1953 1954 1955 1956 1957 1958 1959 1960\n",
       "1 1     112  115  145  171  196  204  242  284  315  340  360  417 \n",
       "2 2     118  126  150  180  196  188  233  277  301  318  342  391 \n",
       "3 3     132  141  178  193  236  235  267  317  356  362  406  419 "
      ]
     },
     "metadata": {},
     "output_type": "display_data"
    }
   ],
   "source": [
    "# Ecriture de la base sous forme de matrice: anneé en colonne mois en ligne\n",
    "matrice <- BaseAirPassengers %>% \n",
    "    spread(years, passagers)\n",
    "\n",
    "# Regard sur les donnees sous forme matricielle\n",
    "head(matrice, 3)\n"
   ]
  },
  {
   "cell_type": "code",
   "execution_count": 10,
   "metadata": {},
   "outputs": [
    {
     "data": {
      "text/html": [
       "<table>\n",
       "<thead><tr><th scope=col>mouth</th><th scope=col>p49</th><th scope=col>p50</th><th scope=col>p51</th><th scope=col>p52</th><th scope=col>p53</th><th scope=col>p54</th><th scope=col>p55</th><th scope=col>p56</th><th scope=col>p57</th><th scope=col>p58</th><th scope=col>p59</th><th scope=col>p60</th></tr></thead>\n",
       "<tbody>\n",
       "\t<tr><td>1  </td><td>112</td><td>115</td><td>145</td><td>171</td><td>196</td><td>204</td><td>242</td><td>284</td><td>315</td><td>340</td><td>360</td><td>417</td></tr>\n",
       "\t<tr><td>2  </td><td>118</td><td>126</td><td>150</td><td>180</td><td>196</td><td>188</td><td>233</td><td>277</td><td>301</td><td>318</td><td>342</td><td>391</td></tr>\n",
       "\t<tr><td>3  </td><td>132</td><td>141</td><td>178</td><td>193</td><td>236</td><td>235</td><td>267</td><td>317</td><td>356</td><td>362</td><td>406</td><td>419</td></tr>\n",
       "</tbody>\n",
       "</table>\n"
      ],
      "text/latex": [
       "\\begin{tabular}{r|lllllllllllll}\n",
       " mouth & p49 & p50 & p51 & p52 & p53 & p54 & p55 & p56 & p57 & p58 & p59 & p60\\\\\n",
       "\\hline\n",
       "\t 1   & 112 & 115 & 145 & 171 & 196 & 204 & 242 & 284 & 315 & 340 & 360 & 417\\\\\n",
       "\t 2   & 118 & 126 & 150 & 180 & 196 & 188 & 233 & 277 & 301 & 318 & 342 & 391\\\\\n",
       "\t 3   & 132 & 141 & 178 & 193 & 236 & 235 & 267 & 317 & 356 & 362 & 406 & 419\\\\\n",
       "\\end{tabular}\n"
      ],
      "text/markdown": [
       "\n",
       "| mouth | p49 | p50 | p51 | p52 | p53 | p54 | p55 | p56 | p57 | p58 | p59 | p60 |\n",
       "|---|---|---|---|---|---|---|---|---|---|---|---|---|\n",
       "| 1   | 112 | 115 | 145 | 171 | 196 | 204 | 242 | 284 | 315 | 340 | 360 | 417 |\n",
       "| 2   | 118 | 126 | 150 | 180 | 196 | 188 | 233 | 277 | 301 | 318 | 342 | 391 |\n",
       "| 3   | 132 | 141 | 178 | 193 | 236 | 235 | 267 | 317 | 356 | 362 | 406 | 419 |\n",
       "\n"
      ],
      "text/plain": [
       "  mouth p49 p50 p51 p52 p53 p54 p55 p56 p57 p58 p59 p60\n",
       "1 1     112 115 145 171 196 204 242 284 315 340 360 417\n",
       "2 2     118 126 150 180 196 188 233 277 301 318 342 391\n",
       "3 3     132 141 178 193 236 235 267 317 356 362 406 419"
      ]
     },
     "metadata": {},
     "output_type": "display_data"
    }
   ],
   "source": [
    "# Changement de nom des variables en mettant p (passagers) devant les annees\n",
    "names(matrice) <- c(\"mouth\", \"p49\", \"p50\", \"p51\", \"p52\", \"p53\", \"p54\", \"p55\", \"p56\", \"p57\", \"p58\", \"p59\", \"p60\")\n",
    "\n",
    "# Regard sur les donnees sous forme matricielle avec les changements de noms\n",
    "head(matrice, 3)\n"
   ]
  },
  {
   "cell_type": "code",
   "execution_count": 11,
   "metadata": {},
   "outputs": [
    {
     "data": {
      "text/plain": [
       "   Min. 1st Qu.  Median    Mean 3rd Qu.    Max. \n",
       "  104.0   180.0   265.5   280.3   360.5   622.0 "
      ]
     },
     "metadata": {},
     "output_type": "display_data"
    }
   ],
   "source": [
    "summary(BaseAirPassengers$passagers)\n",
    "# Donc pour le graphique les valeurs de y seront limitees entre 104 et 622 (min = 104, max = 622)\n"
   ]
  },
  {
   "cell_type": "code",
   "execution_count": null,
   "metadata": {},
   "outputs": [],
   "source": [
    "################################# Méthode du profil\n",
    "# Afficher la série de chaque année sur les 12 mois (0 à 11)\n",
    "plot(matrice$mouth, matrice$p49, type = \"l\", xlab = \"Mois\", ylab = \"Passagers\", ylim = c(104, 622), col = \"red\")+\n",
    "lines(matrice$mouth, matrice$p50, type = \"l\", col = \"yellow\")+\n",
    "lines(matrice$mouth, matrice$p51, type = \"l\", col = \"yellowgreen\")+\n",
    "lines(matrice$mouth, matrice$p52, type = \"l\", col = \"blue\")+\n",
    "lines(matrice$mouth, matrice$p53, type = \"l\", col = \"black\")+\n",
    "lines(matrice$mouth, matrice$p54, type = \"l\", col = \"burlywood4\")+\n",
    "lines(matrice$mouth, matrice$p55, type = \"l\", col = \"darkmagenta\")+\n",
    "lines(matrice$mouth, matrice$p56, type = \"l\", col = \"darkslateblue\")+\n",
    "lines(matrice$mouth, matrice$p57, type = \"l\", col = \"lightpink\")+\n",
    "lines(matrice$mouth, matrice$p58, type = \"l\", col = \"yellow3\")+\n",
    "lines(matrice$mouth, matrice$p59, type = \"l\", col = \"tan1\")+\n",
    "lines(matrice$mouth, matrice$p60, type = \"l\", col = \"springgreen\")\n",
    "legend(\"topleft\", c(\"1949\",\"1950\",\"1951\",\"1952\",\"1953\",\"1954\",\"1955\",\"1956\",\"1957\",\"1958\",\"1959\",\"1960\"), cex = 0.8,\n",
    "       text.width = 1.5, col = c(\"red\", \"yellow\", \"yellowgreen\", \"blue\", \"black\", \"burlywood4\", \"darkmagenta\", \n",
    "                          \"darkslateblue\", \"lightpink\", \"yellow3\", \"tan1\", \"springgreen\"), ncol = 2, lty = c(1,1))\n"
   ]
  },
  {
   "cell_type": "code",
   "execution_count": 31,
   "metadata": {},
   "outputs": [
    {
     "data": {
      "text/html": [],
      "text/latex": [],
      "text/markdown": [],
      "text/plain": [
       "integer(0)"
      ]
     },
     "metadata": {},
     "output_type": "display_data"
    },
    {
     "data": {
      "image/png": "[encoded data removed]",
      "text/plain": [
       "plot without title"
      ]
     },
     "metadata": {},
     "output_type": "display_data"
    }
   ],
   "source": []
  },
  {
   "cell_type": "code",
   "execution_count": 16,
   "metadata": {
    "slideshow": {
     "slide_type": "skip"
    }
   },
   "outputs": [
    {
     "data": {
      "image/png": "[encoded data removed]",
      "text/plain": [
       "plot without title"
      ]
     },
     "metadata": {},
     "output_type": "display_data"
    }
   ],
   "source": [
    "################################# Méthode de la bande\n",
    "# Affichage de la série AirPassengers pour voir comment traçer les deux droites des minima et maxima\n",
    "plot(AirPassengers)\n"
   ]
  },
  {
   "cell_type": "markdown",
   "metadata": {},
   "source": [
    "La **<span style=\"color:DarkMagenta\">droite des maxima</span>** peut être traçée en prenant le **<span style=\"color:DarkMagenta\">point maximum de 1949 et celui de 1960</span>**. La **<span style=\"color:DarkMagenta\">droite des minima</span>** peut être traçée en prenant le **<span style=\"color:DarkMagenta\">point minimum de 1950 et celui de 1953</span>**. Les valeurs de ces points vont être calculées."
   ]
  },
  {
   "cell_type": "code",
   "execution_count": 17,
   "metadata": {
    "cell_style": "center"
   },
   "outputs": [
    {
     "data": {
      "text/html": [
       "<table>\n",
       "<thead><tr><th scope=col>years</th><th scope=col>min</th><th scope=col>max</th></tr></thead>\n",
       "<tbody>\n",
       "\t<tr><td>1949</td><td>104 </td><td>148 </td></tr>\n",
       "\t<tr><td>1950</td><td>114 </td><td>170 </td></tr>\n",
       "\t<tr><td>1951</td><td>145 </td><td>199 </td></tr>\n",
       "\t<tr><td>1952</td><td>171 </td><td>242 </td></tr>\n",
       "\t<tr><td>1953</td><td>180 </td><td>272 </td></tr>\n",
       "\t<tr><td>1954</td><td>188 </td><td>302 </td></tr>\n",
       "\t<tr><td>1955</td><td>233 </td><td>364 </td></tr>\n",
       "\t<tr><td>1956</td><td>271 </td><td>413 </td></tr>\n",
       "\t<tr><td>1957</td><td>301 </td><td>467 </td></tr>\n",
       "\t<tr><td>1958</td><td>310 </td><td>505 </td></tr>\n",
       "\t<tr><td>1959</td><td>342 </td><td>559 </td></tr>\n",
       "\t<tr><td>1960</td><td>390 </td><td>622 </td></tr>\n",
       "</tbody>\n",
       "</table>\n"
      ],
      "text/latex": [
       "\\begin{tabular}{r|lll}\n",
       " years & min & max\\\\\n",
       "\\hline\n",
       "\t 1949 & 104  & 148 \\\\\n",
       "\t 1950 & 114  & 170 \\\\\n",
       "\t 1951 & 145  & 199 \\\\\n",
       "\t 1952 & 171  & 242 \\\\\n",
       "\t 1953 & 180  & 272 \\\\\n",
       "\t 1954 & 188  & 302 \\\\\n",
       "\t 1955 & 233  & 364 \\\\\n",
       "\t 1956 & 271  & 413 \\\\\n",
       "\t 1957 & 301  & 467 \\\\\n",
       "\t 1958 & 310  & 505 \\\\\n",
       "\t 1959 & 342  & 559 \\\\\n",
       "\t 1960 & 390  & 622 \\\\\n",
       "\\end{tabular}\n"
      ],
      "text/markdown": [
       "\n",
       "| years | min | max |\n",
       "|---|---|---|\n",
       "| 1949 | 104  | 148  |\n",
       "| 1950 | 114  | 170  |\n",
       "| 1951 | 145  | 199  |\n",
       "| 1952 | 171  | 242  |\n",
       "| 1953 | 180  | 272  |\n",
       "| 1954 | 188  | 302  |\n",
       "| 1955 | 233  | 364  |\n",
       "| 1956 | 271  | 413  |\n",
       "| 1957 | 301  | 467  |\n",
       "| 1958 | 310  | 505  |\n",
       "| 1959 | 342  | 559  |\n",
       "| 1960 | 390  | 622  |\n",
       "\n"
      ],
      "text/plain": [
       "   years min max\n",
       "1  1949  104 148\n",
       "2  1950  114 170\n",
       "3  1951  145 199\n",
       "4  1952  171 242\n",
       "5  1953  180 272\n",
       "6  1954  188 302\n",
       "7  1955  233 364\n",
       "8  1956  271 413\n",
       "9  1957  301 467\n",
       "10 1958  310 505\n",
       "11 1959  342 559\n",
       "12 1960  390 622"
      ]
     },
     "metadata": {},
     "output_type": "display_data"
    }
   ],
   "source": [
    "BaseAirPassengers %>% \n",
    "    group_by(years) %>%\n",
    "        summarise(min = min(passagers), \n",
    "                  max = max(passagers))\n"
   ]
  },
  {
   "cell_type": "code",
   "execution_count": 18,
   "metadata": {
    "cell_style": "center",
    "slideshow": {
     "slide_type": "skip"
    }
   },
   "outputs": [
    {
     "data": {
      "text/html": [
       "<table>\n",
       "<thead><tr><th scope=col>years</th><th scope=col>passagers</th><th scope=col>mouth</th></tr></thead>\n",
       "<tbody>\n",
       "\t<tr><td>1949</td><td>148 </td><td> 7  </td></tr>\n",
       "\t<tr><td>1949</td><td>148 </td><td> 8  </td></tr>\n",
       "\t<tr><td>1950</td><td>114 </td><td>11  </td></tr>\n",
       "\t<tr><td>1952</td><td>180 </td><td> 2  </td></tr>\n",
       "\t<tr><td>1953</td><td>180 </td><td>11  </td></tr>\n",
       "\t<tr><td>1960</td><td>622 </td><td> 7  </td></tr>\n",
       "</tbody>\n",
       "</table>\n"
      ],
      "text/latex": [
       "\\begin{tabular}{r|lll}\n",
       " years & passagers & mouth\\\\\n",
       "\\hline\n",
       "\t 1949 & 148  &  7  \\\\\n",
       "\t 1949 & 148  &  8  \\\\\n",
       "\t 1950 & 114  & 11  \\\\\n",
       "\t 1952 & 180  &  2  \\\\\n",
       "\t 1953 & 180  & 11  \\\\\n",
       "\t 1960 & 622  &  7  \\\\\n",
       "\\end{tabular}\n"
      ],
      "text/markdown": [
       "\n",
       "| years | passagers | mouth |\n",
       "|---|---|---|\n",
       "| 1949 | 148  |  7   |\n",
       "| 1949 | 148  |  8   |\n",
       "| 1950 | 114  | 11   |\n",
       "| 1952 | 180  |  2   |\n",
       "| 1953 | 180  | 11   |\n",
       "| 1960 | 622  |  7   |\n",
       "\n"
      ],
      "text/plain": [
       "  years passagers mouth\n",
       "1 1949  148        7   \n",
       "2 1949  148        8   \n",
       "3 1950  114       11   \n",
       "4 1952  180        2   \n",
       "5 1953  180       11   \n",
       "6 1960  622        7   "
      ]
     },
     "metadata": {},
     "output_type": "display_data"
    }
   ],
   "source": [
    "# Le max en 1949 = 148; max en 1960 = 622 \n",
    "# et min en 1950 = 114 et min en \n",
    "\n",
    "BaseAirPassengers %>% \n",
    " subset(passagers %in% c(148, 622, 114, 180), \n",
    "        selected = c(years, mouth, passagers))\n"
   ]
  },
  {
   "cell_type": "code",
   "execution_count": 15,
   "metadata": {
    "slideshow": {
     "slide_type": "skip"
    }
   },
   "outputs": [],
   "source": [
    "# Définition une fonction qui calcule l'ordonnée de x via la droite passant par a = c(xa, ya) et b = c(xb, yb)\n",
    "ordonnee <- function(x, a = c(0, 0), b = c(1, 1)){\n",
    "    return(x*(a[2]-b[2])/(a[1]-b[1]) + (a[1]*b[2]-b[1]*a[2])/(a[1]-b[1]))\n",
    "}\n"
   ]
  },
  {
   "cell_type": "code",
   "execution_count": 19,
   "metadata": {
    "slideshow": {
     "slide_type": "skip"
    }
   },
   "outputs": [
    {
     "data": {
      "text/html": [],
      "text/latex": [],
      "text/markdown": [],
      "text/plain": [
       "integer(0)"
      ]
     },
     "metadata": {},
     "output_type": "display_data"
    },
    {
     "data": {
      "image/png": "[encoded data removed]",
      "text/plain": [
       "plot without title"
      ]
     },
     "metadata": {},
     "output_type": "display_data"
    }
   ],
   "source": [
    "# Les ordonnées des droites minima et maxima\n",
    "y_max = ordonnee(temp, c(1949+6/12, 148), c(1960+6/12, 622))\n",
    "y_min = ordonnee(temp, c(1950+10/12, 114), c(1953+10/12, 180))\n",
    "\n",
    "# Ici on affiche la série elle-meme (AirPassengers) Pour savoir comment traçer les deux droites des minima et maxima\n",
    "plot(AirPassengers) + lines(temp, y_max, col = \"red\") + lines(temp, y_min, col = \"red\")\n"
   ]
  },
  {
   "cell_type": "code",
   "execution_count": 20,
   "metadata": {
    "slideshow": {
     "slide_type": "skip"
    }
   },
   "outputs": [
    {
     "data": {
      "text/html": [
       "<table>\n",
       "<thead><tr><th scope=col>years</th><th scope=col>passagers_mean</th><th scope=col>passagers_sd</th></tr></thead>\n",
       "<tbody>\n",
       "\t<tr><td>1949    </td><td>126.6667</td><td>13.72015</td></tr>\n",
       "\t<tr><td>1950    </td><td>139.6667</td><td>19.07084</td></tr>\n",
       "\t<tr><td>1951    </td><td>170.1667</td><td>18.43827</td></tr>\n",
       "</tbody>\n",
       "</table>\n"
      ],
      "text/latex": [
       "\\begin{tabular}{r|lll}\n",
       " years & passagers\\_mean & passagers\\_sd\\\\\n",
       "\\hline\n",
       "\t 1949     & 126.6667 & 13.72015\\\\\n",
       "\t 1950     & 139.6667 & 19.07084\\\\\n",
       "\t 1951     & 170.1667 & 18.43827\\\\\n",
       "\\end{tabular}\n"
      ],
      "text/markdown": [
       "\n",
       "| years | passagers_mean | passagers_sd |\n",
       "|---|---|---|\n",
       "| 1949     | 126.6667 | 13.72015 |\n",
       "| 1950     | 139.6667 | 19.07084 |\n",
       "| 1951     | 170.1667 | 18.43827 |\n",
       "\n"
      ],
      "text/plain": [
       "  years passagers_mean passagers_sd\n",
       "1 1949  126.6667       13.72015    \n",
       "2 1950  139.6667       19.07084    \n",
       "3 1951  170.1667       18.43827    "
      ]
     },
     "metadata": {},
     "output_type": "display_data"
    }
   ],
   "source": [
    "################################# Méthode analytique\n",
    "# Nouvelle base avec moyenne et ecart-type par annees\n",
    "MinMaxBase <- BaseAirPassengers %>% \n",
    " group_by(years) %>%\n",
    "  summarise(passagers_mean = mean(passagers),\n",
    "           passagers_sd = sd(passagers))\n",
    "\n",
    "# Affichissage de la base constituee de la moyenne et de l'ecart-type par an\n",
    "head(MinMaxBase, 3)\n"
   ]
  },
  {
   "cell_type": "code",
   "execution_count": 21,
   "metadata": {},
   "outputs": [
    {
     "data": {
      "text/plain": [
       "\n",
       "Call:\n",
       "lm(formula = passagers_sd ~ passagers_mean, data = MinMaxBase)\n",
       "\n",
       "Residuals:\n",
       "    Min      1Q  Median      3Q     Max \n",
       "-2.7872 -2.3326 -0.1083  1.2405  4.1311 \n",
       "\n",
       "Coefficients:\n",
       "                 Estimate Std. Error t value Pr(>|t|)    \n",
       "(Intercept)    -11.403254   1.982789  -5.751 0.000185 ***\n",
       "passagers_mean   0.188613   0.006577  28.676 6.19e-11 ***\n",
       "---\n",
       "Signif. codes:  0 '***' 0.001 '**' 0.01 '*' 0.05 '.' 0.1 ' ' 1\n",
       "\n",
       "Residual standard error: 2.528 on 10 degrees of freedom\n",
       "Multiple R-squared:  0.988,\tAdjusted R-squared:  0.9868 \n",
       "F-statistic: 822.3 on 1 and 10 DF,  p-value: 6.192e-11\n"
      ]
     },
     "metadata": {},
     "output_type": "display_data"
    }
   ],
   "source": [
    "# Description de la regression lineaire de l'ecart-type sur la moyenne\n",
    "summary(lm(passagers_sd~passagers_mean, data = MinMaxBase))\n"
   ]
  },
  {
   "cell_type": "markdown",
   "metadata": {
    "slideshow": {
     "slide_type": "skip"
    }
   },
   "source": [
    "**<span style=\"color:MediumBlue;font-size:120%\">3. Déterminez le modèle final retenu pour chaque série  </span>**  \n",
    "\n",
    "La méthode du profil affiche des courbes qui s'entre coupent: le modèle est donc **<span style=\"color:green\">multiplicatif selon la méthode du profil</span>**. La méthode de la bande montre des droites de minima et maxima qui sont sécantes : **<span style=\"color:green\">le modèle peut être considéré comme multiplicatif selon la méthode de la bande</span>**. La méthode analytique affiche un coéficient $a = 0.188 $ et p-value = 6.192 x $10^{-11}$: donc $a$ est significatif à $95\\%$ : **<span style=\"color:green\">le modèle est donc multiplicatif selon la méthode analytique</span>**.  \n",
    "\n",
    "En définitive, la série est donc **multiplicatif**."
   ]
  },
  {
   "cell_type": "markdown",
   "metadata": {
    "slideshow": {
     "slide_type": "slide"
    }
   },
   "source": [
    "**<span style=\"color:navy;font-size:200%\"> Chapitre 2: METHODES D'AJUSTEMENT DE LA TENDANCE </span>**  \n",
    "\n",
    "Une série temporelle est le résultat d'un phénomène survenu dans le temps, dont le comportement peut être simplifié sous la forme suivante: **$$x_t = f(t,\\epsilon_t) ~~~~~~~~~~~~~~(12)$$** Avec $\\epsilon_t$ une variable aléatoire.  \n",
    "Il existe plusieurs méthodes d'estimation de $f$. Certaines d'entre elles font intervenir des procédures qui donnent la même importance aux valeurs de la série sur toute la période (ajustement global) alors que d'autres accordent plus d'importance aux valeurs proches de la période courantes (ajustement local).   \n",
    "\n",
    "## **<span style=\"color:MediumBlue\"> I. Ajustement global </span>**  \n",
    "\n",
    "Les méthodes d'ajustement globales sont nombreuses. Parmi elles: les moindres carrées, les points médians, l'approche non linéaire et la méthodes non paramétrique.   \n",
    "\n",
    "**<span style=\"color:blue;font-size:120%\">1. Moindre carré ordinaire </span>**  \n",
    "\n",
    "La méthode des moindres carrés consiste à estmer la tendence sous une forme linéaire: $$Z_t = \\alpha + \\beta t + \\epsilon ~~~~~~~~~~~~~~(13)$$ Voyons en guise de rappel, la méthode d'estimation des moindres carré.   \n",
    "\n",
    "**<span style=\"color:blue;font-size:100%\">a) Principe des moindre carré ordinaire </span>**  \n",
    "\n",
    "L'expression de $Z$ fournie en (13) peut être approchée par sa partie linéaire:  \n",
    "\n",
    "$$\\widehat{Z}_t = \\alpha + \\beta t ~~~~~~~~~~~~~~(14)$$ Cette approximation est faite de sorte que les écarts entre $Z$ et $\\widehat{Z}$ soient faible. Plusieurs critères d'optimisation peuvent être envisagés:  \n",
    "1. $Min \\sum_{t=1}^T |Z_t-(\\alpha + \\beta t)|_{(\\alpha,\\beta) \\in \\mathbb{R}}$  \n",
    "\n",
    "\n",
    "2. $Min \\sum_{t=1}^T (Z_t-(\\alpha + \\beta t))_{(\\alpha,\\beta) \\in \\mathbb{R}}^2$  \n",
    "\n",
    "Le second critère d'optimisation des paramètres $(\\alpha,\\beta)$ est celui adopté par la méthode des moindres carrés ordinaires. "
   ]
  },
  {
   "cell_type": "markdown",
   "metadata": {
    "slideshow": {
     "slide_type": "slide"
    }
   },
   "source": [
    "Il s'agit de trouver le minimum de la fonction $H$ définie de la manière suivante: $$H(\\alpha,\\beta) = \\sum_{t=1}^T (Z_t-(\\alpha + \\beta t))^2 = 0~~~~~~~~~~~~~~~~~~(15)$$ Notons par $\\tau = (1, 2, ..., t, ..., T) $ le vecteur temps. Ainsi $\\tau_t = t$. La première condition d'optimalité nécessaire est la nullité des dérivées premières:  \n",
    " $$\\frac{\\partial H(\\alpha,\\beta)}{\\partial \\alpha} = \\sum_{t=1}^T -2(Z_t-(\\alpha + \\beta t)) = 0~~~~~~~~~~(16)$$\n",
    " $$\\frac{\\partial H(\\alpha,\\beta)}{\\partial \\beta} = \\sum_{t=1}^T -2t (Z_t-(\\alpha + \\beta t)) = 0~~~~~~~~~~(17)$$ "
   ]
  },
  {
   "cell_type": "markdown",
   "metadata": {
    "slideshow": {
     "slide_type": "slide"
    }
   },
   "source": [
    "$$(16)~~~~~~~~\\Longrightarrow ~~~~~~~~~~\\sum_{t=1}^T Z_t -\\alpha T -\\beta \\sum_{t=1}^T t = 0$$  \n",
    "\n",
    "\n",
    "$$~~~~~~~~~~~~\\Longrightarrow ~~~~~~~~~~~\\alpha = \\frac{1}{T}\\sum_{t=1}^T Z_t -\\frac{\\beta}{T} \\sum_{t=1}^T t$$  \n",
    "\n",
    "\n",
    "$$\\Longrightarrow ~~~~~~~~~~~\\alpha =\\bar{Z}-\\beta \\bar{\\tau}~~~~~~~~$$"
   ]
  },
  {
   "cell_type": "markdown",
   "metadata": {
    "slideshow": {
     "slide_type": "slide"
    }
   },
   "source": [
    "$$(17)~~~~~~~~\\Longrightarrow ~~\\sum_{t=1}^T Z_t t -\\alpha \\sum_{t=1}^T t -\\beta \\sum_{t=1}^T t^2 = 0~~~~~~~~$$ \n",
    "$$~~~~~~~~~~~~~~~~~~~\\Longrightarrow ~ \\sum_{t=1}^T Z_t t -(\\bar{Z}-\\beta\\bar{\\tau}) \\sum_{t=1}^T t -\\beta \\sum_{t=1}^T t^2 = 0$$\n",
    "$$~~~~~~~~~~~~~~~~~~~\\Longrightarrow ~ \\beta (\\sum_{t=1}^T t^2 -\\bar{\\tau}\\sum_{t=1}^T t) = \\sum_{t=1}^T Z_t t -\\bar{Z}\\sum_{t=1}^T t$$ \n",
    "$$~~~~~~~~~~~~~~~~~~~\\Longrightarrow ~ \\beta (\\sum_{t=1}^T t^2 -T\\bar{\\tau}^2) = \\sum_{t=1}^T Z_t t -T\\bar{Z}\\bar{\\tau}~~~~~~~~~~~~~~$$  \n",
    "$$~~~~~~\\Longrightarrow ~ \\beta =\\frac{\\sum_{t=1}^T (Z_t t -\\bar{Z}\\bar{\\tau})}{\\sum_{t=1}^T (t^2 -\\bar{\\tau}^2)}~~~~~~~~~~~~~~~~~~~~~~~~~$$"
   ]
  },
  {
   "cell_type": "markdown",
   "metadata": {
    "slideshow": {
     "slide_type": "slide"
    }
   },
   "source": [
    "Une valeur simplifiée de $\\beta$ est: $$\\beta = \\frac{Cov(\\tau,Y)}{Var(\\tau)}$$ Et $\\alpha$ en est déduit: \n",
    "\n",
    "\n",
    "$$\\alpha = \\bar{Z} - \\beta \\bar{\\tau}$$  \n",
    "\n",
    "L'ajustement linéaire du nuage de points se justifie par l'existance d'une relation linéaire entre la série des données et le temps. Cette relation linéaire est appréciée par **le coéfficient de corrélation linéaire (encore appelé coefficient de Bravais-Pearson)** entre la série des données et la variable temps.\n"
   ]
  },
  {
   "cell_type": "markdown",
   "metadata": {
    "slideshow": {
     "slide_type": "slide"
    }
   },
   "source": [
    "$$r(\\tau, Z) = \\frac{Cov(\\tau, Z)}{\\sqrt{Var(\\tau)Var(Z)}}~~~~~~~~~~~~~~~~~~~~~~~~~~~~~~~~(18)$$\n",
    "\n",
    " – Si $r(\\tau, Z) = 0$, alors la série des données $Z$ et le vecteur temps $\\tau$ sont linéairement indépendants. Graphiquement, les points du nuage ont un éloignement maximal de la droite de régression.\n",
    "\n",
    " – Si $|r(\\tau, Z)|$ est proche de 1, alors la série des données $Z$ et le vecteur temps $\\tau$ sont fortement liés: la relation linéaire est partfaite. Les points du nuage sont alors alignés. Pour $r(\\tau, Z)> 0$ (resp $r(\\tau, Z)< 0$) , la corrélation linéaire est dite croissante ou positive (resp décroissante ou négative).\n",
    " \n",
    "En pratique, la corrélation linéaire sera dite **<span style=\"color:LimeGreen\">faible</span>** lorsque $0 < |r(\\tau, Z)| < 0,3$, **<span style=\"color:LimeGreen\">moyenne</span>** lorsque $0,3 ≤ |r(\\tau, Z)| ≤ 0,7$ et **<span style=\"color:LimeGreen\">forte</span>** lorsque $|r(\\tau, Z)| > 0,7$."
   ]
  },
  {
   "cell_type": "markdown",
   "metadata": {
    "slideshow": {
     "slide_type": "skip"
    }
   },
   "source": [
    "**<span style=\"color:blue;font-size:100%\">b) Exemple graphique d'estimation de la tendance </span>**  "
   ]
  },
  {
   "cell_type": "code",
   "execution_count": 22,
   "metadata": {
    "slideshow": {
     "slide_type": "skip"
    }
   },
   "outputs": [
    {
     "name": "stdout",
     "output_type": "stream",
     "text": [
      "           Qtr1       Qtr2       Qtr3       Qtr4\n",
      "2009  0.7964195  3.2810648 -3.8551594  5.2898481\n",
      "2010  7.4440003  2.0253322  3.1308063 14.5325682\n",
      "2011  3.9211108  1.8857441  9.1817814  6.9459089\n",
      "2012  3.9888613  8.2978535 -0.7918511  6.8329090\n",
      "2013 12.1744607  0.2969913  0.4117735  8.2014722\n",
      "2014  8.0598985 11.0823840  4.7466332 11.5759869\n",
      "2015  6.7258639  0.3637599 11.8375931  9.4768463\n",
      "2016  9.1820626  7.4443712  0.8957905  8.4053550\n",
      "2017 10.7507558 10.4684258 10.9540244  5.8710578\n",
      "2018  9.7367481 14.1060262 -1.6064376  9.9192563\n"
     ]
    }
   ],
   "source": [
    "# Simulation d'une serie temporelle y = z + s + e\n",
    "t = 1:40 # vecteur temps de 1 a 40\n",
    "\n",
    "# Creation de la tendance z\n",
    "z = 2.5 + 0.08*t + rnorm(40, mean = 2, sd = 3)\n",
    "\n",
    "# Saisonnalite: En ajoutant la partie aleatoire, la periode n'est plus pi \n",
    "s = cos(t*pi) + rnorm(40, mean = 0.5, sd = 2)\n",
    "\n",
    "# Definir la serie y = z + s + e\n",
    "y = z + s + rnorm(40) # ie mean = 0, sd = 1\n",
    "\n",
    "# Definir le type de serie\n",
    "serie <- ts(y, start = c(2009, 1), frequency = 4)\n",
    "print(serie)\n",
    "\n"
   ]
  },
  {
   "cell_type": "code",
   "execution_count": 23,
   "metadata": {
    "slideshow": {
     "slide_type": "skip"
    }
   },
   "outputs": [
    {
     "data": {
      "image/png": "[encoded data removed]",
      "text/plain": [
       "Plot with title \"Graphique 1\""
      ]
     },
     "metadata": {},
     "output_type": "display_data"
    }
   ],
   "source": [
    "# Representation graphique\n",
    "plot(serie, xlab = \"Temps en trimestre\", ylab = \"Valeurs de serie\", main = \"Graphique 1\")\n"
   ]
  },
  {
   "cell_type": "code",
   "execution_count": 24,
   "metadata": {
    "slideshow": {
     "slide_type": "skip"
    }
   },
   "outputs": [
    {
     "data": {
      "image/png": "[encoded data removed]",
      "text/plain": [
       "plot without title"
      ]
     },
     "metadata": {},
     "output_type": "display_data"
    }
   ],
   "source": [
    "# Representation de la tendance en nuages de points\n",
    "plot(t, z, type = \"p\", col = \"red\")\n"
   ]
  },
  {
   "cell_type": "code",
   "execution_count": 25,
   "metadata": {},
   "outputs": [
    {
     "data": {
      "text/html": [],
      "text/latex": [],
      "text/markdown": [],
      "text/plain": [
       "integer(0)"
      ]
     },
     "metadata": {},
     "output_type": "display_data"
    },
    {
     "data": {
      "image/png": "[encoded data removed]",
      "text/plain": [
       "plot without title"
      ]
     },
     "metadata": {},
     "output_type": "display_data"
    }
   ],
   "source": [
    "# Ajustement de la tendance par MCO: \n",
    "# Nous avons changer l'expression de z pour voir: poinst du nuage vs droite d'ajustement \n",
    "# 1. z = 2.5 + 0.08*t + rnorm(40, mean = 2, sd = 3) \n",
    "# 2. z = 2.5 + 0.02*t + rnorm(40, mean = 2, sd = 3)\n",
    "# 3. z = 2.5 - 0.9*t + rnorm(40, mean = 2, sd = 3)\n",
    "plot(t, z, type = \"p\", col = \"red\") + abline(lm(z~t))\n"
   ]
  },
  {
   "cell_type": "code",
   "execution_count": 26,
   "metadata": {
    "slideshow": {
     "slide_type": "skip"
    }
   },
   "outputs": [
    {
     "data": {
      "text/html": [
       "0.509862267252087"
      ],
      "text/latex": [
       "0.509862267252087"
      ],
      "text/markdown": [
       "0.509862267252087"
      ],
      "text/plain": [
       "[1] 0.5098623"
      ]
     },
     "metadata": {},
     "output_type": "display_data"
    },
    {
     "data": {
      "text/plain": [
       "\n",
       "\tPearson's product-moment correlation\n",
       "\n",
       "data:  z and t\n",
       "t = 3.6536, df = 38, p-value = 0.0007775\n",
       "alternative hypothesis: true correlation is not equal to 0\n",
       "95 percent confidence interval:\n",
       " 0.2358051 0.7087958\n",
       "sample estimates:\n",
       "      cor \n",
       "0.5098623 \n"
      ]
     },
     "metadata": {},
     "output_type": "display_data"
    }
   ],
   "source": [
    "cor(z,t) # Coef correlation lineaire: r(z,t)\n",
    "cor.test(z,t) # Test de la nullite de r(z,t)\n"
   ]
  },
  {
   "cell_type": "markdown",
   "metadata": {
    "slideshow": {
     "slide_type": "slide"
    }
   },
   "source": [
    "**<span style=\"color:blue;font-size:120%\">2. Estimation par points médian (Méthode de Mayer) </span>**  \n",
    "\n",
    "L'ajustement par points médian n'utilise pas de critères d'optimisation. La série globale est scindée en deux groupes de taille égale (à une observation près). La droite d'ajustement est contruite à l'aide de deux points qui sont les points médians (ou moyens) des deux groupes. Le choix de la médiane est utilise en présence de valeurs extrèmes dans la série."
   ]
  },
  {
   "cell_type": "markdown",
   "metadata": {
    "slideshow": {
     "slide_type": "skip"
    }
   },
   "source": [
    "**<span style=\"color:blue;font-size:100%\">Exemple </span>**  "
   ]
  },
  {
   "cell_type": "code",
   "execution_count": 27,
   "metadata": {
    "cell_style": "center",
    "slideshow": {
     "slide_type": "skip"
    }
   },
   "outputs": [],
   "source": [
    "# Lecteur de la base au moyen de la fonction \n",
    "# read_xlsx().\n",
    "\n",
    "library(readxl)\n",
    "# Nous utilisons les donnees disponibles \n",
    "# sur: https://github.com/IbrahimaTall \n",
    "\n",
    "ipc <- read_xlsx(\"TimeSeries.xlsx\", sheet = \"IPC2\")\n"
   ]
  },
  {
   "cell_type": "code",
   "execution_count": 28,
   "metadata": {
    "cell_style": "center",
    "slideshow": {
     "slide_type": "skip"
    }
   },
   "outputs": [],
   "source": [
    "# Définition de la série\n",
    "basets <- ts(ipc, start = c(2009, 1), frequency=12)\n",
    "mois <- as.vector(time(basets))\n",
    "ipc <- as.vector(ipc)\n",
    "base <- cbind(mois, ipc)\n",
    "colnames(base) <- c(\"mois\", \"ipc\")\n",
    "# Définition des deux groupes de données\n",
    "base$groupe <- ifelse(base$ipc<median(base$ipc),1,2)\n"
   ]
  },
  {
   "cell_type": "code",
   "execution_count": 29,
   "metadata": {
    "slideshow": {
     "slide_type": "skip"
    }
   },
   "outputs": [
    {
     "data": {
      "text/html": [
       "<table>\n",
       "<thead><tr><th scope=col>groupe</th><th scope=col>ipc_med</th><th scope=col>mois_med</th></tr></thead>\n",
       "<tbody>\n",
       "\t<tr><td>1       </td><td>101.600 </td><td>2011.500</td></tr>\n",
       "\t<tr><td>2       </td><td>105.455 </td><td>2016.542</td></tr>\n",
       "</tbody>\n",
       "</table>\n"
      ],
      "text/latex": [
       "\\begin{tabular}{r|lll}\n",
       " groupe & ipc\\_med & mois\\_med\\\\\n",
       "\\hline\n",
       "\t 1        & 101.600  & 2011.500\\\\\n",
       "\t 2        & 105.455  & 2016.542\\\\\n",
       "\\end{tabular}\n"
      ],
      "text/markdown": [
       "\n",
       "| groupe | ipc_med | mois_med |\n",
       "|---|---|---|\n",
       "| 1        | 101.600  | 2011.500 |\n",
       "| 2        | 105.455  | 2016.542 |\n",
       "\n"
      ],
      "text/plain": [
       "  groupe ipc_med mois_med\n",
       "1 1      101.600 2011.500\n",
       "2 2      105.455 2016.542"
      ]
     },
     "metadata": {},
     "output_type": "display_data"
    }
   ],
   "source": [
    "# Calcul des moyennes et médianes des deux groupes\n",
    "base %>%\n",
    " group_by(groupe) %>%\n",
    " summarise(ipc_med = median(ipc),\n",
    "          mois_med = median(mois))\n"
   ]
  },
  {
   "cell_type": "code",
   "execution_count": 30,
   "metadata": {
    "slideshow": {
     "slide_type": "skip"
    }
   },
   "outputs": [
    {
     "data": {
      "text/html": [],
      "text/latex": [],
      "text/markdown": [],
      "text/plain": [
       "integer(0)"
      ]
     },
     "metadata": {},
     "output_type": "display_data"
    },
    {
     "data": {
      "image/png": "[encoded data removed]",
      "text/plain": [
       "plot without title"
      ]
     },
     "metadata": {},
     "output_type": "display_data"
    }
   ],
   "source": [
    "y_median <- ordonnee(base$mois, c(2011.5, 101.6), c(2016.542, 105.455))\n",
    "plot(base$mois, base$ipc, ylab = \"IPC du Senegal 2009-2019\", xlab = \"Temps\") + \n",
    " lines(base$mois, y_median, col = \"blue\") + abline(lm(base$ipc~base$mois), col = \"red\")\n",
    "# Ajout de la legend suivant position (x, y)\n",
    "legend(\"bottomright\", cex = 0.8, text.width = 4.5, \n",
    "       c(\"Ajustement MCO\", \"Ajustement points Medians\"), col = c(\"red\", \"blue\"), lty = c(1,1))\n"
   ]
  },
  {
   "cell_type": "markdown",
   "metadata": {
    "slideshow": {
     "slide_type": "slide"
    }
   },
   "source": [
    "**<span style=\"color:blue;font-size:120%\">3. L'approche non linéaire </span>**  \n",
    "\n",
    "L'ajustement de la tendance peut le plus souvent se ramener sous une forme linéaire par tranformation. Cependant, ces transformation ne sont pas applicables dans tous les cas. Il est alors possible d'ajuster la tendance suivant une approche non linéaire: polynomiale, quadratique etc. $$\\widehat{Z}_t = \\alpha + \\beta t^2~~~~~~~~~~~~~~~~~~~~~~~~~~~(19)$$  "
   ]
  },
  {
   "cell_type": "markdown",
   "metadata": {
    "slideshow": {
     "slide_type": "slide"
    }
   },
   "source": [
    "**<span style=\"color:blue;font-size:120%\">4. Estimation non paramétrique</span>**  \n",
    "\n",
    "Dans certaines situations, les ajustements linéaire et non linéaire ne sont pas adéquates. D'autres approches sont alors utilisées. Par exemples les moyennes mobiles d'ordre $2m + 1$, permettent d'ajuster la tendance selon la formule suivante:$$\\widehat{Z}_t = M_{2m+1}(t)~~~~~~~~~~~~~~~~~~~~~~~~~~~~~~~~~~~~~~~~~~~~~(20)$$."
   ]
  },
  {
   "cell_type": "markdown",
   "metadata": {
    "slideshow": {
     "slide_type": "slide"
    }
   },
   "source": [
    "## <span style=\"color:MediumBlue\"> II. Ajustement local (moyennes et médianes mobiles) </span>  \n",
    "\n",
    "Les moyennes mobiles visent à transformer la série afin de trouver une estimation de la tendance et la saisonnalité. La transformation vise d’abord à supprimer la saisonnalité, puis a reconstituer les deux composantes de la série (tendance et saisonnalité)."
   ]
  },
  {
   "cell_type": "markdown",
   "metadata": {
    "slideshow": {
     "slide_type": "slide"
    }
   },
   "source": [
    "**<span style=\"color:blue;font-size:120%\">1. Définition des moyennes mobiles</span>**  \n",
    "\n",
    "Une moyenne mobile $M_{m_1+m_2+1}$ est une **<span style=\"color:GoldenRod\">transformation</span>** qui, à toute série $X = (X_t)_{t\\in \\mathbb{N}^*}$, associe une nouvelle série $M_{m_1+m_2+1}X = (M_{m_1+m_2+1}X_t)_{t\\in \\mathbb{N}^*}$ dont la valeur à l'instant $t$ s’écrit comme une combinaison linéaire finie des valeurs de la série $X = (X_t)_{t\\in \\mathbb{N}^*}$ à des dates entourant l'instant $t$. La valeur de la série transformée $M_{m_1+m_2+1}X$  à la date $t$ s’écrit :\n",
    "$$M_{m_1+m_2+1}X_t = \\sum_{i = -m_1}^{m_2}\\theta_iX_{t+i}~~~~~~~~~~~~~~~~~~~~~~~~~~~~~~~~~~~~~~~~~~~~~~~~~~~~~~~~~~~~~~~~~~~~~~~~~~~~~~~~~~~~~~~~~~~~~~~~~~~~~~~~~~~~~~~~~~~~~~~~~~~~~~$$ $$ = \\theta_{-m_1}X_{t-m_1} + … + \\theta_{-1}X_{t-1} + \\theta_0X_t + \\theta_1X_{t+1} +...+ \\theta_{m_2}X_{t+m_2}~~~~~~~~~~~~~~(21)$$ \n",
    "Où $  \\theta_{-m_1},   , + \\theta_{m_2} $ sont des réels et $ (m_1, m_2) \\in \\mathbb{N}^*$. Le nombre $ m_1+m_2+1 $ est l’**<span style=\"color:LimeGreen\">ordre</span>** de la moyenne mobile. C’est le nombre de termes considérés dans la somme."
   ]
  },
  {
   "cell_type": "markdown",
   "metadata": {
    "slideshow": {
     "slide_type": "slide"
    }
   },
   "source": [
    "Il est possible de réécrire la série transformée au moyen d’un opérateur. En effet, soit $B $ une application (ou simplement un operateur) définie par:$$BX_t = X_{t-1}~~~~~~~~~~~~~~~~~~~~~(22)$$  $$~~$$\n",
    "$B$ (= Backward ou parfois L = lag) est appelé **<span style=\"color:LimeGreen\">operateur retard</span>** . L'opérateur $B$ peut être composé par lui même plusieurs fois: $$\\underbrace{B◦B◦B...B◦B}_{\\text{p fois}} = B^p$$ $B$ vérifie alors les relations suivantes : $$B^2X_t = B(BX_t) = BX_{t-1} = X_{t-2}$$ $$~~$$\n",
    "$$B^kX_t = X_{t-k}~~~~~~~~~~~~~~~~~~~~~~~~~~~~~~~~~~~~~$$"
   ]
  },
  {
   "cell_type": "markdown",
   "metadata": {
    "slideshow": {
     "slide_type": "slide"
    }
   },
   "source": [
    "L’opérateur retard est linéaire: $\\forall ~~(X_t, Y_t)$ les valeurs de deux series a l'instant $t$ et $\\forall (\\alpha, \\beta) \\in \\mathbb{R}^2$ $$ B^k(\\alpha X_t + \\beta Y_t) = \\alpha B^kX_t + \\beta B^kY_t= \\alpha X_{t-k} + \\beta Y_{t-k}$$\n",
    "En plus, $B$ est inversible. Son inverse est note $F$ (= forward): $$ B^{-1}X_t = FX_t = X_{t+1}$$ $$B^{-k}X_t = F^kX_t = X_{t+k}$$\n",
    "$F$ est appelé **<span style=\"color:LimeGreen\">operateur avance</span>**. Et donc $B◦F = F◦B = I$ (opérateur identité): $$~~$$ $$\\forall~t, B◦FX_t = F◦BX_t = X_t$$"
   ]
  },
  {
   "cell_type": "markdown",
   "metadata": {
    "slideshow": {
     "slide_type": "slide"
    }
   },
   "source": [
    "Ainsi la relation (21) devient :$$ M_{m_1+m_2+1}X_t = \\sum_{i = -m_1}^{m_2}\\theta_i B^{-i}X_t = \\sum_{i = -m_1}^{m_2}\\theta_i F^iX_t $$\n",
    "En posant $j = m_1+i:~~i~$ varie de $-m_1$ à $m_2~\\Longrightarrow ~~~~j$ varie de $0$ à $m_1 + m_2$: $$~~$$ $$ M_{m_1+m_2+1}X_t = \\sum_{j = 0}^{m_1+m_2}\\theta_{j-m_1} B^{m_1-j}X_t = B^{m_1}\\underbrace{\\sum_{j = 0}^{m_1+m_2}\\theta_{j-m_1} B^{-j}X_t}_{\\text{polynôme en $B^{-1}$}}$$"
   ]
  },
  {
   "cell_type": "markdown",
   "metadata": {
    "slideshow": {
     "slide_type": "slide"
    }
   },
   "source": [
    "Considérons le polynôme $P $ définie par : $$P(x) = \\sum_{i = 0}^{m_1+m_2}\\theta_{i-m_1} x^i = \\theta_{-m_1} + \\theta_{-m_1+1} x + … +\\theta_{m_2} x^{m_1+m_2}$$ Il est alors claire que :$$M_{m_1+m_2+1}X_t = B^{m_1}P(B^{-1})X_t $$  \n",
    "$P$ est un polynôme de degré $m_1+m_2$ : c’est le **<span style=\"color:LimeGreen\">polynôme caractéristique</span>** de la moyenne mobile $M_{m_1+m_2+1}$. La moyenne mobile et son polynôme caractéristique ont les mêmes coéficients $\\theta_i$, et la moyenne mobile se définie alors simplement : $$M_{m_1+m_2+1} = B^{m_1}P(B^{-1})~~~~~~~~~~~~~~~~~~~~~~~~~~~~~~~~~~~(23)$$  \n",
    "L'ordre de la moyenne mobile $M_{m_1+m_2+1}$ et le degré de son polynôme caractéristique $P$ sont liés par : $m_1+m_2+1$ = degré$(P)+1$"
   ]
  },
  {
   "cell_type": "markdown",
   "metadata": {
    "slideshow": {
     "slide_type": "slide"
    }
   },
   "source": [
    "La moyenne mobile $M_{m_1+m_2+1}$ est dite :  \n",
    "-\t**<span style=color:green> centrée</span>** si $m_1 = m_2 = m~~~~~~~~~~~~~~~~~~~~~~~~~~~~~~~~~~~~~~~~~~~~~~~~~ ~~~~~~~~~~~~~~~~~~~~~~~~~~~~~~~~~~~~~~~~~~~~~~~~~~~~~~~~~~~~~~(24)$\n",
    "-\t**<span style=color:green>symétrique</span>** si elle est centrée et si $ \\forall i \\in {1,…,m} : \\theta_{-i}=\\theta_i~~~~~~~~~~~~~~~~~~~~~~~~~~~~~~~~~~~~~~~~~~~~~~~~~~~~~~~~~~~(25)$\n",
    "-\t**<span style=color:green>arithmétique d’ordre impaire ($2m+1$) </span>** si elle est centrée et :$$\\theta_i = \\frac{1}{2m+1},~~\\forall i \\in \\{-m,…,m\\}~~~~~~~~~~~~~~~~~~~~~~~~~(26)$$  \n",
    "\n",
    "**NB** : la moyenne mobile $M_{m_1+m_2+1} $ ne s’applique à la série qu’aux instants $t$ tels que : $$m_1 + 1 \\leq t \\leq T – m_2$$"
   ]
  },
  {
   "cell_type": "markdown",
   "metadata": {
    "slideshow": {
     "slide_type": "slide"
    }
   },
   "source": [
    "**Exemple** : Considérons la série $X_t$ définie par : $X_1 = 7, X_2 = 5, X_3 = 4, X_4 = 3, X_5 = 8$.  \n",
    "La moyenne mobile arithmétique d’ordre impaire 3, $M_3$ transforme la série $X$ en une nouvelle série $Y$.\n",
    "D’après la relation (26) : $\\forall i,  \\theta_i = \\frac{1}{3}$ et $3 = 2*1+1$ donc $m = 1 : i \\in {-1,0,1} $  \n",
    "Les valeurs de $Y$ sont données par :\n",
    "$$Y_t = M_3X_t = \\theta_{-1}X_{t-1} + \\theta_0X_t + \\theta_1X_{t+1}$$  \n",
    "$$Y_t = \\frac{1}{3}X_{t-1} + \\frac{1}{3}X_t + \\frac{1}{3}X_{t+1}~~~~~~~~~~~~~~~~~~~$$\n",
    "$$Y_t = \\frac{1}{3}(X_{t-1} + X_t + X_{t+1})~~~~~~~~~~~~~~~~~~~~~~~~$$\n",
    "D’où donc : $Y_2 = \\frac{16}{3}, Y_3 = 4, Y_4 = 5$"
   ]
  },
  {
   "cell_type": "markdown",
   "metadata": {
    "slideshow": {
     "slide_type": "slide"
    }
   },
   "source": [
    "La définiton d'une moyenne mobile **centrée** donnée ci-haut, implique que l'ordre de celle-ci soit impair : $m_1 = m_2 = m$  \n",
    "Cependant, cette définition peut être élargie aux moyennes mobiles d'ordre pair. Soit donc $M_k$ une moyenne mobile d'ordre $k = 2m$ : $$M_{2m} = \\frac{1}{2}\\theta_{-m}B^m + \\theta_{-m+1}B^{m-1} + ... +\\theta_{-1}B + \\theta_0 + \\theta_1B^{-1} + ... +\\theta_{m-1}B^{-m+1} + \\frac{1}{2}\\theta_mB^{-m}$$  \n",
    "L'expression de la moyenne mobile centrée d'ordre pair $2m$ peut être réécrite comme une moyenne de deux moyennes mobiles."
   ]
  },
  {
   "cell_type": "markdown",
   "metadata": {
    "slideshow": {
     "slide_type": "slide"
    }
   },
   "source": [
    "En effet: $$M_{2m} = \\frac{1}{2}\\theta_{-m}B^m + \\theta_{-m+1}B^{m-1} + ... +\\theta_{-1}B + \\theta_0 + \\theta_1B^{-1} + ... +\\theta_{m-1}B^{-m+1} + \\frac{1}{2}\\theta_mB^{-m}$$ $$~~$$\n",
    "$$M_{2m} = \\frac{1}{2}[\\theta_{-m}B^m + \\theta_{-m+1}B^{m-1} + ... +\\theta_{-1}B + \\theta_0 + \\theta_1B^{-1} + ... +\\theta_{m-1}B^{-m+1}] ~~~~~~~~~~~~~~~~$$ $$+ \\frac{1}{2}[\\theta_{-m+1}B^{m-1} + ... +\\theta_{-1}B + \\theta_0 + \\theta_1B^{-1} + ... +\\theta_{m-1}B^{-m+1}+\\theta_mB^{-m}]$$"
   ]
  },
  {
   "cell_type": "markdown",
   "metadata": {
    "slideshow": {
     "slide_type": "slide"
    }
   },
   "source": [
    "En notant par $G_{2m}$ et $D_{2m}$ les expressions définies par:  \n",
    "$G_{2m} = \\theta_{-m}B^m + \\theta_{-m+1}B^{m-1} + ... +\\theta_{-1}B + \\theta_0 + \\theta_1B^{-1} + ... +\\theta_{m-1}B^{-m+1}~~~~~~~~~~$ moyenne mobile avec $m_1 = m$ et $m_2 = m-1$ $$~~$$ \n",
    "$D_{2m} = \\theta_{-m+1}B^{m-1} + ... +\\theta_{-1}B + \\theta_0 + \\theta_1B^{-1} + ... +\\theta_{m-1}B^{-m+1}+\\theta_mB^{-m}~~~~~~~~~~$ moyenne mobile avec $m_1 = m-1$ et $m_2 = m$ $$~~$$  \n",
    "Ainsi, la moyenne mobile centrée d'ordre $2m$ est définie par:$$M_{2m} = \\frac{1}{2}G_{2m} + \\frac{1}{2}D_{2m}$$"
   ]
  },
  {
   "cell_type": "markdown",
   "metadata": {
    "slideshow": {
     "slide_type": "slide"
    }
   },
   "source": [
    "**Remarque**  \n",
    "Une moyenne mobile **symétrique** est nécessairement centrée d'ordre **impair**.  \n",
    "Pour une moyenne mobile **arithmétique** d'ordre pair, les coéfficients $\\theta_i$ restent constantes et égaux à l'inverse de l'ordre de la moyenne mobile : $$\\theta_i = \\frac{1}{2m},~~\\forall i \\in \\{-m,…,m\\}$$  \n",
    "\n",
    "**Exemple** : Considérons la série $X_t$ définie par : $X_1 = 6, ~~X_2 = 5, ~~X_3 = 4, ~~X_4 = 3, ~~X_5 = 8, ~~X_6 = 9, ~~X_7 = 2, ~~X_8 = 11, ~~X_9 = 10, ~~X_{10} = 12, ~~X_{11} = 9, ~~X_{12} = 8$.  \n",
    "La moyenne mobile **arithmétique** d'ordre 4, $M_4$, appliquée à cette série donne une nouvelle série $Y = (Y_t)_{t}$."
   ]
  },
  {
   "cell_type": "markdown",
   "metadata": {
    "slideshow": {
     "slide_type": "slide"
    }
   },
   "source": [
    "$M_4X_t$ est défini pour $t$: $~~~~~~3 \\leq t \\leq 10~~$ et $\\forall i~~ \\theta_i = \\frac{1}{4}~~$  \n",
    "Et pour $~~t = 3 :$\n",
    "$$~~G_4X_3 = \\frac{1}{4}(6+5+4+3)=\\frac{18}{4}=\\frac{9}{2}$$ $$~~$$\n",
    "$$~D_4X_3 = \\frac{1}{4}(5+4+3+8)=\\frac{20}{4}=5 $$  $~~~~~$D’où donc :\n",
    "$$M_4X_3 = \\frac{1}{2}\\frac{9}{2} + \\frac{1}{2}5=\\frac{19}{4}~~~~~~~~~~~~~~~~~$$\n"
   ]
  },
  {
   "cell_type": "markdown",
   "metadata": {
    "slideshow": {
     "slide_type": "slide"
    }
   },
   "source": [
    "|Dates $t$|$X_t$  |$~~~~~~~~~~~~~G_4X_t~~~~~~~$|$~~~~~~~~~~~~~~D_4X_t~~~~~~$|$~~~~~~~~~~~M_4X_t~~$|\n",
    "|:-------:|:-----:|---------------------------:|---------------------------:|--------------------:|\n",
    "|$~$**3** |$$~4$$ |$$4.5$$                     |$$5$$                       |$$4.75$$             |\n",
    "|$~$**4** |$$~3$$ |$$5$$                       |$$6$$                       |$$5.5$$              |\n",
    "|$~$**5** |$$~8$$ |$$6$$                       |$$5.5$$                     |$$5.75$$             |\n",
    "|$~$**6** |$$~9$$ |$$5.5$$                     |$$7.5$$                     |$$6.5$$              |\n",
    "|$~$**7** |$$~2$$ |$$7.5$$                     |$$8$$                       |$$7.75$$             |\n",
    "|$~$**8** |$$11$$ |$$8$$                       |$$8.75$$                    |$$8.375$$            |\n",
    "|$~$**9** |$$10$$ |$$8.75$$                    |$$10.5$$                    |$$9.625$$            |\n",
    "|**10**   |$$12$$ |$$10.5$$                    |$$9.75$$                    |$$10.125‬$$           |"
   ]
  },
  {
   "cell_type": "markdown",
   "metadata": {
    "slideshow": {
     "slide_type": "slide"
    }
   },
   "source": [
    "**NB** Le but des moyennes mobiles est :  \n",
    "\n",
    "- d’absorber les composantes saisonnières en laissant invariantes les tendances ;\n",
    "- de réduire la variance des perturbations.  \n",
    "\n",
    "Ainsi, les moyennes mobiles agissent en tamis (d'où leur second nom de **<span style=\"color:LimeGreen\">filtre</span>**) pour laisser passer la tendance, supprimer la partie saisonnière et réduire fortement les effets des perturbations. Cette fonction de filtre est justifiable à travers les propriétés des moyennes mobiles présentées ci-après."
   ]
  },
  {
   "cell_type": "markdown",
   "metadata": {
    "slideshow": {
     "slide_type": "slide"
    }
   },
   "source": [
    "**<span style=\"color:blue;font-size:120%\">2. Opérations sur les moyennes mobiles</span>**  \n",
    "\n",
    "Soient $M_{k_M}$ et $N_{k_N}$ deux moyennes mobiles d'ordres respectifs $k_M$ et $k_N$.  \n",
    "\n",
    "**<span style=\"color:blue;font-size:100%\">$~~~~~$a) Définitions et términologies</span>**  \n",
    ">\n",
    "> La moyenne mobile $S_{k_S}$ somme de $M_{k_M}$ et $N_{k_N}$ est definie par:$$S_{k_S}X_t = (M_{k_M} + N_{k_N})X_t = M_{k_M}X_t + N_{k_N}X_t$$ Avec $k_S$ = max$\\{k_M, k_N\\}$\n",
    ">"
   ]
  },
  {
   "cell_type": "markdown",
   "metadata": {
    "slideshow": {
     "slide_type": "slide"
    }
   },
   "source": [
    "> La moyenne mobile $C_{k_C}$ **<span style=\"color:LimeGreen\">composée (ou produit)</span>** de $M_{k_M}$ et $N_{k_N}$ est definie par:$$C_{k_C}X_t = M_{k_M}N_{k_N}X_t = M_{k_M}(N_{k_N}X_t)$$ Avec $k_C$ = $k_M + k_N-1$\n",
    ">"
   ]
  },
  {
   "cell_type": "markdown",
   "metadata": {
    "slideshow": {
     "slide_type": "slide"
    }
   },
   "source": [
    "Etant donné la formule (23) qui définie une moyenne mobile comme une combinaison d'opérateurs, une moyenne mobile est une application linéaire. Ainsi, l'ensemble des moyennes mobiles est un **<span style=\"color:GoldenRod\">espace vectoriel</span>**.  \n",
    ">\n",
    "> Le noyau d'une moyenne mobile $M_k$ est l'ensemble noté $Ker(M_k)$ défini par: $$Ker(M_k) = \\{X = (X_t)_{t\\in \\mathbb{N}^*}~~|~~\\forall t: M_kX_t = 0 \\}$$\n",
    ">  \n",
    "\n",
    "Ainsi, $Ker(M_k)$ est l'ensemble des séries temporelles dont leur transformation par $M_k$ conduit à une série temporelle nulle en tout instant $t$ où $M_k$ est applicable."
   ]
  },
  {
   "cell_type": "markdown",
   "metadata": {
    "slideshow": {
     "slide_type": "slide"
    }
   },
   "source": [
    ">\n",
    "> Pour une moyenne mobile $M_k$ d'ordre $k$, s'il existe un réel $\\lambda$, et une série $X = (X_t)_{t\\in \\mathbb{N}^*} ~~$tels que : $$\\forall ~t : M_kX_t = \\lambda X_t$$ alors, **<span style=\"color:LimeGreen\">$\\lambda$ est appelé valeur propre associée au vecteur propre $X = (X_t)_{t\\in \\mathbb{N}^*}$</span>**\n",
    "\n",
    "En particulier, $\\forall ~t$ :  \n",
    "- si $\\lambda = 0$ : $M_kX_t = 0$, la série $X = (X_t)_{t\\in \\mathbb{N}^*}$ est dite **<span style=\"color:LimeGreen\">absorbée</span>** par $M_k$.\n",
    "- si $\\lambda = 1$ : $M_kX_t = X_t$, la série $X = (X_t)_{t\\in \\mathbb{N}^*}$ est dite **<span style=\"color:LimeGreen\">invariante</span>** par $M_k$"
   ]
  },
  {
   "cell_type": "markdown",
   "metadata": {
    "slideshow": {
     "slide_type": "slide"
    }
   },
   "source": [
    "La réduction de la variance de la partie aléatoire $\\epsilon$ d'une série temporelle par une moyenne mobile est plus évidente lors que $\\epsilon$  présente une forme régulière. Une des formes les plus simples de suite de variables aléatoires est le **bruit blanc**  \n",
    "\n",
    ">\n",
    "> Un **<span style=\"color:green\">bruit blanc</span>** est une suite de variables aléatoires $\\epsilon = (\\epsilon_t)_{t\\in \\mathbb{N}^*}$, lorsque $\\forall~~t~$: $\\mathbb{E}(\\epsilon_t) = 0,~~$Var$(\\epsilon_t) = \\delta^2$   \n",
    "\n",
    "Un bruit blanc est dit **fort** si $\\forall ~(t,~t^{'})~:~$ Cov$(\\epsilon_t,~\\epsilon_{t^{'}}) = 0~$; $\\epsilon = (\\epsilon_t)_{t\\in \\mathbb{N}^*}$ est alors une suite indépendante identiquement distribuée (iid)."
   ]
  }
 ],
 "metadata": {
  "kernelspec": {
   "display_name": "R",
   "language": "R",
   "name": "ir"
  },
  "language_info": {
   "codemirror_mode": "r",
   "file_extension": ".r",
   "mimetype": "text/x-r-source",
   "name": "R",
   "pygments_lexer": "r",
   "version": "3.6.1"
  }
 },
 "nbformat": 4,
 "nbformat_minor": 2
}
