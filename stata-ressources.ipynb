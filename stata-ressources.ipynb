{
 "cells": [
  {
   "cell_type": "markdown",
   "metadata": {},
   "source": [
    "# <span style=\"color:chocolate\"> STATA ressources for data processing and analysis...</span>"
   ]
  },
  {
   "cell_type": "markdown",
   "metadata": {},
   "source": [
    "> #### <span style=\"color:teal\"> IBRAHIMA TALL, </span>\n",
    ">\n",
    "> - <span style=\"color:teal\">STATISTICIAN AND ECONOMIST ENGINEER,</span>\n",
    "> - <span style=\"color:teal\">Tel: +221772382463,</span> \n",
    "> - <span style=\"color:teal\">Email:</span> <span style=\"color:blue\">datasciences4ise@gmail.com</span>,\n",
    "> - <span style=\"color:teal\">Github : [Ibrahima Tall](https://github.com/IbrahimaTall)</span>\n",
    ">\n",
    "> <span style=\"color:teal\">Data scientist at national agency of statistic and demograpy (ANSD), Dakar, Senegal</span>"
   ]
  },
  {
   "cell_type": "markdown",
   "metadata": {},
   "source": [
    "****"
   ]
  },
  {
   "cell_type": "markdown",
   "metadata": {},
   "source": [
    "<span style=\"color:coral\"> This is ressources for stata 15 to help data scientist in processing ans analysing data. This is because of STATA is our main software for processing and analysing data. In this notebook i present many commands often use for data scientist and analyst. </span>"
   ]
  },
  {
   "cell_type": "markdown",
   "metadata": {},
   "source": [
    "## <span style=\"color:crimson\"> I. Data loading </span>"
   ]
  },
  {
   "cell_type": "markdown",
   "metadata": {},
   "source": [
    "**<span style=\"color:khaki\"> Data loading includes log files using, looking help for package, packages installation, looking for files, managing directory and data using. </span>**"
   ]
  },
  {
   "cell_type": "code",
   "execution_count": null,
   "metadata": {},
   "outputs": [],
   "source": []
  },
  {
   "cell_type": "markdown",
   "metadata": {},
   "source": [
    "### <span style=\"color:fuchsia\"> I.1 Log using to save the work </span>"
   ]
  },
  {
   "cell_type": "code",
   "execution_count": null,
   "metadata": {},
   "outputs": [],
   "source": [
    "// In order to save our work, we use a log file\n",
    "log using myfile, text replace\n",
    "/* log off: to stop saving\n",
    "   log on: to reactive the save \n",
    "log close */\n"
   ]
  },
  {
   "cell_type": "markdown",
   "metadata": {},
   "source": [
    "### <span style=\"color:fuchsia\"> I.2 Looking for help and research </span>"
   ]
  },
  {
   "cell_type": "code",
   "execution_count": null,
   "metadata": {},
   "outputs": [],
   "source": [
    "* Help command: use command\n",
    "help use\n",
    "help search\n"
   ]
  },
  {
   "cell_type": "markdown",
   "metadata": {},
   "source": [
    "### <span style=\"color:fuchsia\"> I.3 Installing stata packages </span>"
   ]
  },
  {
   "cell_type": "code",
   "execution_count": null,
   "metadata": {},
   "outputs": [],
   "source": [
    "* To install ado-file: outreg ado\n",
    "ssc install fs\n",
    "net install xtable\n"
   ]
  },
  {
   "cell_type": "markdown",
   "metadata": {},
   "source": [
    "### <span style=\"color:fuchsia\"> I.4 Managing directory </span>"
   ]
  },
  {
   "cell_type": "code",
   "execution_count": null,
   "metadata": {},
   "outputs": [],
   "source": [
    "findfile exportstata.ipynb, all //To look at the file\n",
    "fs *.ipynb // print all file in dta format\n",
    "dir // print filename in courant directory\n",
    "ls //Same as dir command\n",
    "pwd //Print working directory\n",
    "cd \"C:\\Users\\ibtall\\Documents\" //Set and define the directory\n",
    "which regress //To see the version of installed ado \n",
    "mkdir new_folder\n",
    "sysdir //Print all stata system directory for installing \n",
    "sysuse dir //Listing the datasets in stata memory\n"
   ]
  },
  {
   "cell_type": "markdown",
   "metadata": {},
   "source": [
    "### <span style=\"color:fuchsia\"> I.5 Loading, saving and exporting data </span>"
   ]
  },
  {
   "cell_type": "code",
   "execution_count": null,
   "metadata": {},
   "outputs": [],
   "source": [
    "sysuse citytemp, clear\n",
    "use \"Outputs\\data.dta\", clear // load stata data in specific path direction\n",
    "import excel \"dt.xlsx\", sheet(\"sheet1\") cellrange(A1:C20) firstrow case(\"lower\")\n",
    "import delimited \"dt.csv\", rowrange(2:20) colrange(1:8) varname(2)\n",
    "webuse set \"https/www.ansd.sn/data\"\n",
    "webuse \"data\"\n",
    "save \"mydata\", nolabel replace orphans // orphans for saving values lables\n",
    "saveold \"myolddata\", version(12) replace nolabel //Saving currant data in specific stata version\n",
    "export excel using mydata.xlsx, replace //Saving currant data in Excel fomat\n",
    "export delimited using mydata.csv, delimiter(\",\") replace //Saving in text file with comma separated values format\n"
   ]
  },
  {
   "cell_type": "markdown",
   "metadata": {},
   "source": [
    "## <span style=\"color:crimson\"> II. Data treatment and wrangling </span>"
   ]
  },
  {
   "cell_type": "markdown",
   "metadata": {},
   "source": [
    "<span style=\"color:gold\"> Here, we present commands that every data scientist will need to process data in</span> <span style=\"color:blue\"> STATA.</span>"
   ]
  },
  {
   "cell_type": "markdown",
   "metadata": {},
   "source": [
    "### <span style=\"color:fuchsia\"> II.1 Looking at the data </span>"
   ]
  },
  {
   "cell_type": "code",
   "execution_count": null,
   "metadata": {},
   "outputs": [],
   "source": [
    "sort region, stable //Sorting data by region and conserved \n",
    "gsort division -region\n",
    "varmanage //To manage varibles attributes to the \"variables manage\" window\n",
    "format tempjuly tempjan %-8.2fc // format types: %0#.#gc; %-#.#fc; %-#.#e; %-tc; %~#s; %-#s; \n",
    "list heatdd if inrange(region,1,3) & ! missing(division)\n",
    "ds, not(type byte)\n",
    "ds, has(varlabel \"region\") insensitive\n",
    "lookfor \"region\" //Research variables contening some world\n",
    "browse in 1/20 //Take a look at the data : Ctrl+8\n",
    "count if inlist(region, 1,2)\n",
    "assert inrange(division, 1, 40) //Verify some logic in whithin variable values\n",
    "describe region\n",
    "codebook division, header notes //Get informations on variables and data set and printing notes\n",
    "by region, sort: inspect tempjuly tempjan //Display summaries of variables using by and sort\n",
    "bysort region: summarize heatdd, meanonly\n",
    "sample 10, by(region) count // (10% without count option)\n",
    "notes region: senegal is not concerning //Add notes to data or variables and print it\n",
    "notes region //Display added notes to the variable\n"
   ]
  },
  {
   "cell_type": "markdown",
   "metadata": {},
   "source": [
    "### <span style=\"color:fuchsia\"> II.2 Changing variables types and duplicates values managing </span>"
   ]
  },
  {
   "cell_type": "code",
   "execution_count": null,
   "metadata": {},
   "outputs": [],
   "source": [
    "recast double region, force //Change the type of variable\n",
    "tostring region, gen(region_str)\n",
    "destring region_str, force replace\n",
    "decode division, gen(division_str) maxlength(20)\n",
    "encode division_str, gen(division_bis) label(division) // label() to specify label values name\n",
    "decode division_bis, gen(division_str2) label(division)\n",
    "mvdecode division region, mv(99 88) // Replace all 88 and 99 by sysmis value==.\n",
    "mvencode _all if regionn == 1 | division < 3, mv(99) //Replace all missing values by 99 for specifics observations\n"
   ]
  },
  {
   "cell_type": "code",
   "execution_count": null,
   "metadata": {},
   "outputs": [],
   "source": [
    "isid region //Look whatever variable identify uniquely observations\n",
    "duplicates report region //Look for number of duplicates values in variable\n",
    "duplicates list region division, sepby(region) //Listing duplicates values of listed variables separated by region\n",
    "duplicates examples region //List some examples of duplicates values of variable\n",
    "duplicates tag region, gen(region_duplic) //Generate new variable of number of duplicated values\n",
    "duplicates drop idvar, force //Drop all duplicated values whithin variable\n"
   ]
  },
  {
   "cell_type": "markdown",
   "metadata": {},
   "source": [
    "### <span style=\"color:fuchsia\"> II.3 Managing Labels and variables renaming </span>"
   ]
  },
  {
   "cell_type": "code",
   "execution_count": 1,
   "metadata": {},
   "outputs": [],
   "source": [
    "help autocode"
   ]
  },
  {
   "cell_type": "code",
   "execution_count": null,
   "metadata": {},
   "outputs": [],
   "source": [
    "label data \"This data base is related to climate informations\" //Labelling currant data\n",
    "label variable region \"The region's names\"\n",
    "label define mylab 1 Hot 2 cold                 //Defining label values names and codes\n",
    "label define mylab 3 \"litle hot\", add replace   //Adding new code to existing value label\n",
    "label define mylab 1 \"very hot\", modify replace //Modifying code label in existing value label\n",
    "label values myvar mylab // Assigning value label to a variable\n",
    "label dir //Printing existing value label names\n",
    "label list //Listing name and content of existing label value\n",
    "label list mylab //Listing content of specific value label\n",
    "label copy mylab mynewlab, replace // copy mylab into mynewlab and replace, mynewlab is now the value label name\n",
    "label save using labdofile, replace // save all value label in a do file, replace existing dofile\n",
    "label save mylab using labfile, replace // save only valu label named mylab\n",
    "label drop _all // drop all value label, we can specify the value label names to be dropped\n"
   ]
  },
  {
   "cell_type": "code",
   "execution_count": null,
   "metadata": {},
   "outputs": [],
   "source": [
    "recode v1 (3/5=0 \"Value 0\") (1/2=1 \"Value 1\"), gen(newv1) label(mylabel) // Recoding v1 into newv1 and new label val\n",
    "recode x1 x2 (1=5) (2=4) (3=3) (4=2) (5=1), pre(n) test // Changing x1 x2 vales, and storing results into nx1 nx2...\n",
    "levelsof region // See levels of categorical variables\n",
    "levelsof region, missing local(region_levels) //store levels, including missing local macro\n",
    "labelbook, limit(20) problems detail //all (max 20) value label and var linked to, we can specify label name\n",
    "numlabel mylab, add mask(\"#.\")     //Transforme label \"very hot\" --> \"1. very hot\"\n",
    "numlabel mylab, remove mask(\"#.\") //Delete the previouse format\n",
    "uselabel using labelbase, clear var //Create dataset of all value label (we can specify value label to save)\n",
    "label language //list the existing label language\n",
    "label language french, new //Create new set of label\n",
    "label language french, copy //Create new set of label by copying the existing one\n",
    "label language french // change label to french label language with is defined earlier\n",
    "label language eng, rename // rename current label set to eng\n",
    "label language french, delete // delete label language named french\n",
    "rename region myregion\n",
    "rename (myregion zone)(region newzone)\n"
   ]
  },
  {
   "cell_type": "markdown",
   "metadata": {},
   "source": [
    "### <span style=\"color:fuchsia\"> II.4 Creating variables </span>"
   ]
  },
  {
   "cell_type": "code",
   "execution_count": null,
   "metadata": {},
   "outputs": [],
   "source": [
    "generate bytes zone = heatdd < mean(heatdd) //Create new variables\n",
    "generate agecat = autocode(age,4,18,65) // 4 equal groups betwen 18 and 65\n",
    "generate byte agecat = recode(age,21,38,64,75) // Groups: . < 21 < 38 < 64 < 75 < .\n",
    "egen myv_count = anycount(division region), values(1 2 3) //Number values in each observations of varlist\n",
    "egen myv_match = anymatch(division region), values(1 2 3) //True (1) or false (0) if content any listed values\n",
    "egen myv_vlues = anyvalue(division), values(1 2 3) //Value of division corresponding to 1 2 or 3\n",
    "egen myv_concat = concat(division region), punct(\"\") //Format(%9s) decode maxlength(10)\n",
    "egen myv_nbnonmiss = count(heatdd), by(division region)\n",
    "egen tempjanclass = cut(tempjan), at(2(10)73) label // == egen tempjanclass = cut(tempjan), at(2(10)73) icodes label\n",
    "egen tempjanclass2 = cut(tempjan), group(5) // == egen tempjanclass = cut(tempjan), group(5) icodes\n",
    "egen myv_diff = diff(division region) //1 if division is different to region\n",
    "egen myv_sub = ends(division_str), punct(\" \") trim last //Trim for deleting first and last space| head last or tail\n",
    "egen myn_fill = fill(11 13 15 17 19 21 23 27) //Listed numbers by increamented the rest of numbers\n",
    "egen myn_group = group(division_str region), missing label truncate(5) //Labelname can be use\n",
    "egen myv_iqr = iqr(tempjuly+tempjan), by(division region) //Ingter Quartile Range\n"
   ]
  },
  {
   "cell_type": "code",
   "execution_count": null,
   "metadata": {},
   "outputs": [],
   "source": [
    "egen myv_pctile = pctile(tempjuly+tempjan), by(division region) p(25) //Ingter Quartile Range\n",
    "egen myn_kurt = kurt(heatdd), by(division region) //Kurtosis of heatdd\n",
    "egen myn_skew = skew(heatdd), by(division region) //Skewness of heatdd\n",
    "egen myv_mad = mad(tempjuly+tempjan), by(division region)\n",
    "egen myv_max = max(tempjuly+tempjan), by(division region)\n",
    "egen myv_mdev = mdev(tempjuly+tempjan), by(division region)\n",
    "egen myv_mean = mean(tempjuly+tempjan), by(division region)\n",
    "egen myn_median = median(tempjuly+tempjan), by(division region)\n",
    "egen myv_min = min(tempjuly+tempjan), by(division region)\n",
    "egen myv_mod = mod(tempjan), by(division_str region) // Most commun temperature of january\n",
    "egen myv_pc = pc(tempjuly+tempjan), by(division region) //Prop obtion to obtain proportions instead of pourcentage\n",
    "egen myv_rank = rank(tempjuly+tempjan), by(division region) unique //Field track | the rank of values in varlist\n",
    "* rowfirst(), rowlast(), rowmax(), rowmean(), rowmedian(), rowpctile() [, p(#)], rowmin(), \n",
    "* row[non]miss()==nb of [non]missing, rowsd(), rowtotal(), \n",
    "egen myv_nomiss = rownonmiss(tempjuly tempjan division_str), strok //This option include missing for string\n"
   ]
  },
  {
   "cell_type": "code",
   "execution_count": null,
   "metadata": {},
   "outputs": [],
   "source": [
    "egen myv_tot = rowtotal(tempjuly tempjan), missing // missing if all are missing instead of zero see also total()\n",
    "egen myv_sd = sd(tempjuly+tempjan), by(division region) // standard deviation\n",
    "egen myv_sep = seq(), from(2) to(90) block(7) by(region division) // create a sequence of integers\n",
    "egen myv_std = std(tempjuly+tempjan), mean(10) std(2)\n",
    "egen myv_tag = tag(division region) //, missing to include missing | look if all values are not missing\n",
    "matrix m = (2,3,4)                    //Create vector of values to be used as mean\n",
    "matrix s = (5,10,20)                  //Create vector of values to be used as standard error\n",
    "drawnorm v_x v_y v_z, means(m) sds(s) //Create three variables of normal distribution\n",
    "separate tempjuly, by( inrange(region, 1,2,3) & tempjan > 10) gen(newtp) shortlabel //sequantial obtion for 1,2,3...\n",
    "pctile myv_decil = tempjuly, nquantiles(10) genp(percentdeci) // create two var containing decile and percent deci\n",
    "xtile myv_xtile = tempjuly, nquantiles(10)     // deciles cretion\n",
    "xtile myv_xtilcut = tempjuly, cutpoints(region) // percentiles with reion as cut points\n",
    "range new_square 0 7*_pi 300 // create new variable from 0 to 7*_pi of 300 observations\n"
   ]
  },
  {
   "cell_type": "markdown",
   "metadata": {},
   "source": [
    "### <span style=\"color:fuchsia\"> II.8 Combining datasets and arranging variables </span>"
   ]
  },
  {
   "cell_type": "code",
   "execution_count": null,
   "metadata": {},
   "outputs": [],
   "source": [
    "append using data // Add observations to the corresponding variables \n",
    "merge 1:1 ID using data //Merge data to current base by ID as key\n",
    "merge m:1 ID using data //Many observations in current base have same ID\n",
    "merge 1:m ID using data //Many observations in using base have same ID\n",
    "set obs 20 //Create new dataset with 20 observations\n",
    "insobs 10, after(2) //nsert 10 new after the 2nd observation\n",
    "expand 2, gen(type) //Duplicates each observation by 2, type = 0 if observation == original dataset\n",
    "order tempjuly tempjan, after(region)\n",
    "*webuse reshape3, clear\n",
    "reshape long inc@r ue, i(id) j(year)\n",
    "reshape wide inc@r ue, i(id) j(year)\n",
    "reshape error //To look at the reshape error\n",
    "xpose, clear varname format(%6.2f) // transpose dataset observations become variables name\n"
   ]
  },
  {
   "cell_type": "markdown",
   "metadata": {},
   "source": [
    "### <span style=\"color:fuchsia\"> II.9 Summarizing variables </span>"
   ]
  },
  {
   "cell_type": "code",
   "execution_count": null,
   "metadata": {},
   "outputs": [],
   "source": [
    "describe\n",
    "summarize\n",
    "sumstats // an other summarize commdand\n",
    "preserve //Save a copy of the data in memory\n",
    "collapse (mean) mheatdd=heatdd (count) nbcooldd=cooldd, by(division region)\n",
    "*save \"statdata.dta\", replace\n",
    "*export excel using \"statdata.xlsx\", replace firstrow(nbcooldd)\n",
    "statsby vmean = r(mean) vsd = r(sd), basepop(region < 4) by(region) total nodots verbose: summarize tempjuly, detail\n",
    "statsby _b _se, basepop(inlist(region, 1,2)) by(region) saving(restemp) total nodots verbose: regress tempjuly templan\n",
    "contract tempjuly tempjan, freq(fvar) percent(pvar) float format(%9.2f) nomiss // Make datasets of frequencies \n",
    "compare tempjuly tempjan, by(region) // look at differences betwen two variables\n",
    "restore // restore the saved data by preserve\n"
   ]
  },
  {
   "cell_type": "markdown",
   "metadata": {},
   "source": [
    "## <span style=\"color:crimson\"> III. Working with string in STATA </span>"
   ]
  },
  {
   "cell_type": "code",
   "execution_count": null,
   "metadata": {},
   "outputs": [],
   "source": [
    "gen division_str2 = abbrev(division_str, 2) // Mountain and pacific will be abbreved\n",
    "gen indregionville = indexnot(division_str2, region_str) // position of first char of division_str2 in region_str\n",
    "gen plusregion = plurial(2, region_str, \"+es\") // + for add and - for substract, 1 not add and 2 to add\n",
    "gen logicmatch = ustrregexm(division_str2, region_str, 1) // 1 or 0 if s1 match with s2\n",
    "gen fisrt_occ = ustrregexrf(divion_str, region_str, \"oui\", 1) // replace by oui first region_str in division_str\n",
    "gen all_occ = ustrregexra(divion_str, region_str, \"ouiall\", 1) // replace by ouiall region_str in division_str\n",
    "gen nospace_div = stritrim(division_str) //remove mutilple space within texte\n",
    "gen divlen = ustrlen(division_str) // Number of chars in text of division\n",
    "gen lowerdiv = ustrlower(division_str, \"fr\") // lowercase in local french : ustrupper(division_str, \"fr\")\n",
    "gen left_trim = ustrltrim(division_str) // no space at left : ustrrtrim(division_str) right trim\n",
    "split region_str, generate(newreg) parse(\" \") limit(3) destring ignore(\"/\") float percent /* Separate string \n",
    "            variables by parse chars, creating 3 new vars, converting in numeric (float) and percent as fraction */\n"
   ]
  },
  {
   "cell_type": "markdown",
   "metadata": {},
   "source": [
    "## <span style=\"color:crimson\"> IV. Tables and graphs </span>"
   ]
  },
  {
   "cell_type": "code",
   "execution_count": null,
   "metadata": {},
   "outputs": [],
   "source": [
    "tabulate division, gen(division_) missing nolabel sort nofreq subop(region) plot matcell(freqstore)\n",
    "tabulate division region, chi2 lrchi2 cchi2 clrchi2 exact gamma taub v column row rowsort colsort nofreq nolabel ///\n",
    " cell expected missing\n",
    "tabulate division, all // equivalent to specifying chi2 lrchi2 V gamma taub\n",
    "tab1 division region, sort // one-way tabulate for many variables\n",
    "tabulate division region, summarize(heatdd) nomean nostandard nofreq nolabel noobs wrap missing\n",
    "tab2 division region zone, row nofreq // Two by two tables comines(n, p)\n",
    "*freq, mean, sd, semean, sebinomial, sepoisson, sum, rawsum, count, n, max, min, median, iqr, pn\n",
    "table division region, by(zone) contents( mean heatdd) center left row column ///\n",
    "  scolumn concise missing replace format(%9.0g) cellwidth(9) csepwidth(9) scsepwidth(9) stubwidth(9)\n",
    "tabstat heatdd, by(division) statistics(mean) format(%9.2fc) save // to save the result in matrix\n"
   ]
  },
  {
   "cell_type": "code",
   "execution_count": null,
   "metadata": {},
   "outputs": [],
   "source": [
    "ir // epitab\n",
    "graph bar cooldd if region == 4 & division > 5, over(zone) over(region) over(division)\n",
    "graph box heatdd cooldd, over(region)\n",
    "graph dot (mean) cooldd, over(division)\n",
    "graph pie cooldd, over(division) plabel(_all percent)\n",
    "graph save \"divgrp\", replace\n",
    "graph pie cooldd, over(region) plabel(_all percent)\n",
    "graph save \"reggraph\", replace\n",
    "graph rename \"reggraph\" \"reggrp\", replace\n",
    "graph combine \"divgrp\" \"reggrp\"\n",
    "graph export my2grp, as(png) width(600) height(450) replace\n"
   ]
  },
  {
   "cell_type": "markdown",
   "metadata": {},
   "source": [
    "## <span style=\"color:crimson\"> V. Programming ressources </span>"
   ]
  },
  {
   "cell_type": "code",
   "execution_count": null,
   "metadata": {},
   "outputs": [],
   "source": [
    "scalar a = 2 //We difine a numeric scalar to store a value\n",
    "scalar b = a + 3 //We can make opertaion with scalar\n",
    "display b\n",
    "scalar txt = \"Je m'appelle\" //We can make a string scalar\n",
    "scalar txt = txt + \" Ibrahima TALL\"\n",
    "di txt\n",
    "scalar dir //We can list all scalars\n",
    "scalar list //Same as above\n",
    "scalar drop _all //We can drop all scalar in memory\n",
    "capture local drop name //Local macros is available only within the defining function or stata session\n",
    "local name Tall and mee\n",
    "di \"`name'\"\n"
   ]
  },
  {
   "cell_type": "code",
   "execution_count": null,
   "metadata": {},
   "outputs": [],
   "source": [
    "local i = 1 // Equal sign mean that expression on rigth will be evaluated\n",
    "local tp: type tempjuly              // local macro \"tp\" refers to variable stored type\n",
    "local lbl: variable label tempjuly // local macro \"lbl\" refers to variable label\n",
    "local vlblname: value label myvar // get value label name \n",
    "local label1 : label (myvar) 1   // get label of the value 1\n",
    "local label2 : label myvarlab 2 // get label of the value 2\n",
    "di \"`: type tempjuly'\" //This attributes can be used in a simple way\n",
    "local cmdprop: properties help //Get command properties\n",
    "di \"`cmdprop'\"\n",
    "quietly tab region division, nofreq row //Get the reuslts of command: scalars|macros|matrices|functions\n",
    "local rescom: r(scalars)\n",
    "di \"`rescom'\"\n",
    "local vsort: sortedby //To see with what variables the data set is sorted\n",
    "di \"`vsort'\"\n",
    "global nom monpere //Global marco\n",
    "di \"$nom\"\n"
   ]
  },
  {
   "cell_type": "code",
   "execution_count": null,
   "metadata": {},
   "outputs": [],
   "source": [
    "macro dir //Listed defined macro\n",
    "macro list //Same as above\n",
    "local vlist moi et toi //To use macro shift we need tokenize command to store list in 1 2 3 so one\n",
    "tokenize `vlist'\n",
    "while \"`1'\" ~= \"\" {\n",
    "    display \"`1'\"\n",
    "    macro shift\n",
    "}\n",
    "foreach x in 1 2 3 { //Foreach using\n",
    "    di \"`x'\"\n",
    "}\n",
    "local i = 1 //While function can combine ++i, i++, --i, i--\n",
    "while (`++i' < 5){\n",
    "    di \"`i*2'\"\n",
    "}\n"
   ]
  },
  {
   "cell_type": "code",
   "execution_count": null,
   "metadata": {},
   "outputs": [],
   "source": [
    "capture program drop talprog //A program that calculate the number of similar characters betwen two strings\n",
    "program define talprog, rclass\n",
    "    version 9.1\n",
    "    syntax varlist(min=2 max=2 string) [=exp] [if] [in] [iweight], [by(varlist) GENerate(name) mult(real 1)]\n",
    "    args x y\n",
    "    marksample touse\n",
    "    local i = 1\n",
    "    local nb = 0\n",
    "    while(i++ <= strlen(`x')){\n",
    "        forvalues j = 1/strlen(`y'){\n",
    "            local nb = `nb' + x[i] == y[j] if `touse' `in'\n",
    "        }\n",
    "    }\n",
    "    return scalar nb\n",
    "end\n",
    "talprog //We call the above program\n",
    "viewsource ml.ado //We can take a look at the content of ado-program\n",
    "help marksample\n"
   ]
  },
  {
   "cell_type": "code",
   "execution_count": null,
   "metadata": {},
   "outputs": [],
   "source": [
    "exit, clear"
   ]
  },
  {
   "cell_type": "code",
   "execution_count": null,
   "metadata": {},
   "outputs": [],
   "source": []
  }
 ],
 "metadata": {
  "kernelspec": {
   "display_name": "Stata",
   "language": "stata",
   "name": "stata"
  },
  "language_info": {
   "codemirror_mode": "stata",
   "file_extension": ".do",
   "mimetype": "text/x-stata",
   "name": "stata",
   "version": "15.1"
  },
  "latex_envs": {
   "LaTeX_envs_menu_present": true,
   "autoclose": false,
   "autocomplete": true,
   "bibliofile": "biblio.bib",
   "cite_by": "apalike",
   "current_citInitial": 1,
   "eqLabelWithNumbers": true,
   "eqNumInitial": 1,
   "hotkeys": {
    "equation": "Ctrl-E",
    "itemize": "Ctrl-I"
   },
   "labels_anchors": false,
   "latex_user_defs": false,
   "report_style_numbering": false,
   "user_envs_cfg": false
  }
 },
 "nbformat": 4,
 "nbformat_minor": 2
}
