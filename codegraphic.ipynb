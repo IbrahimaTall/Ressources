{
 "cells": [
  {
   "cell_type": "code",
   "execution_count": null,
   "metadata": {},
   "outputs": [],
   "source": [
    "# Chargement des packages\n",
    "library(readxl)\n",
    "library(stats)\n",
    "\n",
    "# Lecture de la base\n",
    "base <- read_xlsx(\"TimeSeries.xlsx\", sheet = \"IPC2\")\n",
    "# Declaration de la serie temporelle\n",
    "ipc <- ts(base, start = c(2009,1), end = c(2019,3), frequency = 12)\n",
    "png(file = \"ipc2.png\", width=600, height=350)\n",
    "plot(ipc, xlab = \"Période\", ylab = \"Total population\", col = \"red\", \n",
    "     main = \"FIGURE 1: IPC mensuel du Sénégal de 2009 à 2019\")\n",
    "dev.off()\n",
    "\n",
    "# Lecture de la base sur le PIB\n",
    "base <- read_xlsx(\"TimeSeries.xlsx\", sheet = \"TOURIST\")\n",
    "png(file = \"touristes.png\", width=600, height=350)\n",
    "plot(base$TIME, base$NB2011, type = \"l\", axes = FALSE, col = \"red\", \n",
    "     xlab = \"Trimestres\", ylab = \"Nombre de touristes\", main = \"FIGURE 2: Arrivé des touristes à Aéroport LSS\")+\n",
    " axis(1, 1:4, c(\"Q1\",\"Q2\",\"Q3\",\"Q4\"))+\n",
    " axis(2)+ \n",
    " box()+\n",
    " lines(base$TIME, base$NB2010, col = \"green\")+\n",
    " lines(base$TIME, base$NB2009, col = \"blue\")+\n",
    " lines(base$TIME, base$NB2008, col = \"black\")+\n",
    " lines(base$TIME, base$NB2012, col = \"gold\")\n",
    "legend(x = 1, y = 130000, c(\"2012\",\"2011\",\"2010\",\"2009\",\"2008\"), \n",
    "        cex = 0.8, col = c(\"gold\",\"red\",\"green\",\"blue\",\"black\"), lty = c(1,1))\n",
    "dev.off()"
   ]
  },
  {
   "cell_type": "markdown",
   "metadata": {},
   "source": [
    "3. Si $M_{k_M}$ et $N_{k_N}$ sont deux moyennes mobiles symétriques (ou simplement centrées), alors leur composition ou produit est symétrique (ou simplement centrée).  \n",
    "\n",
    "$~~~~$**<span style=\"color:blue\">Preuve</span>**  \n",
    "$M_{k_M}$ et $N_{k_N}$ centrées : $~~\\Longrightarrow~~k_M = 2m+1$ et $k_N = 2n+1 ~$:\n",
    "$$\n",
    " \\left\\{\n",
    "    \\begin{array}{ll}\n",
    "       k_M = 2m+1 ~~\\mbox{et} & \\mbox{Ordre}(M_{k_M}) = \\mbox{Degré}(P_M)+1 \\\\~~\\\\\n",
    "       k_N = 2n+1 ~~\\mbox{et} & \\mbox{Ordre}(N_{k_N}) = \\mbox{Degré}(P_N)+1\n",
    "    \\end{array}\n",
    "\\right.\n",
    "~~~~~~\\mbox{Degré}(P_MP_N) = \\mbox{Degré}(P_M)+\\mbox{Degré}(P_N)\n",
    "$$\n",
    "\n",
    "$~~~~~~~~~~~~~~~~~~~~~~~~~~~~~~~~~~~~~~~~~~~~~~~~~~~~~~~~~~~~~~~~~~~~~~~~~~~~~~~~~~~~~~~~~~~~~~~~~~~~~~~~~~~~~~~~~~~~~~~~~~~~~~~~~~~~~~~~~~~~~~~~~~~~~~~~~~~~~~~~~~~~~~~~~~~~~~~~~~~~~~~~~~~~~~~~~~~~~~~~~~~~~~~~~~~~~~~~~~~\\bigtriangledown$"
   ]
  },
  {
   "cell_type": "code",
   "execution_count": null,
   "metadata": {},
   "outputs": [],
   "source": []
  }
 ],
 "metadata": {
  "kernelspec": {
   "display_name": "R",
   "language": "R",
   "name": "ir"
  },
  "language_info": {
   "codemirror_mode": "r",
   "file_extension": ".r",
   "mimetype": "text/x-r-source",
   "name": "R",
   "pygments_lexer": "r",
   "version": "3.6.1"
  }
 },
 "nbformat": 4,
 "nbformat_minor": 4
}
